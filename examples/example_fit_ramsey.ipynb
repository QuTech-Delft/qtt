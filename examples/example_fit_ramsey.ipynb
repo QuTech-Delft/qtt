{
 "cells": [
  {
   "cell_type": "markdown",
   "metadata": {},
   "source": [
    "# Fit Ramsey"
   ]
  },
  {
   "cell_type": "raw",
   "metadata": {},
   "source": [
    "Watson, T. F., Philips, S. G. J., Kawakami, E., Ward, D. R., Scarlino, P., Veldhorst, M., … Vandersypen, L. M. K. (2018). A programmable two-qubit quantum processor in silicon. Nature, 555(7698), 633–637. https://doi.org/10.1038/nature25766"
   ]
  },
  {
   "cell_type": "raw",
   "metadata": {},
   "source": [
    "Loading packages:"
   ]
  },
  {
   "cell_type": "code",
   "execution_count": null,
   "metadata": {
    "collapsed": true
   },
   "outputs": [],
   "source": [
    "import numpy as np\n",
    "import matplotlib.pyplot as plt\n",
    "from qtt.algorithms.functions import gauss_ramsey, fit_gauss_ramsey"
   ]
  },
  {
   "cell_type": "raw",
   "metadata": {},
   "source": [
    "Test data, based on the data acquired by Watson et all."
   ]
  },
  {
   "cell_type": "code",
   "execution_count": null,
   "metadata": {
    "collapsed": true
   },
   "outputs": [],
   "source": [
    "y_data = np.array([ 0.60192308,  0.52423077,  0.36192308,  0.18884615,  0.19692308,\n",
    "        0.34615385,  0.52769231,  0.53615385,  0.42615385,  0.28      ,\n",
    "        0.23230769,  0.29923077,  0.43730769,  0.48038462,  0.44384615,\n",
    "        0.33923077,  0.30615385,  0.31615385,  0.39769231,  0.42461538,\n",
    "        0.39807692,  0.37576923,  0.36153846,  0.37230769,  0.38038462,\n",
    "        0.38730769,  0.38730769,  0.35615385,  0.37      ,  0.38192308,\n",
    "        0.38346154,  0.38384615,  0.37      ,  0.38307692,  0.35730769,\n",
    "        0.38692308,  0.38384615,  0.37923077,  0.37576923,  0.38153846])\n",
    "\n",
    "x_data = np.array([i*1.6/40 for i in range(40)])"
   ]
  },
  {
   "cell_type": "raw",
   "metadata": {},
   "source": [
    "Plotting the data:"
   ]
  },
  {
   "cell_type": "code",
   "execution_count": null,
   "metadata": {
    "collapsed": true
   },
   "outputs": [],
   "source": [
    "plt.figure()\n",
    "plt.plot(x_data,y_data, '--o')\n",
    "plt.xlabel(r'time ($\\mu$s)')\n",
    "plt.ylabel('Q1 spin-up probability')\n",
    "plt.show()"
   ]
  },
  {
   "cell_type": "raw",
   "metadata": {},
   "source": [
    "Applying the fit_gauss_ramsey function to fit the data:"
   ]
  },
  {
   "cell_type": "code",
   "execution_count": null,
   "metadata": {
    "collapsed": true
   },
   "outputs": [],
   "source": [
    "test = np.linspace(0,1.6e-6,200)\n",
    "par_fit_test,_ = fit_gauss_ramsey(x_data*1e-6,y_data)\n",
    "freq_fit=abs(par_fit_test[2]*1e-6)"
   ]
  },
  {
   "cell_type": "raw",
   "metadata": {},
   "source": [
    "Plotting the data and the fit:"
   ]
  },
  {
   "cell_type": "code",
   "execution_count": null,
   "metadata": {
    "collapsed": true
   },
   "outputs": [],
   "source": [
    "plt.figure()\n",
    "plt.plot(x_data,y_data, 'o')\n",
    "plt.plot(test*1.0e6,gauss_ramsey(test,par_fit_test),label='Fitted freq: %.1f MHz' % freq_fit)\n",
    "plt.xlabel(r'time ($\\mu$s)')\n",
    "plt.ylabel('Spin-up probability')\n",
    "plt.legend()\n",
    "plt.show()"
   ]
  }
 ],
 "metadata": {
  "kernelspec": {
   "display_name": "Python 3",
   "language": "python",
   "name": "python3"
  },
  "language_info": {
   "codemirror_mode": {
    "name": "ipython",
    "version": 3
   },
   "file_extension": ".py",
   "mimetype": "text/x-python",
   "name": "python",
   "nbconvert_exporter": "python",
   "pygments_lexer": "ipython3",
   "version": "3.6.1"
  }
 },
 "nbformat": 4,
 "nbformat_minor": 2
}
