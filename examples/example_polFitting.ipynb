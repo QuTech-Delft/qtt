{
 "cells": [
  {
   "cell_type": "markdown",
   "metadata": {},
   "source": [
    "# Example of polarization line fitting"
   ]
  },
  {
   "cell_type": "markdown",
   "metadata": {},
   "source": [
    "In this example we demonstrate the fitting of an inter-dot transition line (also known as polarization line). This fitting is useful for determining the tunnel coupling between two quantum dots. More theoretical background about this can be found in [L. DiCarlo et al., Phys. Rev. Lett. 92, 226801 (2004)]."
   ]
  },
  {
   "cell_type": "markdown",
   "metadata": {},
   "source": [
    "Sjaak van diepen - sjaak.vandiepen@tno.nl"
   ]
  },
  {
   "cell_type": "markdown",
   "metadata": {},
   "source": [
    "#### Import the modules used in this example."
   ]
  },
  {
   "cell_type": "code",
   "execution_count": 1,
   "metadata": {
    "collapsed": true
   },
   "outputs": [],
   "source": [
    "import os\n",
    "import matplotlib.pyplot as plt\n",
    "%matplotlib inline\n",
    "\n",
    "import qcodes\n",
    "from qcodes.data.hdf5_format import HDF5Format\n",
    "import qtt\n",
    "from qtt.algorithms.tunneling import fit_pol_all, polmod_all_2slopes"
   ]
  },
  {
   "cell_type": "markdown",
   "metadata": {},
   "source": [
    "#### Define some physical constants."
   ]
  },
  {
   "cell_type": "markdown",
   "metadata": {},
   "source": [
    "The effective electron temperature is the temperature of the electrons in the quantum dots. A method to determine this is to do the polarization line fitting at very low tunnel coupling and then fit relative to the temperature."
   ]
  },
  {
   "cell_type": "code",
   "execution_count": 2,
   "metadata": {
    "collapsed": true
   },
   "outputs": [],
   "source": [
    "h = 4.14  # 4.14 ueV/GHz, Planck's constant\n",
    "kb = 86  # ueV/K, Boltzmann constant\n",
    "kT = 75e-3 * kb  # effective electron temperature in ueV"
   ]
  },
  {
   "cell_type": "markdown",
   "metadata": {},
   "source": [
    "#### Load example data."
   ]
  },
  {
   "cell_type": "markdown",
   "metadata": {},
   "source": [
    "Here we load in an example dataset. The array delta contains the difference in chemical potential between the two dots. The values for this array are in units of ueV. The fitting is not linear in the values of delta, hence to do the fitting it is the easiest to convert the voltages on the gates to energies using the leverarm. One possible method to determine the leverarm uses photon-assisted-tunneling (PAT). The array signal contains the data for the sensor signal, usually measured using reflectometry on a sensing dot. The units for this array are arbitrary."
   ]
  },
  {
   "cell_type": "code",
   "execution_count": 3,
   "metadata": {},
   "outputs": [],
   "source": [
    "exampledatadir = os.path.join(qtt.__path__[0], 'exampledata')\n",
    "qcodes.DataSet.default_io = qcodes.DiskIO(exampledatadir)\n",
    "\n",
    "dataset = qcodes.load_data('2017-02-21/15-59-56', formatter=HDF5Format())\n",
    "delta = dataset.delta.ndarray\n",
    "signal = dataset.signal.ndarray"
   ]
  },
  {
   "cell_type": "markdown",
   "metadata": {},
   "source": [
    "#### Fit."
   ]
  },
  {
   "cell_type": "code",
   "execution_count": 4,
   "metadata": {
    "collapsed": true
   },
   "outputs": [],
   "source": [
    "par_fit, _ = fit_pol_all(delta, signal, kT)"
   ]
  },
  {
   "cell_type": "markdown",
   "metadata": {},
   "source": [
    "#### Plot the fit and the data."
   ]
  },
  {
   "cell_type": "code",
   "execution_count": 5,
   "metadata": {
    "scrolled": true
   },
   "outputs": [
    {
     "data": {
      "image/png": "[encoded data removed]",
      "text/plain": [
       "<matplotlib.figure.Figure at 0x1bca3979668>"
      ]
     },
     "metadata": {},
     "output_type": "display_data"
    }
   ],
   "source": [
    "plt.plot(delta, signal, 'bo')\n",
    "plt.plot(delta, polmod_all_2slopes(delta, par_fit, kT), 'r')\n",
    "plt.title('Tunnel coupling: %.2f (ueV) = %.2f (GHz)' % (par_fit[0], par_fit[0]/h))\n",
    "plt.xlabel('Difference in chemical potentials (ueV)')\n",
    "_ = plt.ylabel('Signal (a.u.)')"
   ]
  },
  {
   "cell_type": "code",
   "execution_count": null,
   "metadata": {
    "collapsed": true
   },
   "outputs": [],
   "source": []
  }
 ],
 "metadata": {
  "anaconda-cloud": {},
  "kernelspec": {
   "display_name": "Python 3",
   "language": "python",
   "name": "python3"
  },
  "language_info": {
   "codemirror_mode": {
    "name": "ipython",
    "version": 3
   },
   "file_extension": ".py",
   "mimetype": "text/x-python",
   "name": "python",
   "nbconvert_exporter": "python",
   "pygments_lexer": "ipython3",
   "version": "3.6.3"
  }
 },
 "nbformat": 4,
 "nbformat_minor": 1
}
