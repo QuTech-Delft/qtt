{
 "cells": [
  {
   "cell_type": "markdown",
   "metadata": {},
   "source": [
    "# Simple measurements"
   ]
  },
  {
   "cell_type": "code",
   "execution_count": 1,
   "metadata": {
    "collapsed": true
   },
   "outputs": [],
   "source": [
    "import qcodes as qc\n",
    "import qtt\n",
    "import numpy as np"
   ]
  },
  {
   "cell_type": "markdown",
   "metadata": {},
   "source": [
    "## Measurements with Parameters"
   ]
  },
  {
   "cell_type": "markdown",
   "metadata": {},
   "source": [
    "We can read out instruments using a qcodes `Parameter`."
   ]
  },
  {
   "cell_type": "code",
   "execution_count": 2,
   "metadata": {},
   "outputs": [
    {
     "name": "stderr",
     "output_type": "stream",
     "text": [
      "WARNING:root:Error getting or interpreting *IDN?: ''\n",
      "WARNING:root:Error getting or interpreting *IDN?: ''\n"
     ]
    },
    {
     "name": "stdout",
     "output_type": "stream",
     "text": [
      "initialized virtual dot system\n"
     ]
    }
   ],
   "source": [
    "import virtualDot\n",
    "station=virtualDot.initialize()\n",
    "gates=station.gates"
   ]
  },
  {
   "cell_type": "code",
   "execution_count": 3,
   "metadata": {},
   "outputs": [
    {
     "name": "stdout",
     "output_type": "stream",
     "text": [
      "-0.16204189711352446\n"
     ]
    }
   ],
   "source": [
    "value=gates.R.get(); print(value)"
   ]
  },
  {
   "cell_type": "markdown",
   "metadata": {},
   "source": [
    "## Measurements with the qcodes Loop"
   ]
  },
  {
   "cell_type": "markdown",
   "metadata": {},
   "source": [
    "For simple measurements we can use the qcodes `Loop` construction. For example to step through gate `R` and measure the output of gate `L` we can do"
   ]
  },
  {
   "cell_type": "code",
   "execution_count": 4,
   "metadata": {},
   "outputs": [
    {
     "name": "stdout",
     "output_type": "stream",
     "text": [
      "DataSet:\n",
      "   mode     = DataMode.LOCAL\n",
      "   location = 'data/2017-03-08/#003_{name}_17-46-13'\n",
      "   <Type>   | <array_id>  | <array.name> | <array.shape>\n",
      "   Setpoint | gates_R_set | R            | (10,)\n",
      "   Measured | gates_L     | L            | (10,)\n",
      "started at 2017-03-08 17:46:13\n"
     ]
    }
   ],
   "source": [
    "dataset = qc.Loop( gates.R[0:10:1]).each(gates.L).run()"
   ]
  },
  {
   "cell_type": "markdown",
   "metadata": {},
   "source": [
    "## Custom measurement loops"
   ]
  },
  {
   "cell_type": "markdown",
   "metadata": {
    "collapsed": true
   },
   "source": [
    "The qcodes loop is not suitable for all measurements. You can also write your own loop constructions. There are already several constructions available. For example make a 2D scan one can use the `qtt.scans.scan2D`"
   ]
  },
  {
   "cell_type": "code",
   "execution_count": 6,
   "metadata": {},
   "outputs": [
    {
     "name": "stdout",
     "output_type": "stream",
     "text": [
      "scan2D: 0/10: time 0.0: setting R to 0.000\n",
      "scan2D: 2/10: time 0.6: setting R to 2.000\n",
      "scan2D: 5/10: time 1.4: setting R to 5.000\n",
      "scan2D: 7/10: time 2.0: setting R to 7.000\n",
      "scan2D: 9/10: time 2.6: setting R to 9.000\n"
     ]
    }
   ],
   "source": [
    "import qtt.scans\n",
    "scanjob={'sweepdata': {'gates':'L', 'start':20,'end':30,'step': .5} , 'stepdata': {'gates': 'R', 'start': 0, 'end': 10, 'step': 1},\n",
    "        'keithleyidx': [1]}\n",
    "dataset=qtt.scans.scan2D(station, scanjob)"
   ]
  },
  {
   "cell_type": "code",
   "execution_count": 11,
   "metadata": {},
   "outputs": [
    {
     "name": "stdout",
     "output_type": "stream",
     "text": [
      "DataSet:\n",
      "   mode     = DataMode.LOCAL\n",
      "   location = 'data/2017-03-08/#004_{name}_17-46-22'\n",
      "   <Type>   | <array_id> | <array.name> | <array.shape>\n",
      "   Setpoint | L          | L            | (10, 20)\n",
      "   Setpoint | R          | R            | (10,)\n",
      "   Measured | measured   | measured     | (10, 20)\n"
     ]
    }
   ],
   "source": [
    "print(dataset)"
   ]
  },
  {
   "cell_type": "markdown",
   "metadata": {},
   "source": [
    "The raw data is available as a DataArray or numpy array."
   ]
  },
  {
   "cell_type": "code",
   "execution_count": 14,
   "metadata": {},
   "outputs": [
    {
     "name": "stdout",
     "output_type": "stream",
     "text": [
      "DataArray[10,20]: measured\n",
      "array([[ 1.99968718,  1.9998667 ,  2.00041717,  2.00039187,  1.99994781,\n",
      "         2.00008511,  2.00046178,  2.00042259,  2.00010443,  1.99974822,\n",
      "         2.00028354,  2.00042148,  1.99971671,  2.00008771,  2.00004879,\n",
      "         2.00026975,  1.99971184,  1.99951887,  2.00011587,  2.0001263 ],\n",
      "       [ 2.00046684,  1.99984109,  1.99960366,  2.00025514,  2.00016398,\n",
      "         1.99968438,  2.0003579 ,  2.00003005,  1.99974843,  1.99999071,\n",
      "         2.0004105 ,  1.99964323,  2.00028145,  1.99976428,  1.99968325,\n",
      "         2.00012736,  2.00008434,  2.00048508,  2.00005989,  2.00010579],\n",
      "       [ 1.99986002,  2.00021364,  2.00031623,  1.99955557,  1.99990807,\n",
      "         1.99954206,  1.99993492,  1.99998871,  2.00026611,  2.00026361,\n",
      "         1.99997996,  2.00011013,  2.00049474,  1.99972193,  2.00037403,\n",
      "         2.00006465,  1.99993835,  1.99958151,  1.99962697,  1.99970792],\n",
      "       [ 2.00004388,  1.9999165 ,  1.99966232,  2.00015582,  1.99951515,\n",
      "         1.9998999 ,  2.00006612,  2.00019363,  1.99968882,  2.00013806,\n",
      "         2.00049295,  2.00014753,  1.99952979,  1.99986609,  1.99966067,\n",
      "         1.99958138,  1.99963472,  2.00043104,  2.00017071,  1.99950156],\n",
      "       [ 2.00025482,  2.00025805,  2.00021647,  2.00012961,  1.99990586,\n",
      "         1.99969916,  1.99978278,  2.00047925,  2.0000835 ,  2.00012736,\n",
      "         2.00002336,  1.99973559,  2.00011293,  2.00035678,  1.99958743,\n",
      "         2.00027651,  1.99975426,  2.00004921,  1.99978395,  2.0003604 ],\n",
      "       [ 1.99967395,  2.00019906,  2.00026202,  1.99967402,  1.99958697,\n",
      "         2.00039714,  2.00030273,  1.99962416,  2.0002109 ,  2.0004075 ,\n",
      "         2.00028388,  1.99993851,  1.99970649,  1.99991623,  1.99997594,\n",
      "         2.00049515,  1.99989237,  1.99994763,  1.99972724,  2.00022652],\n",
      "       [ 1.99976896,  1.99977699,  2.00016553,  1.99970716,  2.00005299,\n",
      "         2.00013422,  2.00037292,  1.99996578,  1.99972714,  1.9995406 ,\n",
      "         2.00029897,  2.00006873,  2.0002175 ,  2.00035734,  1.99950373,\n",
      "         1.99971141,  2.00001189,  2.00042859,  2.00021427,  1.99981266],\n",
      "       [ 1.99977702,  2.00024755,  2.0003875 ,  2.00017454,  1.99958176,\n",
      "         2.00040083,  1.999516  ,  1.99959204,  2.00005786,  2.00014219,\n",
      "         2.00008645,  2.00022601,  2.00027352,  2.00048622,  1.99966071,\n",
      "         1.99995253,  2.00015454,  2.00043132,  2.00034817,  2.0002829 ],\n",
      "       [ 1.9998715 ,  1.99992267,  2.00030059,  2.00022651,  1.99994072,\n",
      "         2.00000165,  1.99984917,  1.99975158,  2.00045484,  2.00007956,\n",
      "         2.00017344,  1.99986204,  1.99958374,  1.99969828,  2.00043893,\n",
      "         1.99965693,  2.00049497,  2.00044625,  2.00048443,  1.99997358],\n",
      "       [ 2.0003716 ,  1.99999272,  2.00008721,  2.00040838,  2.00011029,\n",
      "         2.00011939,  1.99987328,  1.99963503,  2.0001811 ,  1.99981773,\n",
      "         2.00014993,  1.99983497,  1.99994423,  2.00012285,  1.99955215,\n",
      "         1.99964754,  2.00001048,  2.00049947,  1.99983004,  1.99982361]])\n"
     ]
    }
   ],
   "source": [
    "print(dataset.measured)"
   ]
  },
  {
   "cell_type": "code",
   "execution_count": 15,
   "metadata": {},
   "outputs": [
    {
     "name": "stdout",
     "output_type": "stream",
     "text": [
      "[[ 1.99968718  1.9998667   2.00041717  2.00039187  1.99994781  2.00008511\n",
      "   2.00046178  2.00042259  2.00010443  1.99974822  2.00028354  2.00042148\n",
      "   1.99971671  2.00008771  2.00004879  2.00026975  1.99971184  1.99951887\n",
      "   2.00011587  2.0001263 ]\n",
      " [ 2.00046684  1.99984109  1.99960366  2.00025514  2.00016398  1.99968438\n",
      "   2.0003579   2.00003005  1.99974843  1.99999071  2.0004105   1.99964323\n",
      "   2.00028145  1.99976428  1.99968325  2.00012736  2.00008434  2.00048508\n",
      "   2.00005989  2.00010579]\n",
      " [ 1.99986002  2.00021364  2.00031623  1.99955557  1.99990807  1.99954206\n",
      "   1.99993492  1.99998871  2.00026611  2.00026361  1.99997996  2.00011013\n",
      "   2.00049474  1.99972193  2.00037403  2.00006465  1.99993835  1.99958151\n",
      "   1.99962697  1.99970792]\n",
      " [ 2.00004388  1.9999165   1.99966232  2.00015582  1.99951515  1.9998999\n",
      "   2.00006612  2.00019363  1.99968882  2.00013806  2.00049295  2.00014753\n",
      "   1.99952979  1.99986609  1.99966067  1.99958138  1.99963472  2.00043104\n",
      "   2.00017071  1.99950156]\n",
      " [ 2.00025482  2.00025805  2.00021647  2.00012961  1.99990586  1.99969916\n",
      "   1.99978278  2.00047925  2.0000835   2.00012736  2.00002336  1.99973559\n",
      "   2.00011293  2.00035678  1.99958743  2.00027651  1.99975426  2.00004921\n",
      "   1.99978395  2.0003604 ]\n",
      " [ 1.99967395  2.00019906  2.00026202  1.99967402  1.99958697  2.00039714\n",
      "   2.00030273  1.99962416  2.0002109   2.0004075   2.00028388  1.99993851\n",
      "   1.99970649  1.99991623  1.99997594  2.00049515  1.99989237  1.99994763\n",
      "   1.99972724  2.00022652]\n",
      " [ 1.99976896  1.99977699  2.00016553  1.99970716  2.00005299  2.00013422\n",
      "   2.00037292  1.99996578  1.99972714  1.9995406   2.00029897  2.00006873\n",
      "   2.0002175   2.00035734  1.99950373  1.99971141  2.00001189  2.00042859\n",
      "   2.00021427  1.99981266]\n",
      " [ 1.99977702  2.00024755  2.0003875   2.00017454  1.99958176  2.00040083\n",
      "   1.999516    1.99959204  2.00005786  2.00014219  2.00008645  2.00022601\n",
      "   2.00027352  2.00048622  1.99966071  1.99995253  2.00015454  2.00043132\n",
      "   2.00034817  2.0002829 ]\n",
      " [ 1.9998715   1.99992267  2.00030059  2.00022651  1.99994072  2.00000165\n",
      "   1.99984917  1.99975158  2.00045484  2.00007956  2.00017344  1.99986204\n",
      "   1.99958374  1.99969828  2.00043893  1.99965693  2.00049497  2.00044625\n",
      "   2.00048443  1.99997358]\n",
      " [ 2.0003716   1.99999272  2.00008721  2.00040838  2.00011029  2.00011939\n",
      "   1.99987328  1.99963503  2.0001811   1.99981773  2.00014993  1.99983497\n",
      "   1.99994423  2.00012285  1.99955215  1.99964754  2.00001048  2.00049947\n",
      "   1.99983004  1.99982361]]\n"
     ]
    }
   ],
   "source": [
    "print(np.array(dataset.measured))"
   ]
  },
  {
   "cell_type": "code",
   "execution_count": null,
   "metadata": {
    "collapsed": true
   },
   "outputs": [],
   "source": []
  }
 ],
 "metadata": {
  "kernelspec": {
   "display_name": "Python 3",
   "language": "python",
   "name": "python3"
  },
  "language_info": {
   "codemirror_mode": {
    "name": "ipython",
    "version": 3
   },
   "file_extension": ".py",
   "mimetype": "text/x-python",
   "name": "python",
   "nbconvert_exporter": "python",
   "pygments_lexer": "ipython3",
   "version": "3.5.2"
  }
 },
 "nbformat": 4,
 "nbformat_minor": 1
}
