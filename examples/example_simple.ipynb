{
 "cells": [
  {
   "cell_type": "markdown",
   "metadata": {},
   "source": [
    "# Simple measurements"
   ]
  },
  {
   "cell_type": "code",
   "execution_count": 1,
   "metadata": {
    "collapsed": true
   },
   "outputs": [],
   "source": [
    "import qcodes as qc\n",
    "import qtt\n",
    "import numpy as np"
   ]
  },
  {
   "cell_type": "markdown",
   "metadata": {},
   "source": [
    "## Measurements with Parameters"
   ]
  },
  {
   "cell_type": "markdown",
   "metadata": {},
   "source": [
    "We can read out instruments using a qcodes `Parameter`."
   ]
  },
  {
   "cell_type": "code",
   "execution_count": 2,
   "metadata": {},
   "outputs": [
    {
     "name": "stdout",
     "output_type": "stream",
     "text": [
      "initialize: create DotModel on server None \n",
      "initialize: DotModel created\n",
      "initialize: set values on T and R gate\n",
      "initialize: create keithley1\n",
      "initialize: create keithley3\n",
      "initialized virtual dot system\n"
     ]
    }
   ],
   "source": [
    "import virtualDot\n",
    "station=virtualDot.initialize()\n",
    "gates=station.gates"
   ]
  },
  {
   "cell_type": "code",
   "execution_count": 3,
   "metadata": {},
   "outputs": [
    {
     "name": "stdout",
     "output_type": "stream",
     "text": [
      "0.395054350117122\n"
     ]
    }
   ],
   "source": [
    "value=gates.R.get(); print(value)"
   ]
  },
  {
   "cell_type": "markdown",
   "metadata": {},
   "source": [
    "## Measurements with the qcodes Loop"
   ]
  },
  {
   "cell_type": "markdown",
   "metadata": {},
   "source": [
    "For simple measurements we can use the qcodes `Loop` construction. For example to step through gate `R` and measure the output of gate `L` we can do"
   ]
  },
  {
   "cell_type": "code",
   "execution_count": 4,
   "metadata": {},
   "outputs": [
    {
     "name": "stdout",
     "output_type": "stream",
     "text": [
      "DataSet:\n",
      "   location = '2017-05-30/23-18-37_qtt_generic'\n",
      "   <Type>   | <array_id>  | <array.name> | <array.shape>\n",
      "   Setpoint | gates_R_set | R            | (10,)\n",
      "   Measured | gates_L     | L            | (10,)\n",
      "started at 2017-05-30 23:18:37\n"
     ]
    }
   ],
   "source": [
    "dataset = qc.Loop( gates.R[0:10:1]).each(gates.L).run()"
   ]
  },
  {
   "cell_type": "markdown",
   "metadata": {},
   "source": [
    "## Custom measurement loops"
   ]
  },
  {
   "cell_type": "markdown",
   "metadata": {
    "collapsed": true
   },
   "source": [
    "The qcodes loop is not suitable for all measurements. You can also write your own loop constructions. There are already several constructions available. For example make a 2D scan one can use the `qtt.scans.scan2D`"
   ]
  },
  {
   "cell_type": "code",
   "execution_count": 5,
   "metadata": {},
   "outputs": [
    {
     "name": "stdout",
     "output_type": "stream",
     "text": [
      "scan2D: 0/7: time 0.0: setting R to 0.000\n"
     ]
    }
   ],
   "source": [
    "import qtt.measurements.scans\n",
    "scanjob=qtt.measurements.scans.scanjob_t({'sweepdata': {'param':'L', 'start':20,'end':28,'step': 1.75} , \n",
    "         'stepdata': {'param': 'R', 'start': 0, 'end': 7, 'step': 1}, 'minstrument': [1]})\n",
    "dataset=qtt.measurements.scans.scan2D(station, scanjob)"
   ]
  },
  {
   "cell_type": "code",
   "execution_count": 6,
   "metadata": {},
   "outputs": [
    {
     "name": "stdout",
     "output_type": "stream",
     "text": [
      "DataSet:\n",
      "   location = '2017-05-30/23-18-37_qtt_scan2D'\n",
      "   <Type>   | <array_id>          | <array.name>        | <array.shape>\n",
      "   Setpoint | L                   | L                   | (7, 5)\n",
      "   Measured | keithley1_amplitude | keithley1_amplitude | (7, 5)\n",
      "   Setpoint | R                   | R                   | (7,)\n"
     ]
    }
   ],
   "source": [
    "print(dataset)"
   ]
  },
  {
   "cell_type": "markdown",
   "metadata": {},
   "source": [
    "The raw data is available as a DataArray or numpy array."
   ]
  },
  {
   "cell_type": "code",
   "execution_count": 8,
   "metadata": {},
   "outputs": [
    {
     "name": "stdout",
     "output_type": "stream",
     "text": [
      "DataArray[7,5]: keithley1_amplitude\n",
      "array([[ 2.00024643,  2.00021234,  1.99956234,  1.9996637 ,  1.99974772],\n",
      "       [ 1.99969843,  1.99994847,  1.99950189,  1.9995708 ,  1.99971487],\n",
      "       [ 2.00038769,  2.00037314,  2.00027356,  2.00016401,  2.00029192],\n",
      "       [ 1.99984132,  2.00018436,  1.99957467,  2.00019353,  1.99957957],\n",
      "       [ 1.99978679,  2.00035857,  1.99993032,  1.99999484,  2.00027225],\n",
      "       [ 1.999854  ,  1.99959911,  2.00032866,  2.00016721,  2.0003593 ],\n",
      "       [ 2.00006974,  2.00000042,  1.99952588,  2.00019048,  2.00003826]])\n"
     ]
    }
   ],
   "source": [
    "print(dataset.default_parameter_array())"
   ]
  },
  {
   "cell_type": "code",
   "execution_count": 9,
   "metadata": {},
   "outputs": [
    {
     "name": "stdout",
     "output_type": "stream",
     "text": [
      "[[ 2.00024643  2.00021234  1.99956234  1.9996637   1.99974772]\n",
      " [ 1.99969843  1.99994847  1.99950189  1.9995708   1.99971487]\n",
      " [ 2.00038769  2.00037314  2.00027356  2.00016401  2.00029192]\n",
      " [ 1.99984132  2.00018436  1.99957467  2.00019353  1.99957957]\n",
      " [ 1.99978679  2.00035857  1.99993032  1.99999484  2.00027225]\n",
      " [ 1.999854    1.99959911  2.00032866  2.00016721  2.0003593 ]\n",
      " [ 2.00006974  2.00000042  1.99952588  2.00019048  2.00003826]]\n"
     ]
    }
   ],
   "source": [
    "print(np.array(dataset.default_parameter_array()))"
   ]
  },
  {
   "cell_type": "code",
   "execution_count": null,
   "metadata": {
    "collapsed": true
   },
   "outputs": [],
   "source": []
  }
 ],
 "metadata": {
  "kernelspec": {
   "display_name": "Python 3",
   "language": "python",
   "name": "python3"
  },
  "language_info": {
   "codemirror_mode": {
    "name": "ipython",
    "version": 3
   },
   "file_extension": ".py",
   "mimetype": "text/x-python",
   "name": "python",
   "nbconvert_exporter": "python",
   "pygments_lexer": "ipython3",
   "version": "3.5.2"
  }
 },
 "nbformat": 4,
 "nbformat_minor": 1
}
