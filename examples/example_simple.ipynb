{
 "cells": [
  {
   "cell_type": "markdown",
   "metadata": {},
   "source": [
    "# Simple measurements"
   ]
  },
  {
   "cell_type": "code",
   "execution_count": 1,
   "metadata": {
    "collapsed": true
   },
   "outputs": [],
   "source": [
    "import qcodes as qc\n",
    "import qtt\n",
    "import numpy as np"
   ]
  },
  {
   "cell_type": "markdown",
   "metadata": {},
   "source": [
    "## Measurements with Parameters"
   ]
  },
  {
   "cell_type": "markdown",
   "metadata": {},
   "source": [
    "We can read out instruments using a qcodes `Parameter`."
   ]
  },
  {
   "cell_type": "code",
   "execution_count": 2,
   "metadata": {
    "collapsed": false
   },
   "outputs": [
    {
     "name": "stdout",
     "output_type": "stream",
     "text": [
      "initialized virtual dot system\n"
     ]
    }
   ],
   "source": [
    "import virtualDot\n",
    "station=virtualDot.initialize()\n",
    "gates=station.gates"
   ]
  },
  {
   "cell_type": "code",
   "execution_count": 3,
   "metadata": {
    "collapsed": false
   },
   "outputs": [
    {
     "name": "stdout",
     "output_type": "stream",
     "text": [
      "-0.42503390843673006\n"
     ]
    }
   ],
   "source": [
    "value=gates.R.get(); print(value)"
   ]
  },
  {
   "cell_type": "markdown",
   "metadata": {},
   "source": [
    "## Measurements with the qcodes Loop"
   ]
  },
  {
   "cell_type": "markdown",
   "metadata": {},
   "source": [
    "For simple measurements we can use the qcodes `Loop` construction. For example to step through gate `R` and measure the output of gate `L` we can do"
   ]
  },
  {
   "cell_type": "code",
   "execution_count": 4,
   "metadata": {
    "collapsed": false
   },
   "outputs": [
    {
     "name": "stdout",
     "output_type": "stream",
     "text": [
      "DataSet:\n",
      "   mode     = DataMode.LOCAL\n",
      "   location = '2017-03-13/11-20-13_qtt_generic'\n",
      "   <Type>   | <array_id>  | <array.name> | <array.shape>\n",
      "   Setpoint | gates_R_set | R            | (10,)\n",
      "   Measured | gates_L     | L            | (10,)\n",
      "started at 2017-03-13 11:20:13\n"
     ]
    }
   ],
   "source": [
    "dataset = qc.Loop( gates.R[0:10:1]).each(gates.L).run()"
   ]
  },
  {
   "cell_type": "markdown",
   "metadata": {},
   "source": [
    "## Custom measurement loops"
   ]
  },
  {
   "cell_type": "markdown",
   "metadata": {
    "collapsed": true
   },
   "source": [
    "The qcodes loop is not suitable for all measurements. You can also write your own loop constructions. There are already several constructions available. For example make a 2D scan one can use the `qtt.scans.scan2D`"
   ]
  },
  {
   "cell_type": "code",
   "execution_count": 6,
   "metadata": {
    "collapsed": false
   },
   "outputs": [
    {
     "name": "stdout",
     "output_type": "stream",
     "text": [
      "scan2D: 0/7: time 0.0: setting R to 0.000\n"
     ]
    }
   ],
   "source": [
    "import qtt.scans\n",
    "scanjob={'sweepdata': {'param':'L', 'start':20,'end':28,'step': 1.75} , \n",
    "         'stepdata': {'param': 'R', 'start': 0, 'end': 7, 'step': 1}, 'minstrument': [1]}\n",
    "dataset=qtt.scans.scan2D(station, scanjob)"
   ]
  },
  {
   "cell_type": "code",
   "execution_count": 7,
   "metadata": {
    "collapsed": false
   },
   "outputs": [
    {
     "name": "stdout",
     "output_type": "stream",
     "text": [
      "DataSet:\n",
      "   mode     = DataMode.LOCAL\n",
      "   location = '2017-03-13/11-20-27_qtt_scan2D'\n",
      "   <Type>   | <array_id> | <array.name> | <array.shape>\n",
      "   Setpoint | R          | R            | (7,)\n",
      "   Setpoint | L          | L            | (7, 5)\n",
      "   Measured | measured   | measured     | (7, 5)\n"
     ]
    }
   ],
   "source": [
    "print(dataset)"
   ]
  },
  {
   "cell_type": "markdown",
   "metadata": {},
   "source": [
    "The raw data is available as a DataArray or numpy array."
   ]
  },
  {
   "cell_type": "code",
   "execution_count": 15,
   "metadata": {
    "collapsed": false
   },
   "outputs": [
    {
     "name": "stdout",
     "output_type": "stream",
     "text": [
      "DataArray[7,5]: measured\n",
      "array([[ 1.99984338,  1.99978986,  2.00018354,  1.99971727,  2.00027464],\n",
      "       [ 1.9996141 ,  1.99993704,  2.00016944,  1.99964349,  2.00046332],\n",
      "       [ 2.00000793,  1.99973201,  1.99973223,  1.999501  ,  1.99996762],\n",
      "       [ 2.00005122,  1.99961107,  1.99959229,  2.00027465,  2.00039056],\n",
      "       [ 1.99996954,  2.00037986,  1.99973189,  1.99989137,  1.99981254],\n",
      "       [ 2.00048518,  2.00037039,  1.99982173,  1.99961821,  1.99983125],\n",
      "       [ 2.00040001,  2.00008278,  2.00038954,  2.00048322,  1.99952691]])\n"
     ]
    }
   ],
   "source": [
    "print(dataset.measured)"
   ]
  },
  {
   "cell_type": "code",
   "execution_count": 16,
   "metadata": {
    "collapsed": false
   },
   "outputs": [
    {
     "name": "stdout",
     "output_type": "stream",
     "text": [
      "[[ 1.99984338  1.99978986  2.00018354  1.99971727  2.00027464]\n",
      " [ 1.9996141   1.99993704  2.00016944  1.99964349  2.00046332]\n",
      " [ 2.00000793  1.99973201  1.99973223  1.999501    1.99996762]\n",
      " [ 2.00005122  1.99961107  1.99959229  2.00027465  2.00039056]\n",
      " [ 1.99996954  2.00037986  1.99973189  1.99989137  1.99981254]\n",
      " [ 2.00048518  2.00037039  1.99982173  1.99961821  1.99983125]\n",
      " [ 2.00040001  2.00008278  2.00038954  2.00048322  1.99952691]]\n"
     ]
    }
   ],
   "source": [
    "print(np.array(dataset.measured))"
   ]
  },
  {
   "cell_type": "code",
   "execution_count": null,
   "metadata": {
    "collapsed": true
   },
   "outputs": [],
   "source": []
  }
 ],
 "metadata": {
  "kernelspec": {
   "display_name": "Python 3",
   "language": "python",
   "name": "python3"
  },
  "language_info": {
   "codemirror_mode": {
    "name": "ipython",
    "version": 3
   },
   "file_extension": ".py",
   "mimetype": "text/x-python",
   "name": "python",
   "nbconvert_exporter": "python",
   "pygments_lexer": "ipython3",
   "version": "3.5.2"
  }
 },
 "nbformat": 4,
 "nbformat_minor": 1
}
