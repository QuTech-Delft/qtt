{
 "cells": [
  {
   "cell_type": "markdown",
   "metadata": {},
   "source": [
    "# Simple measurements"
   ]
  },
  {
   "cell_type": "code",
   "execution_count": 1,
   "metadata": {
    "collapsed": true
   },
   "outputs": [],
   "source": [
    "import qcodes as qc\n",
    "import qtt\n",
    "import numpy as np"
   ]
  },
  {
   "cell_type": "markdown",
   "metadata": {},
   "source": [
    "## Measurements with Parameters"
   ]
  },
  {
   "cell_type": "markdown",
   "metadata": {},
   "source": [
    "We can read out instruments using a qcodes `Parameter`."
   ]
  },
  {
   "cell_type": "code",
   "execution_count": 2,
   "metadata": {
    "collapsed": false
   },
   "outputs": [
    {
     "name": "stdout",
     "output_type": "stream",
     "text": [
      "sys.executable /usr/bin/python3\n",
      "initialize: create DotModel on server None \n",
      "initialize: DotModel created\n",
      "initialize: set values on T and R gate\n",
      "initialize: create keithley1\n",
      "initialize: create keithley3\n",
      "initialized virtual dot system\n"
     ]
    }
   ],
   "source": [
    "import virtualDot\n",
    "station=virtualDot.initialize()\n",
    "gates=station.gates"
   ]
  },
  {
   "cell_type": "code",
   "execution_count": 3,
   "metadata": {
    "collapsed": false
   },
   "outputs": [
    {
     "name": "stdout",
     "output_type": "stream",
     "text": [
      "-0.17812622545775847\n"
     ]
    }
   ],
   "source": [
    "value=gates.R.get(); print(value)"
   ]
  },
  {
   "cell_type": "markdown",
   "metadata": {},
   "source": [
    "## Measurements with the qcodes Loop"
   ]
  },
  {
   "cell_type": "markdown",
   "metadata": {},
   "source": [
    "For simple measurements we can use the qcodes `Loop` construction. For example to step through gate `R` and measure the output of gate `L` we can do"
   ]
  },
  {
   "cell_type": "code",
   "execution_count": 4,
   "metadata": {
    "collapsed": false
   },
   "outputs": [
    {
     "name": "stdout",
     "output_type": "stream",
     "text": [
      "DataSet:\n",
      "   mode     = DataMode.LOCAL\n",
      "   location = '2017-03-26/22-13-08_qtt_generic'\n",
      "   <Type>   | <array_id>  | <array.name> | <array.shape>\n",
      "   Setpoint | gates_R_set | R            | (10,)\n",
      "   Measured | gates_L     | L            | (10,)\n",
      "started at 2017-03-26 22:13:08\n"
     ]
    }
   ],
   "source": [
    "dataset = qc.Loop( gates.R[0:10:1]).each(gates.L).run()"
   ]
  },
  {
   "cell_type": "markdown",
   "metadata": {},
   "source": [
    "## Custom measurement loops"
   ]
  },
  {
   "cell_type": "markdown",
   "metadata": {
    "collapsed": true
   },
   "source": [
    "The qcodes loop is not suitable for all measurements. You can also write your own loop constructions. There are already several constructions available. For example make a 2D scan one can use the `qtt.scans.scan2D`"
   ]
  },
  {
   "cell_type": "code",
   "execution_count": 5,
   "metadata": {
    "collapsed": false
   },
   "outputs": [
    {
     "name": "stdout",
     "output_type": "stream",
     "text": [
      "scan2D: 0/7: time 0.0: setting R to 0.000\n"
     ]
    }
   ],
   "source": [
    "import qtt.scans\n",
    "scanjob={'sweepdata': {'param':'L', 'start':20,'end':28,'step': 1.75} , \n",
    "         'stepdata': {'param': 'R', 'start': 0, 'end': 7, 'step': 1}, 'minstrument': [1]}\n",
    "dataset=qtt.scans.scan2D(station, scanjob)"
   ]
  },
  {
   "cell_type": "code",
   "execution_count": 6,
   "metadata": {
    "collapsed": false
   },
   "outputs": [
    {
     "name": "stdout",
     "output_type": "stream",
     "text": [
      "DataSet:\n",
      "   mode     = DataMode.LOCAL\n",
      "   location = '2017-03-26/22-13-08_qtt_scan2D'\n",
      "   <Type>   | <array_id> | <array.name> | <array.shape>\n",
      "   Setpoint | L          | L            | (7, 5)\n",
      "   Measured | measured   | measured     | (7, 5)\n",
      "   Setpoint | R          | R            | (7,)\n"
     ]
    }
   ],
   "source": [
    "print(dataset)"
   ]
  },
  {
   "cell_type": "markdown",
   "metadata": {},
   "source": [
    "The raw data is available as a DataArray or numpy array."
   ]
  },
  {
   "cell_type": "code",
   "execution_count": 7,
   "metadata": {
    "collapsed": false
   },
   "outputs": [
    {
     "name": "stdout",
     "output_type": "stream",
     "text": [
      "DataArray[7,5]: measured\n",
      "array([[ 2.00029541,  2.00045264,  1.99950553,  2.0003982 ,  2.00000208],\n",
      "       [ 1.99956763,  2.00017546,  1.99971754,  2.00004265,  1.99958718],\n",
      "       [ 1.99982826,  1.99978494,  2.00046348,  1.99975577,  2.00033203],\n",
      "       [ 1.99964066,  2.00010396,  1.99981666,  2.00002618,  2.00034882],\n",
      "       [ 1.99980212,  1.99989697,  1.99986868,  2.00007459,  1.99961644],\n",
      "       [ 1.99990109,  1.99953147,  2.0004047 ,  2.00037675,  1.99983803],\n",
      "       [ 2.00019722,  1.99965588,  2.00044328,  2.00019438,  1.9996171 ]])\n"
     ]
    }
   ],
   "source": [
    "print(dataset.measured)"
   ]
  },
  {
   "cell_type": "code",
   "execution_count": 8,
   "metadata": {
    "collapsed": false
   },
   "outputs": [
    {
     "name": "stdout",
     "output_type": "stream",
     "text": [
      "[[ 2.00029541  2.00045264  1.99950553  2.0003982   2.00000208]\n",
      " [ 1.99956763  2.00017546  1.99971754  2.00004265  1.99958718]\n",
      " [ 1.99982826  1.99978494  2.00046348  1.99975577  2.00033203]\n",
      " [ 1.99964066  2.00010396  1.99981666  2.00002618  2.00034882]\n",
      " [ 1.99980212  1.99989697  1.99986868  2.00007459  1.99961644]\n",
      " [ 1.99990109  1.99953147  2.0004047   2.00037675  1.99983803]\n",
      " [ 2.00019722  1.99965588  2.00044328  2.00019438  1.9996171 ]]\n"
     ]
    }
   ],
   "source": [
    "print(np.array(dataset.measured))"
   ]
  },
  {
   "cell_type": "code",
   "execution_count": null,
   "metadata": {
    "collapsed": true
   },
   "outputs": [],
   "source": []
  }
 ],
 "metadata": {
  "kernelspec": {
   "display_name": "Python 3",
   "language": "python",
   "name": "python3"
  },
  "language_info": {
   "codemirror_mode": {
    "name": "ipython",
    "version": 3
   },
   "file_extension": ".py",
   "mimetype": "text/x-python",
   "name": "python",
   "nbconvert_exporter": "python",
   "pygments_lexer": "ipython3",
   "version": "3.5.2"
  }
 },
 "nbformat": 4,
 "nbformat_minor": 1
}
