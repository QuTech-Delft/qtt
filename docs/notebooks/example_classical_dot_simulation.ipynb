{
 "cells": [
  {
   "cell_type": "markdown",
   "metadata": {},
   "source": [
    "# Simulation of quantum dots"
   ]
  },
  {
   "cell_type": "markdown",
   "metadata": {},
   "source": [
    "In this file we show some of the capabilities of the `ClassicalDotSystem`, which can simular simple quantum dot systems."
   ]
  },
  {
   "cell_type": "code",
   "execution_count": 17,
   "metadata": {
    "collapsed": false
   },
   "outputs": [],
   "source": [
    "import numpy as np\n",
    "import matplotlib.pyplot as plt\n",
    "%matplotlib inline\n",
    "\n",
    "from qtt.simulation.classicaldotsystem import ClassicalDotSystem, TripleDot"
   ]
  },
  {
   "cell_type": "markdown",
   "metadata": {},
   "source": [
    "We define a triple-dot system using the `TripleDot` class, which is a special case of the `ClassicalDotSystem`."
   ]
  },
  {
   "cell_type": "code",
   "execution_count": 5,
   "metadata": {
    "collapsed": false
   },
   "outputs": [],
   "source": [
    "test_dot = TripleDot()"
   ]
  },
  {
   "cell_type": "markdown",
   "metadata": {},
   "source": [
    "The function `calculate_ground_state` calculates the number of electrons in the ground state for given values of the dot gates in the dots."
   ]
  },
  {
   "cell_type": "code",
   "execution_count": 21,
   "metadata": {
    "collapsed": false
   },
   "outputs": [
    {
     "name": "stdout",
     "output_type": "stream",
     "text": [
      "[0 0 0]\n",
      "[1 0 1]\n"
     ]
    }
   ],
   "source": [
    "temp_state = test_dot.calculate_ground_state(np.array([0,0,0]));\n",
    "print(temp_state)\n",
    "temp_state = test_dot.calculate_ground_state(np.array([120,0,100]));\n",
    "print(temp_state)"
   ]
  },
  {
   "cell_type": "code",
   "execution_count": 28,
   "metadata": {
    "collapsed": false
   },
   "outputs": [
    {
     "name": "stdout",
     "output_type": "stream",
     "text": [
      "simulatehoneycomb: 0/150\n",
      "simulatehoneycomb: 0.24 [s]\n"
     ]
    }
   ],
   "source": [
    "# make a test gate plane\n",
    "nx = 150\n",
    "ny = 150\n",
    "test2Dparams = np.zeros((3,nx,ny))\n",
    "sweepx = np.linspace(0, 300, nx)\n",
    "sweepy = np.linspace(0, 300, ny)\n",
    "xv, yv = np.meshgrid(sweepx, sweepy)\n",
    "test2Dparams[0] = xv+.1*yv\n",
    "xv, yv = np.meshgrid(sweepy, sweepx)\n",
    "test2Dparams[1] = .1*xv+yv\n",
    "\n",
    "# run the honeycomb simulation\n",
    "test_dot.simulate_honeycomb(test2Dparams, multiprocess=False, verbose=1)"
   ]
  },
  {
   "cell_type": "code",
   "execution_count": 29,
   "metadata": {
    "collapsed": false
   },
   "outputs": [
    {
     "data": {
      "image/png": "[encoded data removed]",
      "text/plain": [
       "<matplotlib.figure.Figure at 0x7f61cb5e92e8>"
      ]
     },
     "metadata": {},
     "output_type": "display_data"
    }
   ],
   "source": [
    "plt.pcolor(sweepx,sweepy,test_dot.honeycomb)\n",
    "plt.colorbar()\n",
    "plt.show()"
   ]
  },
  {
   "cell_type": "code",
   "execution_count": 36,
   "metadata": {
    "collapsed": false
   },
   "outputs": [
    {
     "name": "stdout",
     "output_type": "stream",
     "text": [
      "simulatehoneycomb: 0/150\n",
      "simulatehoneycomb: 0.25 [s]\n"
     ]
    },
    {
     "data": {
      "image/png": "[encoded data removed]",
      "text/plain": [
       "<matplotlib.figure.Figure at 0x7f6168b63358>"
      ]
     },
     "metadata": {},
     "output_type": "display_data"
    }
   ],
   "source": [
    "test2Dparams[2] = 103\n",
    "\n",
    "# run the honeycomb simulation again\n",
    "test_dot.simulate_honeycomb(test2Dparams, multiprocess=False, verbose=1)\n",
    "plt.pcolor(sweepx,sweepy,test_dot.honeycomb)\n",
    "plt.colorbar()\n",
    "plt.show()"
   ]
  },
  {
   "cell_type": "markdown",
   "metadata": {},
   "source": [
    "## Defining your own system"
   ]
  },
  {
   "cell_type": "code",
   "execution_count": 39,
   "metadata": {
    "collapsed": false
   },
   "outputs": [],
   "source": [
    "class TestDot(ClassicalDotSystem):\n",
    "    def __init__(self, name='testdot', **kwargs):\n",
    "        super().__init__(name=name, ndots=3, ngates=3, maxelectrons=2, **kwargs)\n",
    "\n",
    "        self.makebasis()\n",
    "\n",
    "        vardict = {}\n",
    "\n",
    "        vardict[\"mu0_values\"] = np.array([-27.0, -20.0, -25.0])  # chemical potential at zero gate voltage\n",
    "        vardict[\"Eadd_values\"] = np.array([54.0, 52.8, 54.0])  # addition energy\n",
    "        vardict[\"W_values\"] = np.array([12.0, 5.0, 10.0])  # coulomb repulsion (!order is important: (1,2), (1,3), (2,3)) (lexicographic ordering)\n",
    "        vardict[\"alpha_values\"] = np.array([[1.0, 0.25, 0.1],\n",
    "                                 [0.25, 1.0, 0.25],\n",
    "                                 [0.1, 0.25, 1.0]])\n",
    "\n",
    "        for name in self.varnames:\n",
    "            setattr(self, name, vardict[name+'_values'])"
   ]
  },
  {
   "cell_type": "code",
   "execution_count": 60,
   "metadata": {
    "collapsed": false
   },
   "outputs": [
    {
     "name": "stdout",
     "output_type": "stream",
     "text": [
      "simulatehoneycomb: 0.19 [s]\n"
     ]
    }
   ],
   "source": [
    "test_dot_2 = TestDot()\n",
    "\n",
    "# make a test gate plane\n",
    "nx = 100\n",
    "ny = 100\n",
    "test2Dparams = np.zeros((test_dot_2.ngates,nx,ny))\n",
    "sweepx = np.linspace(-100, 460, nx)\n",
    "sweepy = np.linspace(-100, 500, ny)\n",
    "xv, yv = np.meshgrid(sweepx, sweepy)\n",
    "test2Dparams[0] = xv+.1*yv\n",
    "xv, yv = np.meshgrid(sweepy, sweepx)\n",
    "test2Dparams[2] = .1*xv+yv\n",
    "\n",
    "# run the honeycomb simulation\n",
    "test_dot_2.simulate_honeycomb(test2Dparams)"
   ]
  },
  {
   "cell_type": "code",
   "execution_count": 63,
   "metadata": {
    "collapsed": false
   },
   "outputs": [
    {
     "data": {
      "image/png": "[encoded data removed]",
      "text/plain": [
       "<matplotlib.figure.Figure at 0x7f616cd4dc18>"
      ]
     },
     "metadata": {},
     "output_type": "display_data"
    }
   ],
   "source": [
    "plt.clf()\n",
    "plt.pcolor(sweepx,sweepy,test_dot_2.hcgs.sum(axis=2))\n",
    "plt.colorbar()\n",
    "plt.show()"
   ]
  },
  {
   "cell_type": "code",
   "execution_count": 64,
   "metadata": {
    "collapsed": false,
    "scrolled": true
   },
   "outputs": [
    {
     "data": {
      "image/png": "[encoded data removed]",
      "text/plain": [
       "<matplotlib.figure.Figure at 0x7f616d010cc0>"
      ]
     },
     "metadata": {},
     "output_type": "display_data"
    }
   ],
   "source": [
    "plt.clf()\n",
    "plt.pcolor(sweepx,sweepy,test_dot_2.honeycomb)\n",
    "plt.colorbar()\n",
    "plt.show()"
   ]
  },
  {
   "cell_type": "code",
   "execution_count": null,
   "metadata": {
    "collapsed": true
   },
   "outputs": [],
   "source": []
  }
 ],
 "metadata": {
  "kernelspec": {
   "display_name": "Python 3",
   "language": "python",
   "name": "python3"
  },
  "language_info": {
   "codemirror_mode": {
    "name": "ipython",
    "version": 3
   },
   "file_extension": ".py",
   "mimetype": "text/x-python",
   "name": "python",
   "nbconvert_exporter": "python",
   "pygments_lexer": "ipython3",
   "version": "3.5.2"
  }
 },
 "nbformat": 4,
 "nbformat_minor": 0
}
