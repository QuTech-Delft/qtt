{
 "metadata": {
  "anaconda-cloud": {},
  "kernelspec": {
   "display_name": "Python 3",
   "language": "python",
   "name": "python3"
  },
  "language_info": {
   "codemirror_mode": {
    "name": "ipython",
    "version": 3
   },
   "file_extension": ".py",
   "mimetype": "text/x-python",
   "name": "python",
   "nbconvert_exporter": "python",
   "pygments_lexer": "ipython3",
   "version": "3.5.2"
  },
  "name": "",
  "signature": "sha256:ba551b8bc118a551ac83e4a20f706d0cacff32157644cf15f47a8acf3f8d357b"
 },
 "nbformat": 3,
 "nbformat_minor": 0,
 "worksheets": [
  {
   "cells": [
    {
     "cell_type": "heading",
     "level": 1,
     "metadata": {},
     "source": [
      "Example of videomode tuning"
     ]
    },
    {
     "cell_type": "markdown",
     "metadata": {},
     "source": [
      "In this example we show how to initialize and use the videomode for 1D and 2D scans of gates. Note that the code shown below is not suitable for running via this Jupyter notebook, because the GUI for the videomode will not work here and the station, stationV2, corresponds to a real set-up, which is probably not available from the PC this example is being run on."
     ]
    },
    {
     "cell_type": "markdown",
     "metadata": {},
     "source": [
      "Sjaak van Diepen"
     ]
    },
    {
     "cell_type": "heading",
     "level": 4,
     "metadata": {},
     "source": [
      "Import modules"
     ]
    },
    {
     "cell_type": "markdown",
     "metadata": {},
     "source": [
      "Import the station and the VideoMode class. Here we use the stationV2 as an example, because there is not a virtual station available which can be used for a simulation of the videomode."
     ]
    },
    {
     "cell_type": "code",
     "collapsed": true,
     "input": [
      "import stationV2\n",
      "from qtt.videomode import VideoMode"
     ],
     "language": "python",
     "metadata": {},
     "outputs": [],
     "prompt_number": null
    },
    {
     "cell_type": "heading",
     "level": 4,
     "metadata": {},
     "source": [
      "Initialize the station"
     ]
    },
    {
     "cell_type": "code",
     "collapsed": true,
     "input": [
      "station = stationV2.initialize()"
     ],
     "language": "python",
     "metadata": {},
     "outputs": [],
     "prompt_number": null
    },
    {
     "cell_type": "heading",
     "level": 4,
     "metadata": {},
     "source": [
      "1D - videomode"
     ]
    },
    {
     "cell_type": "markdown",
     "metadata": {},
     "source": [
      "First set which parameter to sweep, this must be a parameter of the gates instrument in the station, over which range (in milliVolt) to sweep and which FPGA channel to acquire the data from. Then we would run the last line in the cell below, which starts a GUI that looks like the image below. This image is a print screen taken of a 1D videomode."
     ]
    },
    {
     "cell_type": "code",
     "collapsed": true,
     "input": [
      "sweepparams = 'SD2b'\n",
      "sweepranges = 80\n",
      "fpga_ch = 1\n",
      "vm = VideoMode(station, sweepparams=sweepparams, sweepranges=sweepranges, minstrument=fpga_ch)"
     ],
     "language": "python",
     "metadata": {},
     "outputs": [],
     "prompt_number": null
    },
    {
     "cell_type": "markdown",
     "metadata": {},
     "source": [
      "<img src=\"../qtt/exampledata/videomode_1d_printscreen.png\">"
     ]
    },
    {
     "cell_type": "heading",
     "level": 5,
     "metadata": {},
     "source": [
      "About the GUI"
     ]
    },
    {
     "cell_type": "markdown",
     "metadata": {},
     "source": [
      "The framerate of the videomode is shown in the title of the window. When this print screen was taken the framerate was 16.02 frames per second. The \"Start\" and \"Stop\" buttons can be used for starting and stopping the videomode. Note that these buttons control both the plotting and the AWG sweep. The \"Single\" button performs one scan with 1000 averaging and plots this data. That data is also automatically saved to disk and available via the attribute alldata in the vm object. In the Naverage field the user can adjust the averaging to any value from 1 until 1023."
     ]
    },
    {
     "cell_type": "heading",
     "level": 4,
     "metadata": {},
     "source": [
      "2D - videomode"
     ]
    },
    {
     "cell_type": "code",
     "collapsed": true,
     "input": [
      "sweepparams = ['P2', 'P3']\n",
      "sweepranges = [100, 100]\n",
      "fpga_ch = 1\n",
      "vm = VideoMode(station, sweepparams=sweepparams, sweepranges=sweepranges, minstrument=fpga_ch)"
     ],
     "language": "python",
     "metadata": {},
     "outputs": [],
     "prompt_number": null
    },
    {
     "cell_type": "markdown",
     "metadata": {},
     "source": [
      "<img src=\"../qtt/exampledata/videomode_2d_printscreen.png\">"
     ]
    },
    {
     "cell_type": "markdown",
     "metadata": {},
     "source": [
      "For info about the GUI see above in the section \"About the GUI\"."
     ]
    }
   ],
   "metadata": {}
  }
 ]
}