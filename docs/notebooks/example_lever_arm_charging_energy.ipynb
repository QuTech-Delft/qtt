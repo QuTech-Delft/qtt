{
 "cells": [
  {
   "cell_type": "markdown",
   "metadata": {},
   "source": [
    "## Example of extracting the lever arm and the charging energy from bias triangles and addition lines"
   ]
  },
  {
   "cell_type": "markdown",
   "metadata": {},
   "source": [
    "Authors: Anne-Marije Zwerver and Pieter Eendebak\n",
    "\n",
    "Import the modules used in this program:"
   ]
  },
  {
   "cell_type": "code",
   "execution_count": 1,
   "metadata": {
    "scrolled": true
   },
   "outputs": [
    {
     "name": "stdout",
     "output_type": "stream",
     "text": [
      "Populating the interactive namespace from numpy and matplotlib\n"
     ]
    }
   ],
   "source": [
    "%pylab tk\n",
    "#%matplotlib inline\n",
    "import os, sys\n",
    "import qcodes\n",
    "import qtt\n",
    "import matplotlib.pyplot as plt\n",
    "import numpy as np\n",
    "\n",
    "from qcodes import MatPlot\n",
    "from qtt.data import diffDataset\n",
    "from qtt.algorithms.bias_triangles import perpLineIntersect, lever_arm, E_charging"
   ]
  },
  {
   "cell_type": "markdown",
   "metadata": {},
   "source": [
    "### Load datasets"
   ]
  },
  {
   "cell_type": "code",
   "execution_count": 2,
   "metadata": {
    "collapsed": true
   },
   "outputs": [],
   "source": [
    "#exampledatadir = os.path.join(qtt.__path__[0],'docs', 'notebooks', 'data')\n",
    "#exampledatadir = os.path.join(os.getcwd(), 'data', 'Lever_arm_Charging_energy')\n",
    "#qcodes.DataSet.default_io = qcodes.DiskIO(exampledatadir)\n",
    "#dataset_la = qcodes.load_data('14-33-26_qtt_scan2Dfast')\n",
    "#dataset_Ec = qcodes.load_data('10-06-59_qtt_scan2Dfast')\n",
    "\n",
    "exampledatadir=os.path.join(qtt.__path__[0],'..', 'docs', 'notebooks','data')\n",
    "qcodes.DataSet.default_io = qcodes.DiskIO(exampledatadir)\n",
    "dataset_la = qcodes.load_data(os.path.join(exampledatadir, r'Lever_arm_Charging_energy\\14-33-26_qtt_scan2Dfast'))\n",
    "dataset_Ec = qcodes.load_data(os.path.join(exampledatadir, r'Lever_arm_Charging_energy\\10-06-59_qtt_scan2Dfast'))"
   ]
  },
  {
   "cell_type": "markdown",
   "metadata": {},
   "source": [
    "Plot the bias triangles (to extract the lever arm)"
   ]
  },
  {
   "cell_type": "code",
   "execution_count": 3,
   "metadata": {},
   "outputs": [
    {
     "data": {
      "text/plain": [
       "<matplotlib.text.Text at 0x10ce1780>"
      ]
     },
     "execution_count": 3,
     "metadata": {},
     "output_type": "execute_result"
    }
   ],
   "source": [
    "plt.figure(1); plt.clf()\n",
    "MatPlot([dataset_la.measured], num = 1)\n",
    "ax = plt.gca()\n",
    "plt.suptitle('Bias triangle') "
   ]
  },
  {
   "cell_type": "markdown",
   "metadata": {},
   "source": [
    "Plot the addition lines (to extraxt the charging energy)"
   ]
  },
  {
   "cell_type": "code",
   "execution_count": 4,
   "metadata": {},
   "outputs": [
    {
     "data": {
      "text/plain": [
       "<matplotlib.text.Text at 0x140b1780>"
      ]
     },
     "execution_count": 4,
     "metadata": {},
     "output_type": "execute_result"
    }
   ],
   "source": [
    "plt.figure(3); plt.clf()\n",
    "MatPlot([dataset_Ec.measured], num = 3)\n",
    "ax = plt.gca()\n",
    "plt.suptitle('Addition lines') "
   ]
  },
  {
   "cell_type": "markdown",
   "metadata": {},
   "source": [
    "### Extract lever arm from the bias triangles"
   ]
  },
  {
   "cell_type": "markdown",
   "metadata": {},
   "source": [
    "First, click three points on the figure. Point 1 and 2 along the addition line for the dot of which you want to determine the lever arm, the third point on the triple point where both dot levels are aligned. The perpLineIntersect function will return a dictionary containing the coordinates of these three points, the intersection point of a horizontal/vertical line of the third point with the (extended) line through point 1 and 2 and the line length from the third point to the intersection.\n",
    "\n",
    "If you want to determine the lever arm for dot 4, take the horizontal line (vertical = False),\n",
    "if you want to determine the lever arm for dot 5, take the vertical line (vertical = True)."
   ]
  },
  {
   "cell_type": "code",
   "execution_count": 6,
   "metadata": {
    "scrolled": false
   },
   "outputs": [
    {
     "name": "stdout",
     "output_type": "stream",
     "text": [
      "Please click three points;\n",
      "            Point 1: on the addition line for the dot represented on the vertical axis\n",
      "            Point 2: further on the addition line for the dot represented on the vertical axis\n",
      "            Point 3: on the triple point at the addition line for the dot represented on the horizontal axis\n",
      "            where both dot levels are aligned\n"
     ]
    },
    {
     "name": "stderr",
     "output_type": "stream",
     "text": [
      "C:\\Users\\TUD278090\\AppData\\Local\\Continuum\\Anaconda3\\envs\\amjzwerver\\lib\\site-packages\\matplotlib\\backend_bases.py:2453: MatplotlibDeprecationWarning: Using default event loop until function specific to this GUI is implemented\n",
      "  warnings.warn(str, mplDeprecation)\n"
     ]
    }
   ],
   "source": [
    "dot = 'P5'\n",
    "\n",
    "if dot == 'P4':\n",
    "    vertical = False\n",
    "elif dot == 'P5':\n",
    "    vertical = True\n",
    "else:\n",
    "    print(\"Please choose either dot 4 or dot 5\")\n",
    "\n",
    "la_fit = perpLineIntersect(dataset_la, vertical = vertical, description = 'lever_arm')"
   ]
  },
  {
   "cell_type": "markdown",
   "metadata": {},
   "source": [
    "Determine the lever arm ($\\mu$V/mV) by dividing the applied bias for the bias triangles by the voltage span determined by la_fit"
   ]
  },
  {
   "cell_type": "code",
   "execution_count": 10,
   "metadata": {},
   "outputs": [
    {
     "name": "stdout",
     "output_type": "stream",
     "text": [
      "The lever arm of dot P5 is 48.69 ueV/mV\n"
     ]
    }
   ],
   "source": [
    "bias = dataset_la.snapshot()['allgatevalues']['O5']\n",
    "lev_arm = lever_arm(bias, la_fit, fig = True)\n",
    "print('''The lever arm of dot %s is %.2f ueV/mV'''%(dot, lev_arm))"
   ]
  },
  {
   "cell_type": "markdown",
   "metadata": {},
   "source": [
    "### Extract addition energy\n",
    "\n",
    "Again, use the function perpLineIntersect, this time to obtain the charging energy (in mV). By means of the lever arm, the chagring energy can be expressed in meV"
   ]
  },
  {
   "cell_type": "code",
   "execution_count": 11,
   "metadata": {
    "scrolled": false
   },
   "outputs": [
    {
     "name": "stdout",
     "output_type": "stream",
     "text": [
      "Please click three points;\n",
      "            Point 1: on the (0, 1) - (0,2) addition line\n",
      "            Point 2: further on the (0, 1) - (0,2) addition line\n",
      "            Point 3: on the (0, 0) - (0, 1) addition line \n"
     ]
    },
    {
     "name": "stderr",
     "output_type": "stream",
     "text": [
      "C:\\Users\\TUD278090\\AppData\\Local\\Continuum\\Anaconda3\\envs\\amjzwerver\\lib\\site-packages\\matplotlib\\backend_bases.py:2453: MatplotlibDeprecationWarning: Using default event loop until function specific to this GUI is implemented\n",
      "  warnings.warn(str, mplDeprecation)\n"
     ]
    }
   ],
   "source": [
    "Ec_fit = perpLineIntersect(dataset_Ec, description = 'E_charging', vertical = vertical)"
   ]
  },
  {
   "cell_type": "code",
   "execution_count": 13,
   "metadata": {
    "scrolled": true
   },
   "outputs": [
    {
     "name": "stdout",
     "output_type": "stream",
     "text": [
      "The charging energy for dot P5 is 2.50 meV\n"
     ]
    }
   ],
   "source": [
    "E_c = E_charging(lev_arm, results = Ec_fit, fig = True)\n",
    "print('''The charging energy for dot %s is %.2f meV'''%(dot, E_c/1000))"
   ]
  }
 ],
 "metadata": {
  "kernelspec": {
   "display_name": "Python 3",
   "language": "python",
   "name": "python3"
  },
  "language_info": {
   "codemirror_mode": {
    "name": "ipython",
    "version": 3
   },
   "file_extension": ".py",
   "mimetype": "text/x-python",
   "name": "python",
   "nbconvert_exporter": "python",
   "pygments_lexer": "ipython3",
   "version": "3.6.2"
  }
 },
 "nbformat": 4,
 "nbformat_minor": 2
}
