{
 "cells": [
  {
   "cell_type": "markdown",
   "metadata": {},
   "source": [
    "# Data serialization"
   ]
  },
  {
   "cell_type": "markdown",
   "metadata": {},
   "source": [
    "The qtt package contains methods to serialize objects to JSON."
   ]
  },
  {
   "cell_type": "code",
   "execution_count": 1,
   "metadata": {},
   "outputs": [],
   "source": [
    "import numpy as np\n",
    "from dataclasses_json import dataclass_json\n",
    "from dataclasses import dataclass\n",
    "from qtt.utilities.json_serializer import encode_json, decode_json, encode_json_dataclass, decode_json_dataclass"
   ]
  },
  {
   "cell_type": "code",
   "execution_count": 2,
   "metadata": {},
   "outputs": [
    {
     "name": "stdout",
     "output_type": "stream",
     "text": [
      "list of items: [1.0, \"hello\"]\n",
      "numpy array: {\"__object__\": \"array\", \"__content__\": {\"__ndarray__\": \"AAAAAAAA8D8AAAAAAAAAQA==\", \"__data_type__\": \"<f8\", \"__shape__\": [2]}}\n"
     ]
    }
   ],
   "source": [
    "json = encode_json([1.0, 'hello'])\n",
    "print(f'list of items: {json}')\n",
    "json = encode_json(np.array([1.,2.]))\n",
    "print(f'numpy array: {json}')"
   ]
  },
  {
   "cell_type": "code",
   "execution_count": 3,
   "metadata": {},
   "outputs": [
    {
     "name": "stdout",
     "output_type": "stream",
     "text": [
      "[1. 2.]\n"
     ]
    }
   ],
   "source": [
    "decoded_array = decode_json(json)\n",
    "print(decoded_array)"
   ]
  },
  {
   "cell_type": "markdown",
   "metadata": {},
   "source": [
    "## Custom data types"
   ]
  },
  {
   "cell_type": "markdown",
   "metadata": {},
   "source": [
    "Custom data objects can be serialized by creating an encoder and decoder. For example to serialize `dataclass` objects with JSON we can do the following."
   ]
  },
  {
   "cell_type": "code",
   "execution_count": 4,
   "metadata": {},
   "outputs": [
    {
     "name": "stdout",
     "output_type": "stream",
     "text": [
      "CustomClass(x=1.0, y='hi')\n"
     ]
    }
   ],
   "source": [
    "@dataclass_json\n",
    "@dataclass\n",
    "class CustomClass():\n",
    "    \n",
    "    x : float\n",
    "    y : str\n",
    "\n",
    "mydata = CustomClass(x=1., y='hi')\n",
    "print(mydata)"
   ]
  },
  {
   "cell_type": "markdown",
   "metadata": {},
   "source": [
    "Encoding a custom object is directly possible:"
   ]
  },
  {
   "cell_type": "code",
   "execution_count": 5,
   "metadata": {},
   "outputs": [
    {
     "name": "stdout",
     "output_type": "stream",
     "text": [
      "could not encode object: Object of type 'CustomClass' is not JSON serializable\n"
     ]
    }
   ],
   "source": [
    "try:\n",
    "    encode_json(mydata)\n",
    "except TypeError as ex:\n",
    "    print(f'could not encode object: {ex}')"
   ]
  },
  {
   "cell_type": "markdown",
   "metadata": {},
   "source": [
    "We can create custom encoding methods to make the serialization possible."
   ]
  },
  {
   "cell_type": "code",
   "execution_count": 6,
   "metadata": {},
   "outputs": [
    {
     "ename": "NameError",
     "evalue": "name 'qtt_serializer' is not defined",
     "output_type": "error",
     "traceback": [
      "\u001b[1;31m---------------------------------------------------------------------------\u001b[0m",
      "\u001b[1;31mNameError\u001b[0m                                 Traceback (most recent call last)",
      "\u001b[1;32m<ipython-input-6-79fd2a038a2e>\u001b[0m in \u001b[0;36m<module>\u001b[1;34m\u001b[0m\n\u001b[0;32m      2\u001b[0m \u001b[1;33m\u001b[0m\u001b[0m\n\u001b[0;32m      3\u001b[0m \u001b[0mtag\u001b[0m\u001b[1;33m=\u001b[0m\u001b[1;34mf'_dataclass_{class_type}'\u001b[0m\u001b[1;33m\u001b[0m\u001b[1;33m\u001b[0m\u001b[0m\n\u001b[1;32m----> 4\u001b[1;33m \u001b[0mqtt_serializer\u001b[0m\u001b[1;33m.\u001b[0m\u001b[0mregister\u001b[0m\u001b[1;33m(\u001b[0m\u001b[0mclass_type\u001b[0m\u001b[1;33m,\u001b[0m \u001b[0mpartial\u001b[0m\u001b[1;33m(\u001b[0m\u001b[0mencode_json_dataclass\u001b[0m\u001b[1;33m,\u001b[0m \u001b[0mtag\u001b[0m\u001b[1;33m)\u001b[0m\u001b[1;33m,\u001b[0m \u001b[0mtag\u001b[0m\u001b[1;33m,\u001b[0m \u001b[0mpartial\u001b[0m\u001b[1;33m(\u001b[0m\u001b[0mdecode_json_dataclass\u001b[0m\u001b[1;33m,\u001b[0m \u001b[0mclass_type\u001b[0m\u001b[1;33m)\u001b[0m\u001b[1;33m)\u001b[0m\u001b[1;33m\u001b[0m\u001b[1;33m\u001b[0m\u001b[0m\n\u001b[0m\u001b[0;32m      5\u001b[0m \u001b[1;33m\u001b[0m\u001b[0m\n\u001b[0;32m      6\u001b[0m \u001b[0mjson\u001b[0m\u001b[1;33m=\u001b[0m\u001b[0mqtt_serializer\u001b[0m\u001b[1;33m.\u001b[0m\u001b[0mencode_data\u001b[0m\u001b[1;33m(\u001b[0m\u001b[0mmydata\u001b[0m\u001b[1;33m)\u001b[0m\u001b[1;33m\u001b[0m\u001b[1;33m\u001b[0m\u001b[0m\n",
      "\u001b[1;31mNameError\u001b[0m: name 'qtt_serializer' is not defined"
     ]
    }
   ],
   "source": [
    "class_type=CustomClass\n",
    "\n",
    "tag=f'_dataclass_{class_type}'\n",
    "qtt_serializer.register(class_type, partial(encode_json_dataclass, tag), tag, partial(decode_json_dataclass, class_type))\n",
    "\n",
    "json=qtt_serializer.encode_data(mydata)\n",
    "print(f'encoded json: {json}')\n",
    "decoded_object=qtt_serializer.decode_data(json)\n",
    "print(decoded_object)"
   ]
  }
 ],
 "metadata": {
  "kernelspec": {
   "display_name": "Python 3",
   "language": "python",
   "name": "python3"
  },
  "language_info": {
   "codemirror_mode": {
    "name": "ipython",
    "version": 3
   },
   "file_extension": ".py",
   "mimetype": "text/x-python",
   "name": "python",
   "nbconvert_exporter": "python",
   "pygments_lexer": "ipython3",
   "version": "3.6.8"
  }
 },
 "nbformat": 4,
 "nbformat_minor": 2
}
