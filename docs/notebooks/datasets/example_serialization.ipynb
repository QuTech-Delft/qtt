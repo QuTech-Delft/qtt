{
 "cells": [
  {
   "cell_type": "markdown",
   "metadata": {},
   "source": [
    "# Data serialization"
   ]
  },
  {
   "cell_type": "markdown",
   "metadata": {},
   "source": [
    "The qtt package contains methods to serialize objects to JSON."
   ]
  },
  {
   "cell_type": "code",
   "execution_count": 1,
   "metadata": {},
   "outputs": [],
   "source": [
    "from dataclasses import dataclass\n",
    "from functools import partial\n",
    "\n",
    "import numpy as np\n",
    "from dataclasses_json import dataclass_json\n",
    "\n",
    "from qtt.utilities.json_serializer import decode_json, encode_json, qtt_serializer"
   ]
  },
  {
   "cell_type": "code",
   "execution_count": 2,
   "metadata": {},
   "outputs": [
    {
     "name": "stdout",
     "output_type": "stream",
     "text": [
      "list of items: [1.0, \"hello\"]\n",
      "\n",
      "numpy array: {\"__object__\": \"array\", \"__content__\": {\"__ndarray__\": \"AAAAAAAA8D8AAAAAAAAAQA==\", \"__data_type__\": \"<f8\", \"__shape__\": [2]}}\n"
     ]
    }
   ],
   "source": [
    "json = encode_json([1.0, 'hello'])\n",
    "print(f'list of items: {json}\\n')\n",
    "\n",
    "json = encode_json(np.array([1.,2.]))\n",
    "print(f'numpy array: {json}')"
   ]
  },
  {
   "cell_type": "code",
   "execution_count": 3,
   "metadata": {},
   "outputs": [
    {
     "name": "stdout",
     "output_type": "stream",
     "text": [
      "[1. 2.]\n"
     ]
    }
   ],
   "source": [
    "decoded_array = decode_json(json)\n",
    "print(decoded_array)"
   ]
  },
  {
   "cell_type": "markdown",
   "metadata": {},
   "source": [
    "## Custom data types"
   ]
  },
  {
   "cell_type": "markdown",
   "metadata": {},
   "source": [
    "Custom data objects can be serialized by creating an encoder and decoder. For example to serialize `dataclass` objects with JSON we can do the following."
   ]
  },
  {
   "cell_type": "code",
   "execution_count": 4,
   "metadata": {},
   "outputs": [
    {
     "name": "stdout",
     "output_type": "stream",
     "text": [
      "CustomClass(x=1.0, y='hi')\n"
     ]
    }
   ],
   "source": [
    "@dataclass_json\n",
    "@dataclass\n",
    "class CustomClass():\n",
    "    \n",
    "    x : float\n",
    "    y : str\n",
    "\n",
    "mydata = CustomClass(x=1., y='hi')\n",
    "print(mydata)"
   ]
  },
  {
   "cell_type": "markdown",
   "metadata": {},
   "source": [
    "We can create custom encoding methods to make the serialization possible."
   ]
  },
  {
   "cell_type": "code",
   "execution_count": 5,
   "metadata": {},
   "outputs": [
    {
     "name": "stdout",
     "output_type": "stream",
     "text": [
      "encoded json: {\"__object__\": \"_dataclass_CustomClass\", \"__content__\": {\"x\": 1.0, \"y\": \"hi\"}}\n",
      "decoded_object: CustomClass(x=1.0, y='hi')\n"
     ]
    }
   ],
   "source": [
    "qtt_serializer.register_dataclass(CustomClass)\n",
    "\n",
    "json = qtt_serializer.serialize(mydata)\n",
    "print(f'encoded json: {json}')\n",
    "\n",
    "decoded_object = qtt_serializer.unserialize(json)\n",
    "print(f'decoded_object: {decoded_object}')"
   ]
  },
  {
   "cell_type": "code",
   "execution_count": null,
   "metadata": {},
   "outputs": [],
   "source": []
  }
 ],
 "metadata": {
  "kernelspec": {
   "display_name": "Python 3",
   "language": "python",
   "name": "python3"
  },
  "language_info": {
   "codemirror_mode": {
    "name": "ipython",
    "version": 3
   },
   "file_extension": ".py",
   "mimetype": "text/x-python",
   "name": "python",
   "nbconvert_exporter": "python",
   "pygments_lexer": "ipython3",
   "version": "3.6.8"
  }
 },
 "nbformat": 4,
 "nbformat_minor": 2
}
