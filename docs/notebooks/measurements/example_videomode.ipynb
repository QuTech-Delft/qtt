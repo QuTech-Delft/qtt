{
 "cells": [
  {
   "cell_type": "markdown",
   "metadata": {},
   "source": [
    "# Example of videomode tuning"
   ]
  },
  {
   "cell_type": "markdown",
   "metadata": {},
   "source": [
    "In this example we show how to initialize and use the videomode for 1D and 2D scans of gates. Note that the code shown below is not suitable for running via this Jupyter notebook, because videomode requires actual hardware to work with, which is probably not available from the PC this example is being run on."
   ]
  },
  {
   "cell_type": "markdown",
   "metadata": {},
   "source": [
    "Author: Sjaak van Diepen, Pieter Eendebak"
   ]
  },
  {
   "cell_type": "code",
   "execution_count": 2,
   "metadata": {},
   "outputs": [
    {
     "name": "stdout",
     "output_type": "stream",
     "text": [
      "Windows found"
     ]
    }
   ],
   "source": [
    "%gui qt\n",
    "\n",
    "import qcodes\n",
    "import qtt\n",
    "from qtt.instrument_drivers.gates import VirtualDAC\n",
    "from qtt.instrument_drivers.virtual_instruments import VirtualIVVI\n",
    "from qcodes.station import Station\n",
    "from qcodes.instrument_drivers.Spectrum.M4i import M4i\n",
    "from qtt.measurements.videomode import VideoMode\n",
    "from qtt.instrument_drivers.virtualAwg.virtual_awg import VirtualAwg\n",
    "from qcodes.instrument_drivers.ZI.ZIHDAWG8 import ZIHDAWG8\n",
    "import tempfile\n",
    "import imageio"
   ]
  },
  {
   "cell_type": "markdown",
   "metadata": {},
   "source": [
    "#### Import modules and create a station with DAC modules and an AWG"
   ]
  },
  {
   "cell_type": "markdown",
   "metadata": {},
   "source": [
    "Import the station and the VideoMode class. Here we use the stationV2 as an example, because there is not a virtual station available which can be used for a simulation of the videomode."
   ]
  },
  {
   "cell_type": "code",
   "execution_count": 3,
   "metadata": {},
   "outputs": [
    {
     "name": "stderr",
     "output_type": "stream",
     "text": [
      "WARNING:qcodes.instrument.base:[m4i(M4i)] Snapshot: Could not update parameter: channel_0\n",
      "WARNING:qcodes.instrument.base:[m4i(M4i)] Snapshot: Could not update parameter: channel_1\n",
      "WARNING:qcodes.instrument.base:[m4i(M4i)] Snapshot: Could not update parameter: channel_2\n",
      "WARNING:qcodes.instrument.base:[m4i(M4i)] Snapshot: Could not update parameter: channel_3\n"
     ]
    },
    {
     "data": {
      "text/plain": [
       "'m4i'"
      ]
     },
     "execution_count": 3,
     "metadata": {},
     "output_type": "execute_result"
    }
   ],
   "source": [
    "ivvi = VirtualIVVI(name='ivvi0', model=None)\n",
    "gates = VirtualDAC('gates', [ivvi], {'P1': (0, 1), 'P2': (0, 2), 'P3': (0,3), 'P4': (0,4)})\n",
    "\n",
    "station = Station(ivvi, gates)\n",
    "\n",
    "m4i = qcodes.find_or_create_instrument(M4i, name='m4i')\n",
    "m4i.timeout(15*1e3)  # set timeout of 10 seconds\n",
    "m4i.sample_rate(1e6)\n",
    "    \n",
    "station.add_component(m4i)"
   ]
  },
  {
   "cell_type": "code",
   "execution_count": 4,
   "metadata": {},
   "outputs": [
    {
     "name": "stdout",
     "output_type": "stream",
     "text": [
      "Discovered device `dev8049`: HDAWG8 with options .\n",
      "Creating an API session for device `dev8049` on `127.0.0.1`, `8004` with apilevel `6`.\n"
     ]
    },
    {
     "data": {
      "text/plain": [
       "'awg8'"
      ]
     },
     "execution_count": 4,
     "metadata": {},
     "output_type": "execute_result"
    }
   ],
   "source": [
    "address = 'DEV8049'\n",
    "awg = qcodes.find_or_create_instrument(ZIHDAWG8, 'awg8', device_id=address)\n",
    "station.add_component(awg)"
   ]
  },
  {
   "cell_type": "markdown",
   "metadata": {},
   "source": [
    "#### Initialize the virtual AWG"
   ]
  },
  {
   "cell_type": "code",
   "execution_count": 6,
   "metadata": {},
   "outputs": [
    {
     "data": {
      "text/plain": [
       "'virtual_awg'"
      ]
     },
     "execution_count": 6,
     "metadata": {},
     "output_type": "execute_result"
    }
   ],
   "source": [
    "from qcodes.utils.validators import Numbers\n",
    "\n",
    "class HardwareType(qcodes.Instrument):\n",
    "\n",
    "    def __init__(self, name, awg_map, awg_scalings={}, **kwargs):\n",
    "        super().__init__(name, **kwargs)\n",
    "\n",
    "        self.awg_map = awg_map\n",
    "        for gate in self.awg_map.keys():\n",
    "            p = 'awg_to_%s' % gate\n",
    "            self.add_parameter(p, parameter_class=qcodes.ManualParameter,\n",
    "                               initial_value=awg_scalings.get(gate, 1),\n",
    "                               label='{} (factor)'.format(p), unit='mV/V',\n",
    "                               vals=Numbers(0, 400))\n",
    "\n",
    "    def get_idn(self):\n",
    "        ''' Overrule because the default VISA command does not work '''\n",
    "        IDN = {'vendor': 'QuTech', 'model': 'hardwareV2',\n",
    "               'serial': None, 'firmware': None}\n",
    "        return IDN\n",
    "\n",
    "awg_map = {'P1': (0, 5 - 1), 'P2': (0, 6 - 1), 'P3': (0, 7-1), 'm4i_mk': (0, 5 - 1, 0)}\n",
    "awg_scalings = {f'P{ii}': 300. for ii in range(1,4)}\n",
    "\n",
    "hardware = HardwareType(qtt.measurements.scans.instrumentName('hardware'), awg_map, awg_scalings)\n",
    "station.add_component(hardware)\n",
    "\n",
    "virtual_awg = VirtualAwg([awg], hardware, qtt.measurements.scans.instrumentName('virtual_awg'))\n",
    "virtual_awg.digitizer_marker_delay(17e-6)\n",
    "virtual_awg.digitizer_marker_uptime(50e-6)\n",
    "\n",
    "station.add_component(virtual_awg)"
   ]
  },
  {
   "cell_type": "markdown",
   "metadata": {},
   "source": [
    "#### 1D - videomode"
   ]
  },
  {
   "cell_type": "markdown",
   "metadata": {},
   "source": [
    "First set which parameter to sweep, this must be a parameter of the gates instrument in the station, over which range (in milliVolt) to sweep and which FPGA channel to acquire the data from. Then we would run the last line in the cell below, which starts a GUI that looks like the image below. This image is a print screen taken of a 1D videomode."
   ]
  },
  {
   "cell_type": "code",
   "execution_count": 1,
   "metadata": {},
   "outputs": [
    {
     "ename": "NameError",
     "evalue": "name 'VideoMode' is not defined",
     "output_type": "error",
     "traceback": [
      "\u001b[1;31m---------------------------------------------------------------------------\u001b[0m",
      "\u001b[1;31mNameError\u001b[0m                                 Traceback (most recent call last)",
      "\u001b[1;32m<ipython-input-1-a3298ba2054d>\u001b[0m in \u001b[0;36m<module>\u001b[1;34m\u001b[0m\n\u001b[0;32m      2\u001b[0m \u001b[0msweepranges\u001b[0m \u001b[1;33m=\u001b[0m \u001b[1;36m.8\u001b[0m\u001b[1;33m\u001b[0m\u001b[1;33m\u001b[0m\u001b[0m\n\u001b[0;32m      3\u001b[0m \u001b[1;33m\u001b[0m\u001b[0m\n\u001b[1;32m----> 4\u001b[1;33m \u001b[0mvm\u001b[0m \u001b[1;33m=\u001b[0m \u001b[0mVideoMode\u001b[0m\u001b[1;33m(\u001b[0m\u001b[0mstation\u001b[0m\u001b[1;33m,\u001b[0m \u001b[0msweepparams\u001b[0m\u001b[1;33m=\u001b[0m\u001b[0msweepparams\u001b[0m\u001b[1;33m,\u001b[0m \u001b[0msweepranges\u001b[0m\u001b[1;33m=\u001b[0m\u001b[0msweepranges\u001b[0m\u001b[1;33m,\u001b[0m \u001b[0mminstrument\u001b[0m\u001b[1;33m=\u001b[0m\u001b[1;33m(\u001b[0m\u001b[0mm4i\u001b[0m\u001b[1;33m,\u001b[0m \u001b[1;33m[\u001b[0m\u001b[1;36m0\u001b[0m\u001b[1;33m,\u001b[0m\u001b[1;36m1\u001b[0m\u001b[1;33m]\u001b[0m\u001b[1;33m)\u001b[0m\u001b[1;33m,\u001b[0m \u001b[0mresolution\u001b[0m\u001b[1;33m=\u001b[0m\u001b[1;33m[\u001b[0m\u001b[1;36m32\u001b[0m\u001b[1;33m,\u001b[0m\u001b[1;36m64\u001b[0m\u001b[1;33m]\u001b[0m\u001b[1;33m)\u001b[0m\u001b[1;33m\u001b[0m\u001b[1;33m\u001b[0m\u001b[0m\n\u001b[0m",
      "\u001b[1;31mNameError\u001b[0m: name 'VideoMode' is not defined"
     ]
    }
   ],
   "source": [
    "sweepparams = 'P1'\n",
    "sweepranges = .8\n",
    "\n",
    "vm = VideoMode(station, sweepparams=sweepparams, sweepranges=sweepranges, minstrument=(m4i, [0,1]), resolution=[32,64])"
   ]
  },
  {
   "cell_type": "markdown",
   "metadata": {},
   "source": [
    "<img src=\"../../../qtt/exampledata/videomode_1d_printscreen.png\">"
   ]
  },
  {
   "cell_type": "markdown",
   "metadata": {},
   "source": [
    "We show the VideoMode window in the notebook by taking a screenshot."
   ]
  },
  {
   "cell_type": "code",
   "execution_count": null,
   "metadata": {},
   "outputs": [],
   "source": [
    "fname=tempfile.mktemp(suffix='.png')\n",
    "vm.mainwin.grab().save(fname)\n",
    "im=imageio.read(fname)\n",
    "im=im.get_data(0)\n",
    "plt.figure()\n",
    "plt.imshow(im)"
   ]
  },
  {
   "cell_type": "markdown",
   "metadata": {},
   "source": [
    "We can also get the data acquired in DataSet format."
   ]
  },
  {
   "cell_type": "code",
   "execution_count": null,
   "metadata": {},
   "outputs": [],
   "source": [
    "dataset=vm.get_dataset()[0]\n",
    "qtt.data.plot_dataset(dataset)"
   ]
  },
  {
   "cell_type": "markdown",
   "metadata": {},
   "source": [
    "##### About the GUI"
   ]
  },
  {
   "cell_type": "markdown",
   "metadata": {},
   "source": [
    "The framerate of the videomode is shown in the title of the window. When this print screen was taken the framerate was 16.02 frames per second. The \"Start\" and \"Stop\" buttons can be used for starting and stopping the videomode. Note that these buttons control both the plotting and the AWG sweep. The recorded data is available via the method `get_dataset` the videomode object. In the Naverage field the user can adjust the averaging."
   ]
  },
  {
   "cell_type": "markdown",
   "metadata": {},
   "source": [
    "#### 2D - videomode"
   ]
  },
  {
   "cell_type": "code",
   "execution_count": null,
   "metadata": {
    "collapsed": true
   },
   "outputs": [],
   "source": [
    "sweepparams = ['P2', 'P3']\n",
    "sweepranges = [100, 100]\n",
    "vm = VideoMode(station, sweepparams=sweepparams, sweepranges=sweepranges, minstrument=(m4i, [0,1]))"
   ]
  },
  {
   "cell_type": "markdown",
   "metadata": {},
   "source": [
    "<img src=\"../../../qtt/exampledata/videomode_2d_printscreen.png\">"
   ]
  }
 ],
 "metadata": {
  "anaconda-cloud": {},
  "kernelspec": {
   "display_name": "Python 3",
   "language": "python",
   "name": "python3"
  },
  "language_info": {
   "codemirror_mode": {
    "name": "ipython",
    "version": 3
   },
   "file_extension": ".py",
   "mimetype": "text/x-python",
   "name": "python",
   "nbconvert_exporter": "python",
   "pygments_lexer": "ipython3",
   "version": "3.6.7"
  }
 },
 "nbformat": 4,
 "nbformat_minor": 1
}
