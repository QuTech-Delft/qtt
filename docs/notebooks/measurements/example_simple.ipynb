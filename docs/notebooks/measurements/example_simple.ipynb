{
 "cells": [
  {
   "cell_type": "markdown",
   "metadata": {},
   "source": [
    "# Perform simple measurements with the qtt measurement functions"
   ]
  },
  {
   "cell_type": "markdown",
   "metadata": {},
   "source": [
    "This example shows how to set values on instruments (such as a voltage on a gate), how to readout values from measurement instruments (such as the voltage on a multimeter), and how to perform simple measurements loops (in this case a 2D gate scan)."
   ]
  },
  {
   "cell_type": "code",
   "execution_count": 1,
   "metadata": {},
   "outputs": [],
   "source": [
    "import qtt\n",
    "import numpy as np"
   ]
  },
  {
   "cell_type": "markdown",
   "metadata": {},
   "source": [
    "## Measurements with Parameters"
   ]
  },
  {
   "cell_type": "markdown",
   "metadata": {},
   "source": [
    "For the purpose of this example will use a virtual system that simulates a quantum dot measurement setup. See the `qtt.simulation.virtual_dot_array` documentation for more info."
   ]
  },
  {
   "cell_type": "code",
   "execution_count": 2,
   "metadata": {},
   "outputs": [
    {
     "name": "stdout",
     "output_type": "stream",
     "text": [
      "initialize: create virtualdot\n",
      "initialized virtual dot system (2 dots)\n"
     ]
    }
   ],
   "source": [
    "import qtt.simulation.virtual_dot_array\n",
    "station=qtt.simulation.virtual_dot_array.initialize()\n",
    "gates=station.gates"
   ]
  },
  {
   "cell_type": "markdown",
   "metadata": {},
   "source": [
    "We can read out instruments using a qcodes `Parameter`."
   ]
  },
  {
   "cell_type": "code",
   "execution_count": 3,
   "metadata": {},
   "outputs": [
    {
     "name": "stdout",
     "output_type": "stream",
     "text": [
      "-0.01483164894377098\n"
     ]
    }
   ],
   "source": [
    "value=gates.P1.get(); print(value)"
   ]
  },
  {
   "cell_type": "markdown",
   "metadata": {},
   "source": [
    "## Custom measurement loops"
   ]
  },
  {
   "cell_type": "markdown",
   "metadata": {
    "collapsed": true
   },
   "source": [
    "The qcodes loop is not suitable for all measurements. You can also write your own loop constructions. There are already several constructions available. For example make a 2D scan one can use the `qtt.scans.scan2D`"
   ]
  },
  {
   "cell_type": "code",
   "execution_count": 4,
   "metadata": {},
   "outputs": [
    {
     "name": "stdout",
     "output_type": "stream",
     "text": [
      "scan2D: 0/7: time 00:00:00 (~00:00:00 remaining): setting P2 to 0.000\n"
     ]
    }
   ],
   "source": [
    "import qtt.measurements.scans\n",
    "scanjob=qtt.measurements.scans.scanjob_t({'sweepdata': {'param':'P1', 'start':20,'end':28,'step': 1.75} , \n",
    "         'stepdata': {'param': 'P2', 'start': 0, 'end': 7, 'step': 1}, 'minstrument': ['keithley1.amplitude']})\n",
    "dataset=qtt.measurements.scans.scan2D(station, scanjob)"
   ]
  },
  {
   "cell_type": "code",
   "execution_count": 5,
   "metadata": {},
   "outputs": [
    {
     "name": "stdout",
     "output_type": "stream",
     "text": [
      "DataSet:\n",
      "   location = '2018-09-05/11-50-28_qtt_scan2D'\n",
      "   <Type>   | <array_id>          | <array.name>        | <array.shape>\n",
      "   Measured | keithley1_amplitude | keithley1_amplitude | (7, 5)\n",
      "   Setpoint | P2                  | P2                  | (7,)\n",
      "   Setpoint | P1                  | P1                  | (7, 5)\n"
     ]
    }
   ],
   "source": [
    "print(dataset)"
   ]
  },
  {
   "cell_type": "markdown",
   "metadata": {},
   "source": [
    "The raw data is available as a DataArray or numpy array."
   ]
  },
  {
   "cell_type": "code",
   "execution_count": 6,
   "metadata": {},
   "outputs": [
    {
     "name": "stdout",
     "output_type": "stream",
     "text": [
      "DataArray[7,5]: keithley1_amplitude\n",
      "array([[2.98960663, 2.98920055, 2.98878521, 2.99806085, 2.99676836],\n",
      "       [2.99280892, 2.99730119, 2.99056696, 2.99518558, 2.99344639],\n",
      "       [2.99558079, 2.98947501, 2.98971753, 2.99565561, 2.99637049],\n",
      "       [2.99046836, 2.99784205, 2.98961711, 2.99544447, 2.99375562],\n",
      "       [2.99459975, 2.99424155, 2.98910142, 2.99222029, 2.98887384],\n",
      "       [2.99335894, 2.99296707, 2.99501929, 2.99703682, 2.99673491],\n",
      "       [2.99093673, 2.99259619, 2.99469442, 2.9918319 , 2.99783992]])\n"
     ]
    }
   ],
   "source": [
    "print(dataset.default_parameter_array())"
   ]
  },
  {
   "cell_type": "code",
   "execution_count": 7,
   "metadata": {},
   "outputs": [
    {
     "name": "stdout",
     "output_type": "stream",
     "text": [
      "keithley1_amplitude\n",
      "[[2.98960663 2.98920055 2.98878521 2.99806085 2.99676836]\n",
      " [2.99280892 2.99730119 2.99056696 2.99518558 2.99344639]\n",
      " [2.99558079 2.98947501 2.98971753 2.99565561 2.99637049]\n",
      " [2.99046836 2.99784205 2.98961711 2.99544447 2.99375562]\n",
      " [2.99459975 2.99424155 2.98910142 2.99222029 2.98887384]\n",
      " [2.99335894 2.99296707 2.99501929 2.99703682 2.99673491]\n",
      " [2.99093673 2.99259619 2.99469442 2.9918319  2.99783992]]\n"
     ]
    }
   ],
   "source": [
    "print(dataset.default_parameter_name())\n",
    "print(np.array(dataset.default_parameter_array()))"
   ]
  }
 ],
 "metadata": {
  "kernelspec": {
   "display_name": "Python 3",
   "language": "python",
   "name": "python3"
  },
  "language_info": {
   "codemirror_mode": {
    "name": "ipython",
    "version": 3
   },
   "file_extension": ".py",
   "mimetype": "text/x-python",
   "name": "python",
   "nbconvert_exporter": "python",
   "pygments_lexer": "ipython3",
   "version": "3.6.6"
  }
 },
 "nbformat": 4,
 "nbformat_minor": 1
}
