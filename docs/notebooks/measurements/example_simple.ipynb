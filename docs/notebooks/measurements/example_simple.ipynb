{
 "cells": [
  {
   "cell_type": "markdown",
   "metadata": {},
   "source": [
    "# Perform simple measurements with the qtt measurement functions"
   ]
  },
  {
   "cell_type": "code",
   "execution_count": 3,
   "metadata": {},
   "outputs": [],
   "source": [
    "import qcodes as qc\n",
    "import qtt\n",
    "import numpy as np"
   ]
  },
  {
   "cell_type": "markdown",
   "metadata": {},
   "source": [
    "## Measurements with Parameters"
   ]
  },
  {
   "cell_type": "markdown",
   "metadata": {},
   "source": [
    "We first a virtual dot system."
   ]
  },
  {
   "cell_type": "code",
   "execution_count": 4,
   "metadata": {},
   "outputs": [
    {
     "name": "stdout",
     "output_type": "stream",
     "text": [
      "initialize: create virtualdot\n",
      "initialized virtual dot system (2 dots)\n"
     ]
    }
   ],
   "source": [
    "import qtt.simulation.virtual_dot_array\n",
    "station=qtt.simulation.virtual_dot_array.initialize()\n",
    "gates=station.gates"
   ]
  },
  {
   "cell_type": "markdown",
   "metadata": {},
   "source": [
    "We can read out instruments using a qcodes `Parameter`."
   ]
  },
  {
   "cell_type": "code",
   "execution_count": 5,
   "metadata": {},
   "outputs": [
    {
     "name": "stdout",
     "output_type": "stream",
     "text": [
      "0.3269355325699205\n"
     ]
    }
   ],
   "source": [
    "value=gates.P1.get(); print(value)"
   ]
  },
  {
   "cell_type": "markdown",
   "metadata": {},
   "source": [
    "## Custom measurement loops"
   ]
  },
  {
   "cell_type": "markdown",
   "metadata": {
    "collapsed": true
   },
   "source": [
    "The qcodes loop is not suitable for all measurements. You can also write your own loop constructions. There are already several constructions available. For example make a 2D scan one can use the `qtt.scans.scan2D`"
   ]
  },
  {
   "cell_type": "code",
   "execution_count": 6,
   "metadata": {},
   "outputs": [
    {
     "name": "stdout",
     "output_type": "stream",
     "text": [
      "scan2D: 0/7: time 00:00:00 (~00:00:00 remaining): setting P2 to 0.000\n"
     ]
    }
   ],
   "source": [
    "import qtt.measurements.scans\n",
    "scanjob=qtt.measurements.scans.scanjob_t({'sweepdata': {'param':'P1', 'start':20,'end':28,'step': 1.75} , \n",
    "         'stepdata': {'param': 'P2', 'start': 0, 'end': 7, 'step': 1}, 'minstrument': ['keithley1.amplitude']})\n",
    "dataset=qtt.measurements.scans.scan2D(station, scanjob)"
   ]
  },
  {
   "cell_type": "code",
   "execution_count": 7,
   "metadata": {},
   "outputs": [
    {
     "name": "stdout",
     "output_type": "stream",
     "text": [
      "DataSet:\n",
      "   location = '2018-08-28/14-14-00_qtt_scan2D'\n",
      "   <Type>   | <array_id>          | <array.name>        | <array.shape>\n",
      "   Measured | keithley1_amplitude | keithley1_amplitude | (7, 5)\n",
      "   Setpoint | P2                  | P2                  | (7,)\n",
      "   Setpoint | P1                  | P1                  | (7, 5)\n"
     ]
    }
   ],
   "source": [
    "print(dataset)"
   ]
  },
  {
   "cell_type": "markdown",
   "metadata": {},
   "source": [
    "The raw data is available as a DataArray or numpy array."
   ]
  },
  {
   "cell_type": "code",
   "execution_count": 8,
   "metadata": {},
   "outputs": [
    {
     "name": "stdout",
     "output_type": "stream",
     "text": [
      "DataArray[7,5]: keithley1_amplitude\n",
      "array([[2.99170117, 2.99398308, 2.99117414, 2.9885328 , 2.99492873],\n",
      "       [2.99174886, 2.98890105, 2.99068062, 2.99147355, 2.98900492],\n",
      "       [2.99152729, 2.99495891, 2.99358682, 2.9966019 , 2.99561485],\n",
      "       [2.99807601, 2.99322725, 2.99622293, 2.99583455, 2.99195388],\n",
      "       [2.99399359, 2.99396544, 2.99554159, 2.99082012, 2.99737796],\n",
      "       [2.98817449, 2.99728056, 2.99205617, 2.99197545, 2.99503121],\n",
      "       [2.99789884, 2.99628081, 2.99566496, 2.98978637, 2.99685548]])\n"
     ]
    }
   ],
   "source": [
    "print(dataset.default_parameter_array())"
   ]
  },
  {
   "cell_type": "code",
   "execution_count": 9,
   "metadata": {},
   "outputs": [
    {
     "name": "stdout",
     "output_type": "stream",
     "text": [
      "keithley1_amplitude\n",
      "[[2.99170117 2.99398308 2.99117414 2.9885328  2.99492873]\n",
      " [2.99174886 2.98890105 2.99068062 2.99147355 2.98900492]\n",
      " [2.99152729 2.99495891 2.99358682 2.9966019  2.99561485]\n",
      " [2.99807601 2.99322725 2.99622293 2.99583455 2.99195388]\n",
      " [2.99399359 2.99396544 2.99554159 2.99082012 2.99737796]\n",
      " [2.98817449 2.99728056 2.99205617 2.99197545 2.99503121]\n",
      " [2.99789884 2.99628081 2.99566496 2.98978637 2.99685548]]\n"
     ]
    }
   ],
   "source": [
    "print(dataset.default_parameter_name())\n",
    "print(np.array(dataset.default_parameter_array()))"
   ]
  },
  {
   "cell_type": "code",
   "execution_count": null,
   "metadata": {
    "collapsed": true
   },
   "outputs": [],
   "source": []
  }
 ],
 "metadata": {
  "kernelspec": {
   "display_name": "Python 3",
   "language": "python",
   "name": "python3"
  },
  "language_info": {
   "codemirror_mode": {
    "name": "ipython",
    "version": 3
   },
   "file_extension": ".py",
   "mimetype": "text/x-python",
   "name": "python",
   "nbconvert_exporter": "python",
   "pygments_lexer": "ipython3",
   "version": "3.6.3"
  }
 },
 "nbformat": 4,
 "nbformat_minor": 1
}
