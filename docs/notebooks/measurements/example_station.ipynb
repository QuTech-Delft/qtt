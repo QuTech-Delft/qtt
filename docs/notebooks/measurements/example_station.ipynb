{
 "cells": [
  {
   "cell_type": "markdown",
   "metadata": {},
   "source": [
    "# Defining a station"
   ]
  },
  {
   "cell_type": "markdown",
   "metadata": {},
   "source": [
    "A station consists of a Python module with a special function `initialize`. In this function to connect to all your instruments.\n",
    "For example to use a station one can do:"
   ]
  },
  {
   "cell_type": "code",
   "execution_count": 4,
   "metadata": {},
   "outputs": [
    {
     "name": "stdout",
     "output_type": "stream",
     "text": [
      "initialize: create virtualdot\n",
      "initialized virtual dot system (2 dots)\n"
     ]
    }
   ],
   "source": [
    "import qtt.simulation.virtual_dot_array\n",
    "station = qtt.simulation.virtual_dot_array.initialize()"
   ]
  },
  {
   "cell_type": "markdown",
   "metadata": {},
   "source": [
    "A station containts Instruments that have Parameter that can be get or set:"
   ]
  },
  {
   "cell_type": "code",
   "execution_count": 10,
   "metadata": {},
   "outputs": [
    {
     "name": "stdout",
     "output_type": "stream",
     "text": [
      "gates: gates (16 gates)\n",
      "-0.42847433570008486\n",
      "<VirtualMeter: keithley1>\n",
      "2.9941489829460344\n"
     ]
    }
   ],
   "source": [
    "gates=station.gates\n",
    "print(gates)\n",
    "print(gates.P1.get())\n",
    "print(station.keithley1)\n",
    "print(station.keithley1.amplitude.get())"
   ]
  },
  {
   "cell_type": "markdown",
   "metadata": {},
   "source": [
    "Typical code included in a station:\n",
    "* connect to the instruments (the `initialize` function)\n",
    "* setup parameters\n",
    "* information about the sample\n",
    "\n",
    "A sample `initialize` function could be:"
   ]
  },
  {
   "cell_type": "markdown",
   "metadata": {},
   "source": [
    "<pre>\n",
    "def initialize(reinit=False, server_name=None):\n",
    "    global station, mwindows, output_map\n",
    "    \n",
    "    logging.info('LD400: initialize')\n",
    "    print('\\n')\n",
    "    \n",
    "    if _initialized and not reinit:\n",
    "        return station\n",
    "    \n",
    "    # Loading IVVI\n",
    "    logging.info('LD400: load IVVI driver')\n",
    "    ivvi = IVVI.IVVI(name='ivvi', address='COM5', server_name=server_name, numdacs=16,)\n",
    "    \n",
    "    # Loading Lockins\n",
    "    logging.info('LD400: load lockin driver')\n",
    "    lockin1 = SR830.SR830(name='lockin1', address='GPIB1::6::INSTR', server_name=server_name)\n",
    "    lockin1.output_interface('GPIB')\n",
    "\n",
    "    # Loading digitizer\n",
    "    logging.info('LD400: load digitizer driver')\n",
    "    digitizer = M4i.M4i(name='digitizer', server_name=server_name)\n",
    "\n",
    "    logging.info('all drivers have been loaded')\n",
    "    \n",
    "    \n",
    "    # Create map for gates and outputs\n",
    "    gate_map=station_gate_map()\n",
    "    gates = virtual_gates(name='gates', gate_map=gate_map, server_name=server_name, instruments=[ivvi])\n",
    "\n",
    "    #Creating the experimental station\n",
    "    station = qcodes.Station(ivvi, lockin1, digitizer, gates)\n",
    "    \n",
    "    logging.info('Initialized LD400 station')   \n",
    "    return station\n",
    "</pre>    "
   ]
  },
  {
   "cell_type": "markdown",
   "metadata": {},
   "source": [
    "Closing a station is also possible:"
   ]
  },
  {
   "cell_type": "code",
   "execution_count": 11,
   "metadata": {},
   "outputs": [
    {
     "name": "stdout",
     "output_type": "stream",
     "text": [
      "close gates: gates (16 gates)\n",
      "close <VirtualMeter: keithley1>\n",
      "close <VirtualMeter: keithley3>\n",
      "close <VirtualMeter: keithley4>\n",
      "close VirtualIVVI: ivvi1\n",
      "close VirtualIVVI: ivvi2\n",
      "close <SimulationAWG: vawg>\n",
      "close <SimulationDigitizer: sdigitizer>\n"
     ]
    }
   ],
   "source": [
    "qtt.simulation.virtual_dot_array.close()"
   ]
  },
  {
   "cell_type": "code",
   "execution_count": null,
   "metadata": {
    "collapsed": true
   },
   "outputs": [],
   "source": []
  }
 ],
 "metadata": {
  "kernelspec": {
   "display_name": "Python 3",
   "language": "python",
   "name": "python3"
  },
  "language_info": {
   "codemirror_mode": {
    "name": "ipython",
    "version": 3
   },
   "file_extension": ".py",
   "mimetype": "text/x-python",
   "name": "python",
   "nbconvert_exporter": "python",
   "pygments_lexer": "ipython3",
   "version": "3.6.3"
  }
 },
 "nbformat": 4,
 "nbformat_minor": 1
}
