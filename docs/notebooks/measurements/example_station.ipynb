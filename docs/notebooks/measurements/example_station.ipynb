{
 "cells": [
  {
   "cell_type": "markdown",
   "metadata": {},
   "source": [
    "# Defining a station"
   ]
  },
  {
   "cell_type": "markdown",
   "metadata": {},
   "source": [
    "In this example we will shortly discuss the use of a station with instruments. A station bounds instruments and has functionality to control and store the settings of the devices. We will start from a simulated station (the virtual dot array) that has a special function `initialize` to directly create the station object with simulated instruments:"
   ]
  },
  {
   "cell_type": "code",
   "execution_count": 10,
   "metadata": {
    "scrolled": true
   },
   "outputs": [
    {
     "name": "stdout",
     "output_type": "stream",
     "text": [
      "initialize: create virtualdot\n",
      "initialized virtual dot system (2 dots)\n"
     ]
    }
   ],
   "source": [
    "from qtt.simulation import virtual_dot_array\n",
    "station = virtual_dot_array.initialize()"
   ]
  },
  {
   "cell_type": "markdown",
   "metadata": {},
   "source": [
    "The simulated station contain the instuments; `gates`, `keithley1`, `keithley3`, `keithley4`, `ivvi1`, `ivvi2`, `vawg` and a `digitizer`. In general, every Instrument of a station have Parameter items, which are gettable or settable. For example, using the simulated station we can get the keithley and P1 gate amplitude:"
   ]
  },
  {
   "cell_type": "code",
   "execution_count": 3,
   "metadata": {},
   "outputs": [
    {
     "name": "stdout",
     "output_type": "stream",
     "text": [
      "gates: gates (16 gates)\n",
      "0.3166101322411219\n",
      "1.5\n",
      "<VirtualMeter: keithley1>\n",
      "2.9964151248162425\n"
     ]
    }
   ],
   "source": [
    "gates = station.gates\n",
    "print(gates)\n",
    "print(gates.P1.get())\n",
    "\n",
    "gates.P1.set(1.5)\n",
    "print(gates.P1.get())\n",
    "\n",
    "keithley1 = station.keithley1\n",
    "print(keithley1)\n",
    "print(keithley1.amplitude.get())"
   ]
  },
  {
   "cell_type": "markdown",
   "metadata": {},
   "source": [
    "Default workflow after connecting the instruments (the `initialize` function) is to use the station with the measurement functions. The measurements make use of the instruments in the station. To create a station, you need to define you own `initialize` function. An example `initialize` function is shown below. For your own setup to have to modify the code with the correct instruments and settings."
   ]
  },
  {
   "cell_type": "markdown",
   "metadata": {},
   "source": [
    "<pre>from qtt.instrument_drivers.gates import VirtualDAC\n",
    "\n",
    "# the gate_map defines the relation between names gates and the DAC channels of physical instruments\n",
    "gate_map = {'P0': (0,1), 'P1', (0,2), 'P3', (0,3), 'B0', (1,0), 'B1': (1,1), 'B2': (1,2), 'B3': (1,3)}\n",
    "\n",
    "def initialize():\n",
    "    \n",
    "    logging.info('my station: initialize')\n",
    "    \n",
    "    # Loading IVVI\n",
    "    logging.info('my station: load IVVI driver')\n",
    "    ivvi1 = IVVI.IVVI(name='ivvi1', address='COM5', numdacs=16,)\n",
    "    ivvi2 = IVVI.IVVI(name='ivvi2', address='COM6', numdacs=16,)\n",
    "    \n",
    "    # Loading Lockins\n",
    "    logging.info('my station: load lockin driver')\n",
    "    lockin1 = SR830.SR830(name='lockin1', address='GPIB1::6::INSTR')\n",
    "    lockin1.output_interface('GPIB')\n",
    "\n",
    "    # Loading digitizer\n",
    "    logging.info('my station: load digitizer driver')\n",
    "    digitizer = M4i.M4i(name='digitizer')\n",
    "\n",
    "    logging.info('my station: all drivers have been loaded')\n",
    "        \n",
    "    # Create virtual instruments\n",
    "    gates = VirtualDAC(name='gates', gate_map=gate_map, instruments=[ivvi1, ivvi2])\n",
    "\n",
    "    #Creating the experimental station\n",
    "    station = qcodes.Station(ivvi1, ivvi2,, lockin1, digitizer, gates)\n",
    "    \n",
    "    logging.info('my station: initialization done')   \n",
    "    return station\n",
    "</pre>    "
   ]
  },
  {
   "cell_type": "markdown",
   "metadata": {},
   "source": [
    "A view of all the settings of a instrument or station can be shown using the `snapshot` function. The measurements use `snapshot` to collect the settings, which are stored together with the measurement results."
   ]
  },
  {
   "cell_type": "code",
   "execution_count": 6,
   "metadata": {},
   "outputs": [
    {
     "name": "stdout",
     "output_type": "stream",
     "text": [
      "{'functions': {}, 'submodules': {}, '__class__': 'qtt.instrument_drivers.virtual_instruments.VirtualMeter', 'parameters': {'IDN': {'value': None, 'ts': None, 'raw_value': None, '__class__': 'qcodes.instrument.parameter.Parameter', 'full_name': 'keithley1_IDN', 'unit': '', 'instrument': 'qtt.instrument_drivers.virtual_instruments.VirtualMeter', 'instrument_name': 'keithley1', 'label': 'IDN', 'inter_delay': 0, 'name': 'IDN', 'vals': '<Anything>', 'post_delay': 0}, 'amplitude': {'value': 2.9964151248162425, 'ts': '2018-09-16 21:34:35', 'raw_value': 2.9964151248162425, '__class__': 'qcodes.instrument.parameter.Parameter', 'full_name': 'keithley1_amplitude', 'unit': 'a.u.', 'instrument': 'qtt.instrument_drivers.virtual_instruments.VirtualMeter', 'instrument_name': 'keithley1', 'label': 'keithley1 amplitude', 'inter_delay': 0, 'name': 'amplitude', 'post_delay': 0}, 'readnext': {'value': None, 'ts': None, 'raw_value': None, '__class__': 'qcodes.instrument.parameter.Parameter', 'full_name': 'keithley1_readnext', 'unit': '', 'instrument': 'qtt.instrument_drivers.virtual_instruments.VirtualMeter', 'instrument_name': 'keithley1', 'label': 'keithley1', 'inter_delay': 0, 'name': 'readnext', 'post_delay': 0}}, 'name': 'keithley1'}\n"
     ]
    }
   ],
   "source": [
    "print(keithley1.snapshot())"
   ]
  },
  {
   "cell_type": "code",
   "execution_count": 7,
   "metadata": {},
   "outputs": [
    {
     "name": "stdout",
     "output_type": "stream",
     "text": [
      "dict_keys(['instruments', 'parameters', 'components', 'default_measurement', 'metadata'])\n"
     ]
    }
   ],
   "source": [
    "snapshot = station.snapshot()\n",
    "print(snapshot.keys())"
   ]
  },
  {
   "cell_type": "markdown",
   "metadata": {},
   "source": [
    "After all experiments are over, all devices need to be disconnected. The `virtual_dot_array` has a `close` function to stop and clean up all the instrument resources:"
   ]
  },
  {
   "cell_type": "code",
   "execution_count": 8,
   "metadata": {},
   "outputs": [
    {
     "name": "stdout",
     "output_type": "stream",
     "text": [
      "close gates: gates (16 gates)\n",
      "close <VirtualMeter: keithley1>\n",
      "close <VirtualMeter: keithley3>\n",
      "close <VirtualMeter: keithley4>\n",
      "close VirtualIVVI: ivvi1\n",
      "close VirtualIVVI: ivvi2\n",
      "close <SimulationAWG: vawg>\n",
      "close <SimulationDigitizer: sdigitizer>\n"
     ]
    }
   ],
   "source": [
    "virtual_dot_array.close()"
   ]
  },
  {
   "cell_type": "markdown",
   "metadata": {},
   "source": [
    "For your own setup to have to write your own `close` function."
   ]
  }
 ],
 "metadata": {
  "kernelspec": {
   "display_name": "Python 3",
   "language": "python",
   "name": "python3"
  },
  "language_info": {
   "codemirror_mode": {
    "name": "ipython",
    "version": 3
   },
   "file_extension": ".py",
   "mimetype": "text/x-python",
   "name": "python",
   "nbconvert_exporter": "python",
   "pygments_lexer": "ipython3",
   "version": "3.6.3"
  }
 },
 "nbformat": 4,
 "nbformat_minor": 1
}
