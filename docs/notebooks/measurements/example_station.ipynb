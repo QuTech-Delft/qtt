{
 "cells": [
  {
   "cell_type": "markdown",
   "metadata": {},
   "source": [
    "# Defining a station"
   ]
  },
  {
   "cell_type": "markdown",
   "metadata": {},
   "source": [
    "A station consists of a Python module with a special function `initialize`. In this function to connect to all your instruments.\n",
    "For example to use a station one can do:"
   ]
  },
  {
   "cell_type": "code",
   "execution_count": 1,
   "metadata": {
    "collapsed": false
   },
   "outputs": [
    {
     "name": "stdout",
     "output_type": "stream",
     "text": [
      "initialized virtual dot system\n"
     ]
    }
   ],
   "source": [
    "import virtualDot\n",
    "station = virtualDot.initialize()"
   ]
  },
  {
   "cell_type": "markdown",
   "metadata": {},
   "source": [
    "A station containts instruments:"
   ]
  },
  {
   "cell_type": "code",
   "execution_count": 2,
   "metadata": {
    "collapsed": false
   },
   "outputs": [
    {
     "data": {
      "text/plain": [
       "0.37419342673184874"
      ]
     },
     "execution_count": 2,
     "metadata": {},
     "output_type": "execute_result"
    }
   ],
   "source": [
    "gates=station.gates\n",
    "gates.R.get()"
   ]
  },
  {
   "cell_type": "markdown",
   "metadata": {},
   "source": [
    "Typical code included in a station:\n",
    "* connect to the instruments (the `initialize` function)\n",
    "* setup parameters\n",
    "* information about the sample\n",
    "\n",
    "A sample `initialize` function could be:"
   ]
  },
  {
   "cell_type": "markdown",
   "metadata": {},
   "source": [
    "<pre>\n",
    "def initialize(reinit=False, server_name=None):\n",
    "    global station, mwindows, output_map\n",
    "    \n",
    "    logging.info('LD400: initialize')\n",
    "    print('\\n')\n",
    "    \n",
    "    if _initialized and not reinit:\n",
    "        return station\n",
    "    \n",
    "    # Loading IVVI\n",
    "    logging.info('LD400: load IVVI driver')\n",
    "    ivvi = IVVI.IVVI(name='ivvi', address='COM5', server_name=server_name, numdacs=16,)\n",
    "    \n",
    "    # Loading Lockins\n",
    "    logging.info('LD400: load lockin driver')\n",
    "    lockin1 = SR830.SR830(name='lockin1', address='GPIB1::6::INSTR', server_name=server_name)\n",
    "    lockin1.output_interface('GPIB')\n",
    "\n",
    "    # Loading digitizer\n",
    "    logging.info('LD400: load digitizer driver')\n",
    "    digitizer = M4i.M4i(name='digitizer', server_name=server_name)\n",
    "\n",
    "    logging.info('all drivers have been loaded')\n",
    "    \n",
    "    \n",
    "    # Create map for gates and outputs\n",
    "    gate_map=station_gate_map()\n",
    "    gates = virtual_gates(name='gates', gate_map=gate_map, server_name=server_name, instruments=[ivvi])\n",
    "\n",
    "    #Creating the experimental station\n",
    "    station = qcodes.Station(ivvi, lockin1, digitizer, gates)\n",
    "    \n",
    "    logging.info('Initialized LD400 station')   \n",
    "    return station\n",
    "</pre>    "
   ]
  },
  {
   "cell_type": "markdown",
   "metadata": {},
   "source": [
    "Closing a station is also possible:"
   ]
  },
  {
   "cell_type": "code",
   "execution_count": 4,
   "metadata": {
    "collapsed": false
   },
   "outputs": [
    {
     "name": "stdout",
     "output_type": "stream",
     "text": [
      "close <VirtualMeter: keithley3>\n",
      "close virtual_gates: gates (13 gates)\n",
      "close <VirtualMeter: keithley1>\n"
     ]
    }
   ],
   "source": [
    "virtualDot.close()"
   ]
  },
  {
   "cell_type": "code",
   "execution_count": null,
   "metadata": {
    "collapsed": true
   },
   "outputs": [],
   "source": []
  }
 ],
 "metadata": {
  "kernelspec": {
   "display_name": "Python 3",
   "language": "python",
   "name": "python3"
  },
  "language_info": {
   "codemirror_mode": {
    "name": "ipython",
    "version": 3
   },
   "file_extension": ".py",
   "mimetype": "text/x-python",
   "name": "python",
   "nbconvert_exporter": "python",
   "pygments_lexer": "ipython3",
   "version": "3.5.2"
  }
 },
 "nbformat": 4,
 "nbformat_minor": 0
}
