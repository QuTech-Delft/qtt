{
 "cells": [
  {
   "cell_type": "markdown",
   "metadata": {},
   "source": [
    "# Defining a station"
   ]
  },
  {
   "cell_type": "markdown",
   "metadata": {},
   "source": [
    "In this example we will shortly discuss the use of a station with instruments. A station bounds instruments and has functionality to control and store the settings of the devices. We will start from a simulated station (the virtual dot array) that has a special function `initialize` to directly create the station object with simulated instruments:"
   ]
  },
  {
   "cell_type": "code",
   "execution_count": 1,
   "metadata": {
    "scrolled": true
   },
   "outputs": [
    {
     "name": "stdout",
     "output_type": "stream",
     "text": [
      "initialize: create virtualdot\n",
      "initialized virtual dot system (2 dots)\n"
     ]
    }
   ],
   "source": [
    "from qtt.simulation import virtual_dot_array\n",
    "station = virtual_dot_array.initialize()"
   ]
  },
  {
   "cell_type": "markdown",
   "metadata": {},
   "source": [
    "The simulated station contain the instuments; `gates`, `keithley1`, `keithley3`, `keithley4`, `ivvi1`, `ivvi2`, `vawg` and a `digitizer`. In general, every Instrument of a station have Parameter items, which are gettable or settable. For example, using the simulated station we can get the keithley and P1 gate amplitude:"
   ]
  },
  {
   "cell_type": "code",
   "execution_count": 8,
   "metadata": {},
   "outputs": [
    {
     "name": "stdout",
     "output_type": "stream",
     "text": [
      "gates: gates (16 gates)\n",
      "1.5\n",
      "1.5\n",
      "<VirtualMeter: keithley1>\n",
      "2.99501692636\n"
     ]
    }
   ],
   "source": [
    "gates = station.gates\n",
    "print(gates)\n",
    "print(gates.P1.get())\n",
    "\n",
    "gates.P1.set(1.5)\n",
    "print(gates.P1.get())\n",
    "\n",
    "keithley1 = station.keithley1\n",
    "print(keithley1)\n",
    "print(keithley1.amplitude.get())"
   ]
  },
  {
   "cell_type": "markdown",
   "metadata": {},
   "source": [
    "Default workflow after connecting the instruments (the `initialize` function) is to use the station with the measurement functions. The measurements make use of the instruments in the station. To create a station, you need to define you own `initialize` function. Typically the function looks like:"
   ]
  },
  {
   "cell_type": "markdown",
   "metadata": {},
   "source": [
    "<pre>\n",
    "def initialize(reinit=False, server_name=None):\n",
    "    global station, mwindows, output_map\n",
    "    \n",
    "    logging.info('LD400: initialize')\n",
    "    print('\\n')\n",
    "    \n",
    "    if _initialized and not reinit:\n",
    "        return station\n",
    "    \n",
    "    # Loading IVVI\n",
    "    logging.info('LD400: load IVVI driver')\n",
    "    ivvi = IVVI.IVVI(name='ivvi', address='COM5', server_name=server_name, numdacs=16,)\n",
    "    \n",
    "    # Loading Lockins\n",
    "    logging.info('LD400: load lockin driver')\n",
    "    lockin1 = SR830.SR830(name='lockin1', address='GPIB1::6::INSTR', server_name=server_name)\n",
    "    lockin1.output_interface('GPIB')\n",
    "\n",
    "    # Loading digitizer\n",
    "    logging.info('LD400: load digitizer driver')\n",
    "    digitizer = M4i.M4i(name='digitizer', server_name=server_name)\n",
    "\n",
    "    logging.info('all drivers have been loaded')\n",
    "    \n",
    "    \n",
    "    # Create map for gates and outputs\n",
    "    gate_map=station_gate_map()\n",
    "    gates = virtual_gates(name='gates', gate_map=gate_map, server_name=server_name, instruments=[ivvi])\n",
    "\n",
    "    #Creating the experimental station\n",
    "    station = qcodes.Station(ivvi, lockin1, digitizer, gates)\n",
    "    \n",
    "    logging.info('Initialized LD400 station')   \n",
    "    return station\n",
    "</pre>    "
   ]
  },
  {
   "cell_type": "markdown",
   "metadata": {},
   "source": [
    "A view of all the settings of a instrument or station can be shown using the `snapshot` function. The measurements use `snapshot` to collect the settings, which are stored together with the measurement results."
   ]
  },
  {
   "cell_type": "code",
   "execution_count": 31,
   "metadata": {},
   "outputs": [
    {
     "name": "stdout",
     "output_type": "stream",
     "text": [
      "{'functions': {}, 'submodules': {}, '__class__': 'qtt.instrument_drivers.virtual_instruments.VirtualMeter', 'parameters': {'IDN': {'value': None, 'ts': None, 'raw_value': None, '__class__': 'qcodes.instrument.parameter.Parameter', 'full_name': 'keithley1_IDN', 'label': 'IDN', 'instrument': 'qtt.instrument_drivers.virtual_instruments.VirtualMeter', 'instrument_name': 'keithley1', 'name': 'IDN', 'vals': '<Anything>', 'post_delay': 0, 'inter_delay': 0, 'unit': ''}, 'amplitude': {'value': 2.9950169263609085, 'ts': '2018-09-06 11:00:41', 'raw_value': 2.9950169263609085, '__class__': 'qcodes.instrument.parameter.Parameter', 'full_name': 'keithley1_amplitude', 'label': 'keithley1 amplitude', 'instrument': 'qtt.instrument_drivers.virtual_instruments.VirtualMeter', 'instrument_name': 'keithley1', 'name': 'amplitude', 'post_delay': 0, 'inter_delay': 0, 'unit': 'a.u.'}, 'readnext': {'value': None, 'ts': None, 'raw_value': None, '__class__': 'qcodes.instrument.parameter.Parameter', 'full_name': 'keithley1_readnext', 'label': 'keithley1', 'instrument': 'qtt.instrument_drivers.virtual_instruments.VirtualMeter', 'instrument_name': 'keithley1', 'name': 'readnext', 'post_delay': 0, 'inter_delay': 0, 'unit': ''}}, 'name': 'keithley1'}\n",
      "{'instruments': {'gates': {'functions': {'get_B0': {}, 'set_B0': {}, 'get_B1': {}, 'set_B1': {}, 'get_B2': {}, 'set_B2': {}, 'get_D0': {}, 'set_D0': {}, 'get_O1': {}, 'set_O1': {}, 'get_O2': {}, 'set_O2': {}, 'get_O3': {}, 'set_O3': {}, 'get_O4': {}, 'set_O4': {}, 'get_O5': {}, 'set_O5': {}, 'get_P1': {}, 'set_P1': {}, 'get_P2': {}, 'set_P2': {}, 'get_SD1a': {}, 'set_SD1a': {}, 'get_SD1b': {}, 'set_SD1b': {}, 'get_SD1c': {}, 'set_SD1c': {}, 'get_bias_1': {}, 'set_bias_1': {}, 'get_bias_2': {}, 'set_bias_2': {}}, 'submodules': {}, '__class__': 'qtt.instrument_drivers.gates.virtual_IVVI', 'parameters': {'IDN': {'value': None, 'ts': None, 'raw_value': None, '__class__': 'qcodes.instrument.parameter.Parameter', 'full_name': 'gates_IDN', 'label': 'IDN', 'instrument': 'qtt.instrument_drivers.gates.virtual_IVVI', 'instrument_name': 'gates', 'name': 'IDN', 'vals': '<Anything>', 'post_delay': 0, 'inter_delay': 0, 'unit': ''}, 'rc_times': {'value': None, 'ts': None, 'raw_value': None, '__class__': 'qcodes.instrument.parameter.Parameter', 'full_name': 'gates_rc_times', 'label': 'rc_times', 'instrument': 'qtt.instrument_drivers.gates.virtual_IVVI', 'instrument_name': 'gates', 'name': 'rc_times', 'post_delay': 0, 'inter_delay': 0, 'unit': ''}, 'B0': {'value': -0.07490680487794144, 'ts': '2018-09-06 10:42:37', 'raw_value': -0.07490680487794144, '__class__': 'qcodes.instrument.parameter.Parameter', 'full_name': 'gates_B0', 'label': 'B0', 'instrument': 'qtt.instrument_drivers.gates.virtual_IVVI', 'instrument_name': 'gates', 'name': 'B0', 'post_delay': 0, 'inter_delay': 0, 'unit': 'mV'}, 'B1': {'value': -0.11216837181152561, 'ts': '2018-09-06 10:42:37', 'raw_value': -0.11216837181152561, '__class__': 'qcodes.instrument.parameter.Parameter', 'full_name': 'gates_B1', 'label': 'B1', 'instrument': 'qtt.instrument_drivers.gates.virtual_IVVI', 'instrument_name': 'gates', 'name': 'B1', 'post_delay': 0, 'inter_delay': 0, 'unit': 'mV'}, 'B2': {'value': 0.2852754327979796, 'ts': '2018-09-06 10:42:37', 'raw_value': 0.2852754327979796, '__class__': 'qcodes.instrument.parameter.Parameter', 'full_name': 'gates_B2', 'label': 'B2', 'instrument': 'qtt.instrument_drivers.gates.virtual_IVVI', 'instrument_name': 'gates', 'name': 'B2', 'post_delay': 0, 'inter_delay': 0, 'unit': 'mV'}, 'D0': {'value': 0.12948875184452446, 'ts': '2018-09-06 10:42:37', 'raw_value': 0.12948875184452446, '__class__': 'qcodes.instrument.parameter.Parameter', 'full_name': 'gates_D0', 'label': 'D0', 'instrument': 'qtt.instrument_drivers.gates.virtual_IVVI', 'instrument_name': 'gates', 'name': 'D0', 'post_delay': 0, 'inter_delay': 0, 'unit': 'mV'}, 'O1': {'value': -0.340904901059251, 'ts': '2018-09-06 10:42:37', 'raw_value': -0.340904901059251, '__class__': 'qcodes.instrument.parameter.Parameter', 'full_name': 'gates_O1', 'label': 'O1', 'instrument': 'qtt.instrument_drivers.gates.virtual_IVVI', 'instrument_name': 'gates', 'name': 'O1', 'post_delay': 0, 'inter_delay': 0, 'unit': 'uV'}, 'O2': {'value': 0.19362617417001926, 'ts': '2018-09-06 10:42:37', 'raw_value': 0.19362617417001926, '__class__': 'qcodes.instrument.parameter.Parameter', 'full_name': 'gates_O2', 'label': 'O2', 'instrument': 'qtt.instrument_drivers.gates.virtual_IVVI', 'instrument_name': 'gates', 'name': 'O2', 'post_delay': 0, 'inter_delay': 0, 'unit': 'uV'}, 'O3': {'value': 0.4170966583969299, 'ts': '2018-09-06 10:42:37', 'raw_value': 0.4170966583969299, '__class__': 'qcodes.instrument.parameter.Parameter', 'full_name': 'gates_O3', 'label': 'O3', 'instrument': 'qtt.instrument_drivers.gates.virtual_IVVI', 'instrument_name': 'gates', 'name': 'O3', 'post_delay': 0, 'inter_delay': 0, 'unit': 'uV'}, 'O4': {'value': -0.09130809313321586, 'ts': '2018-09-06 10:42:37', 'raw_value': -0.09130809313321586, '__class__': 'qcodes.instrument.parameter.Parameter', 'full_name': 'gates_O4', 'label': 'O4', 'instrument': 'qtt.instrument_drivers.gates.virtual_IVVI', 'instrument_name': 'gates', 'name': 'O4', 'post_delay': 0, 'inter_delay': 0, 'unit': 'uV'}, 'O5': {'value': 0.22924134794225892, 'ts': '2018-09-06 10:42:37', 'raw_value': 0.22924134794225892, '__class__': 'qcodes.instrument.parameter.Parameter', 'full_name': 'gates_O5', 'label': 'O5', 'instrument': 'qtt.instrument_drivers.gates.virtual_IVVI', 'instrument_name': 'gates', 'name': 'O5', 'post_delay': 0, 'inter_delay': 0, 'unit': 'uV'}, 'P1': {'value': 1.5, 'ts': '2018-09-06 11:00:41', 'raw_value': 1.5, '__class__': 'qcodes.instrument.parameter.Parameter', 'full_name': 'gates_P1', 'label': 'P1', 'instrument': 'qtt.instrument_drivers.gates.virtual_IVVI', 'instrument_name': 'gates', 'name': 'P1', 'post_delay': 0, 'inter_delay': 0, 'unit': 'mV'}, 'P2': {'value': 0.28472138433152183, 'ts': '2018-09-06 10:42:37', 'raw_value': 0.28472138433152183, '__class__': 'qcodes.instrument.parameter.Parameter', 'full_name': 'gates_P2', 'label': 'P2', 'instrument': 'qtt.instrument_drivers.gates.virtual_IVVI', 'instrument_name': 'gates', 'name': 'P2', 'post_delay': 0, 'inter_delay': 0, 'unit': 'mV'}, 'SD1a': {'value': -0.14131484140367034, 'ts': '2018-09-06 10:42:37', 'raw_value': -0.14131484140367034, '__class__': 'qcodes.instrument.parameter.Parameter', 'full_name': 'gates_SD1a', 'label': 'SD1a', 'instrument': 'qtt.instrument_drivers.gates.virtual_IVVI', 'instrument_name': 'gates', 'name': 'SD1a', 'post_delay': 0, 'inter_delay': 0, 'unit': 'mV'}, 'SD1b': {'value': 0.32126803996825404, 'ts': '2018-09-06 10:42:37', 'raw_value': 0.32126803996825404, '__class__': 'qcodes.instrument.parameter.Parameter', 'full_name': 'gates_SD1b', 'label': 'SD1b', 'instrument': 'qtt.instrument_drivers.gates.virtual_IVVI', 'instrument_name': 'gates', 'name': 'SD1b', 'post_delay': 0, 'inter_delay': 0, 'unit': 'mV'}, 'SD1c': {'value': 0.49369994960328023, 'ts': '2018-09-06 10:42:37', 'raw_value': 0.49369994960328023, '__class__': 'qcodes.instrument.parameter.Parameter', 'full_name': 'gates_SD1c', 'label': 'SD1c', 'instrument': 'qtt.instrument_drivers.gates.virtual_IVVI', 'instrument_name': 'gates', 'name': 'SD1c', 'post_delay': 0, 'inter_delay': 0, 'unit': 'mV'}, 'bias_1': {'value': -0.4809689040762716, 'ts': '2018-09-06 10:42:37', 'raw_value': -0.4809689040762716, '__class__': 'qcodes.instrument.parameter.Parameter', 'full_name': 'gates_bias_1', 'label': 'bias_1', 'instrument': 'qtt.instrument_drivers.gates.virtual_IVVI', 'instrument_name': 'gates', 'name': 'bias_1', 'post_delay': 0, 'inter_delay': 0, 'unit': 'mV'}, 'bias_2': {'value': 0.3720636590844504, 'ts': '2018-09-06 10:42:37', 'raw_value': 0.3720636590844504, '__class__': 'qcodes.instrument.parameter.Parameter', 'full_name': 'gates_bias_2', 'label': 'bias_2', 'instrument': 'qtt.instrument_drivers.gates.virtual_IVVI', 'instrument_name': 'gates', 'name': 'bias_2', 'post_delay': 0, 'inter_delay': 0, 'unit': 'mV'}}, 'name': 'gates'}, 'keithley1': {'functions': {}, 'submodules': {}, '__class__': 'qtt.instrument_drivers.virtual_instruments.VirtualMeter', 'parameters': {'IDN': {'value': None, 'ts': None, 'raw_value': None, '__class__': 'qcodes.instrument.parameter.Parameter', 'full_name': 'keithley1_IDN', 'label': 'IDN', 'instrument': 'qtt.instrument_drivers.virtual_instruments.VirtualMeter', 'instrument_name': 'keithley1', 'name': 'IDN', 'vals': '<Anything>', 'post_delay': 0, 'inter_delay': 0, 'unit': ''}, 'amplitude': {'value': 2.9950169263609085, 'ts': '2018-09-06 11:00:41', 'raw_value': 2.9950169263609085, '__class__': 'qcodes.instrument.parameter.Parameter', 'full_name': 'keithley1_amplitude', 'label': 'keithley1 amplitude', 'instrument': 'qtt.instrument_drivers.virtual_instruments.VirtualMeter', 'instrument_name': 'keithley1', 'name': 'amplitude', 'post_delay': 0, 'inter_delay': 0, 'unit': 'a.u.'}, 'readnext': {'value': None, 'ts': None, 'raw_value': None, '__class__': 'qcodes.instrument.parameter.Parameter', 'full_name': 'keithley1_readnext', 'label': 'keithley1', 'instrument': 'qtt.instrument_drivers.virtual_instruments.VirtualMeter', 'instrument_name': 'keithley1', 'name': 'readnext', 'post_delay': 0, 'inter_delay': 0, 'unit': ''}}, 'name': 'keithley1'}, 'keithley3': {'functions': {}, 'submodules': {}, '__class__': 'qtt.instrument_drivers.virtual_instruments.VirtualMeter', 'parameters': {'IDN': {'value': None, 'ts': None, 'raw_value': None, '__class__': 'qcodes.instrument.parameter.Parameter', 'full_name': 'keithley3_IDN', 'label': 'IDN', 'instrument': 'qtt.instrument_drivers.virtual_instruments.VirtualMeter', 'instrument_name': 'keithley3', 'name': 'IDN', 'vals': '<Anything>', 'post_delay': 0, 'inter_delay': 0, 'unit': ''}, 'amplitude': {'value': None, 'ts': None, 'raw_value': None, '__class__': 'qcodes.instrument.parameter.Parameter', 'full_name': 'keithley3_amplitude', 'label': 'keithley3 amplitude', 'instrument': 'qtt.instrument_drivers.virtual_instruments.VirtualMeter', 'instrument_name': 'keithley3', 'name': 'amplitude', 'post_delay': 0, 'inter_delay': 0, 'unit': 'a.u.'}, 'readnext': {'value': None, 'ts': None, 'raw_value': None, '__class__': 'qcodes.instrument.parameter.Parameter', 'full_name': 'keithley3_readnext', 'label': 'keithley3', 'instrument': 'qtt.instrument_drivers.virtual_instruments.VirtualMeter', 'instrument_name': 'keithley3', 'name': 'readnext', 'post_delay': 0, 'inter_delay': 0, 'unit': ''}}, 'name': 'keithley3'}, 'keithley4': {'functions': {}, 'submodules': {}, '__class__': 'qtt.instrument_drivers.virtual_instruments.VirtualMeter', 'parameters': {'IDN': {'value': None, 'ts': None, 'raw_value': None, '__class__': 'qcodes.instrument.parameter.Parameter', 'full_name': 'keithley4_IDN', 'label': 'IDN', 'instrument': 'qtt.instrument_drivers.virtual_instruments.VirtualMeter', 'instrument_name': 'keithley4', 'name': 'IDN', 'vals': '<Anything>', 'post_delay': 0, 'inter_delay': 0, 'unit': ''}, 'amplitude': {'value': None, 'ts': None, 'raw_value': None, '__class__': 'qcodes.instrument.parameter.Parameter', 'full_name': 'keithley4_amplitude', 'label': 'keithley4 amplitude', 'instrument': 'qtt.instrument_drivers.virtual_instruments.VirtualMeter', 'instrument_name': 'keithley4', 'name': 'amplitude', 'post_delay': 0, 'inter_delay': 0, 'unit': 'a.u.'}, 'readnext': {'value': None, 'ts': None, 'raw_value': None, '__class__': 'qcodes.instrument.parameter.Parameter', 'full_name': 'keithley4_readnext', 'label': 'keithley4', 'instrument': 'qtt.instrument_drivers.virtual_instruments.VirtualMeter', 'instrument_name': 'keithley4', 'name': 'readnext', 'post_delay': 0, 'inter_delay': 0, 'unit': ''}}, 'name': 'keithley4'}, 'ivvi1': {'functions': {'reset': {}, 'get_dac1': {}, 'get_dac2': {}, 'get_dac3': {}, 'get_dac4': {}, 'get_dac5': {}, 'get_dac6': {}, 'get_dac7': {}, 'get_dac8': {}, 'get_dac9': {}, 'get_dac10': {}, 'get_dac11': {}, 'get_dac12': {}, 'get_dac13': {}, 'get_dac14': {}, 'get_dac15': {}, 'get_dac16': {}}, 'submodules': {}, '__class__': 'qtt.instrument_drivers.virtual_instruments.VirtualIVVI', 'parameters': {'IDN': {'value': None, 'ts': None, 'raw_value': None, '__class__': 'qcodes.instrument.parameter.Parameter', 'full_name': 'ivvi1_IDN', 'label': 'IDN', 'instrument': 'qtt.instrument_drivers.virtual_instruments.VirtualIVVI', 'instrument_name': 'ivvi1', 'name': 'IDN', 'vals': '<Anything>', 'post_delay': 0, 'inter_delay': 0, 'unit': ''}, 'dac1': {'value': -0.07490680487794144, 'ts': '2018-09-06 10:42:37', 'raw_value': -0.07490680487794144, '__class__': 'qcodes.instrument.parameter.Parameter', 'full_name': 'ivvi1_dac1', 'label': 'Gate dac1 (mV)', 'instrument': 'qtt.instrument_drivers.virtual_instruments.VirtualIVVI', 'instrument_name': 'ivvi1', 'name': 'dac1', 'vals': '<Numbers -1000<=v<=800>', 'post_delay': 0, 'inter_delay': 0, 'unit': 'arb.units'}, 'dac2': {'value': -0.11216837181152561, 'ts': '2018-09-06 10:42:37', 'raw_value': -0.11216837181152561, '__class__': 'qcodes.instrument.parameter.Parameter', 'full_name': 'ivvi1_dac2', 'label': 'Gate dac2 (mV)', 'instrument': 'qtt.instrument_drivers.virtual_instruments.VirtualIVVI', 'instrument_name': 'ivvi1', 'name': 'dac2', 'vals': '<Numbers -1000<=v<=800>', 'post_delay': 0, 'inter_delay': 0, 'unit': 'arb.units'}, 'dac3': {'value': 0.2852754327979796, 'ts': '2018-09-06 10:42:37', 'raw_value': 0.2852754327979796, '__class__': 'qcodes.instrument.parameter.Parameter', 'full_name': 'ivvi1_dac3', 'label': 'Gate dac3 (mV)', 'instrument': 'qtt.instrument_drivers.virtual_instruments.VirtualIVVI', 'instrument_name': 'ivvi1', 'name': 'dac3', 'vals': '<Numbers -1000<=v<=800>', 'post_delay': 0, 'inter_delay': 0, 'unit': 'arb.units'}, 'dac4': {'value': 0.12948875184452446, 'ts': '2018-09-06 10:42:37', 'raw_value': 0.12948875184452446, '__class__': 'qcodes.instrument.parameter.Parameter', 'full_name': 'ivvi1_dac4', 'label': 'Gate dac4 (mV)', 'instrument': 'qtt.instrument_drivers.virtual_instruments.VirtualIVVI', 'instrument_name': 'ivvi1', 'name': 'dac4', 'vals': '<Numbers -1000<=v<=800>', 'post_delay': 0, 'inter_delay': 0, 'unit': 'arb.units'}, 'dac5': {'value': -0.340904901059251, 'ts': '2018-09-06 10:42:37', 'raw_value': -0.340904901059251, '__class__': 'qcodes.instrument.parameter.Parameter', 'full_name': 'ivvi1_dac5', 'label': 'Gate dac5 (mV)', 'instrument': 'qtt.instrument_drivers.virtual_instruments.VirtualIVVI', 'instrument_name': 'ivvi1', 'name': 'dac5', 'vals': '<Numbers -4000<=v<=4000>', 'post_delay': 0, 'inter_delay': 0, 'unit': 'arb.units'}, 'dac6': {'value': 0.19362617417001926, 'ts': '2018-09-06 10:42:37', 'raw_value': 0.19362617417001926, '__class__': 'qcodes.instrument.parameter.Parameter', 'full_name': 'ivvi1_dac6', 'label': 'Gate dac6 (mV)', 'instrument': 'qtt.instrument_drivers.virtual_instruments.VirtualIVVI', 'instrument_name': 'ivvi1', 'name': 'dac6', 'vals': '<Numbers -4000<=v<=4000>', 'post_delay': 0, 'inter_delay': 0, 'unit': 'arb.units'}, 'dac7': {'value': 0.4170966583969299, 'ts': '2018-09-06 10:42:37', 'raw_value': 0.4170966583969299, '__class__': 'qcodes.instrument.parameter.Parameter', 'full_name': 'ivvi1_dac7', 'label': 'Gate dac7 (mV)', 'instrument': 'qtt.instrument_drivers.virtual_instruments.VirtualIVVI', 'instrument_name': 'ivvi1', 'name': 'dac7', 'vals': '<Numbers -4000<=v<=4000>', 'post_delay': 0, 'inter_delay': 0, 'unit': 'arb.units'}, 'dac8': {'value': -0.09130809313321586, 'ts': '2018-09-06 10:42:37', 'raw_value': -0.09130809313321586, '__class__': 'qcodes.instrument.parameter.Parameter', 'full_name': 'ivvi1_dac8', 'label': 'Gate dac8 (mV)', 'instrument': 'qtt.instrument_drivers.virtual_instruments.VirtualIVVI', 'instrument_name': 'ivvi1', 'name': 'dac8', 'vals': '<Numbers -4000<=v<=4000>', 'post_delay': 0, 'inter_delay': 0, 'unit': 'arb.units'}, 'dac9': {'value': 0.22924134794225892, 'ts': '2018-09-06 10:42:37', 'raw_value': 0.22924134794225892, '__class__': 'qcodes.instrument.parameter.Parameter', 'full_name': 'ivvi1_dac9', 'label': 'Gate dac9 (mV)', 'instrument': 'qtt.instrument_drivers.virtual_instruments.VirtualIVVI', 'instrument_name': 'ivvi1', 'name': 'dac9', 'vals': '<Numbers -4000<=v<=4000>', 'post_delay': 0, 'inter_delay': 0, 'unit': 'arb.units'}, 'dac10': {'value': 1.5, 'ts': '2018-09-06 11:00:41', 'raw_value': 1.5, '__class__': 'qcodes.instrument.parameter.Parameter', 'full_name': 'ivvi1_dac10', 'label': 'Gate dac10 (mV)', 'instrument': 'qtt.instrument_drivers.virtual_instruments.VirtualIVVI', 'instrument_name': 'ivvi1', 'name': 'dac10', 'vals': '<Numbers -1000<=v<=800>', 'post_delay': 0, 'inter_delay': 0, 'unit': 'arb.units'}, 'dac11': {'value': 0.28472138433152183, 'ts': '2018-09-06 10:42:37', 'raw_value': 0.28472138433152183, '__class__': 'qcodes.instrument.parameter.Parameter', 'full_name': 'ivvi1_dac11', 'label': 'Gate dac11 (mV)', 'instrument': 'qtt.instrument_drivers.virtual_instruments.VirtualIVVI', 'instrument_name': 'ivvi1', 'name': 'dac11', 'vals': '<Numbers -1000<=v<=800>', 'post_delay': 0, 'inter_delay': 0, 'unit': 'arb.units'}, 'dac12': {'value': -0.14131484140367034, 'ts': '2018-09-06 10:42:37', 'raw_value': -0.14131484140367034, '__class__': 'qcodes.instrument.parameter.Parameter', 'full_name': 'ivvi1_dac12', 'label': 'Gate dac12 (mV)', 'instrument': 'qtt.instrument_drivers.virtual_instruments.VirtualIVVI', 'instrument_name': 'ivvi1', 'name': 'dac12', 'vals': '<Numbers -1000<=v<=1000>', 'post_delay': 0, 'inter_delay': 0, 'unit': 'arb.units'}, 'dac13': {'value': 0.32126803996825404, 'ts': '2018-09-06 10:42:37', 'raw_value': 0.32126803996825404, '__class__': 'qcodes.instrument.parameter.Parameter', 'full_name': 'ivvi1_dac13', 'label': 'Gate dac13 (mV)', 'instrument': 'qtt.instrument_drivers.virtual_instruments.VirtualIVVI', 'instrument_name': 'ivvi1', 'name': 'dac13', 'vals': '<Numbers -1000<=v<=1000>', 'post_delay': 0, 'inter_delay': 0, 'unit': 'arb.units'}, 'dac14': {'value': 0.49369994960328023, 'ts': '2018-09-06 10:42:37', 'raw_value': 0.49369994960328023, '__class__': 'qcodes.instrument.parameter.Parameter', 'full_name': 'ivvi1_dac14', 'label': 'Gate dac14 (mV)', 'instrument': 'qtt.instrument_drivers.virtual_instruments.VirtualIVVI', 'instrument_name': 'ivvi1', 'name': 'dac14', 'vals': '<Numbers -1000<=v<=1000>', 'post_delay': 0, 'inter_delay': 0, 'unit': 'arb.units'}, 'dac15': {'value': -0.4809689040762716, 'ts': '2018-09-06 10:42:37', 'raw_value': -0.4809689040762716, '__class__': 'qcodes.instrument.parameter.Parameter', 'full_name': 'ivvi1_dac15', 'label': 'Gate dac15 (mV)', 'instrument': 'qtt.instrument_drivers.virtual_instruments.VirtualIVVI', 'instrument_name': 'ivvi1', 'name': 'dac15', 'vals': '<Numbers -900<=v<=900>', 'post_delay': 0, 'inter_delay': 0, 'unit': 'arb.units'}, 'dac16': {'value': 0.3720636590844504, 'ts': '2018-09-06 10:42:37', 'raw_value': 0.3720636590844504, '__class__': 'qcodes.instrument.parameter.Parameter', 'full_name': 'ivvi1_dac16', 'label': 'Gate dac16 (mV)', 'instrument': 'qtt.instrument_drivers.virtual_instruments.VirtualIVVI', 'instrument_name': 'ivvi1', 'name': 'dac16', 'vals': '<Numbers -900<=v<=900>', 'post_delay': 0, 'inter_delay': 0, 'unit': 'arb.units'}}, 'name': 'ivvi1'}, 'ivvi2': {'functions': {'reset': {}, 'get_dac1': {}, 'get_dac2': {}, 'get_dac3': {}, 'get_dac4': {}, 'get_dac5': {}, 'get_dac6': {}, 'get_dac7': {}, 'get_dac8': {}, 'get_dac9': {}, 'get_dac10': {}, 'get_dac11': {}, 'get_dac12': {}, 'get_dac13': {}, 'get_dac14': {}, 'get_dac15': {}, 'get_dac16': {}}, 'submodules': {}, '__class__': 'qtt.instrument_drivers.virtual_instruments.VirtualIVVI', 'parameters': {'IDN': {'value': None, 'ts': None, 'raw_value': None, '__class__': 'qcodes.instrument.parameter.Parameter', 'full_name': 'ivvi2_IDN', 'label': 'IDN', 'instrument': 'qtt.instrument_drivers.virtual_instruments.VirtualIVVI', 'instrument_name': 'ivvi2', 'name': 'IDN', 'vals': '<Anything>', 'post_delay': 0, 'inter_delay': 0, 'unit': ''}, 'dac1': {'value': 0, 'ts': '2018-09-06 10:42:37', 'raw_value': 0, '__class__': 'qcodes.instrument.parameter.Parameter', 'full_name': 'ivvi2_dac1', 'label': 'Gate dac1 (mV)', 'instrument': 'qtt.instrument_drivers.virtual_instruments.VirtualIVVI', 'instrument_name': 'ivvi2', 'name': 'dac1', 'vals': '<Numbers -800<=v<=400>', 'post_delay': 0, 'inter_delay': 0, 'unit': 'arb.units'}, 'dac2': {'value': 0, 'ts': '2018-09-06 10:42:37', 'raw_value': 0, '__class__': 'qcodes.instrument.parameter.Parameter', 'full_name': 'ivvi2_dac2', 'label': 'Gate dac2 (mV)', 'instrument': 'qtt.instrument_drivers.virtual_instruments.VirtualIVVI', 'instrument_name': 'ivvi2', 'name': 'dac2', 'vals': '<Numbers -800<=v<=400>', 'post_delay': 0, 'inter_delay': 0, 'unit': 'arb.units'}, 'dac3': {'value': 0, 'ts': '2018-09-06 10:42:37', 'raw_value': 0, '__class__': 'qcodes.instrument.parameter.Parameter', 'full_name': 'ivvi2_dac3', 'label': 'Gate dac3 (mV)', 'instrument': 'qtt.instrument_drivers.virtual_instruments.VirtualIVVI', 'instrument_name': 'ivvi2', 'name': 'dac3', 'vals': '<Numbers -800<=v<=400>', 'post_delay': 0, 'inter_delay': 0, 'unit': 'arb.units'}, 'dac4': {'value': 0, 'ts': '2018-09-06 10:42:37', 'raw_value': 0, '__class__': 'qcodes.instrument.parameter.Parameter', 'full_name': 'ivvi2_dac4', 'label': 'Gate dac4 (mV)', 'instrument': 'qtt.instrument_drivers.virtual_instruments.VirtualIVVI', 'instrument_name': 'ivvi2', 'name': 'dac4', 'vals': '<Numbers -800<=v<=400>', 'post_delay': 0, 'inter_delay': 0, 'unit': 'arb.units'}, 'dac5': {'value': 0, 'ts': '2018-09-06 10:42:37', 'raw_value': 0, '__class__': 'qcodes.instrument.parameter.Parameter', 'full_name': 'ivvi2_dac5', 'label': 'Gate dac5 (mV)', 'instrument': 'qtt.instrument_drivers.virtual_instruments.VirtualIVVI', 'instrument_name': 'ivvi2', 'name': 'dac5', 'vals': '<Numbers -800<=v<=400>', 'post_delay': 0, 'inter_delay': 0, 'unit': 'arb.units'}, 'dac6': {'value': 0, 'ts': '2018-09-06 10:42:37', 'raw_value': 0, '__class__': 'qcodes.instrument.parameter.Parameter', 'full_name': 'ivvi2_dac6', 'label': 'Gate dac6 (mV)', 'instrument': 'qtt.instrument_drivers.virtual_instruments.VirtualIVVI', 'instrument_name': 'ivvi2', 'name': 'dac6', 'vals': '<Numbers -800<=v<=400>', 'post_delay': 0, 'inter_delay': 0, 'unit': 'arb.units'}, 'dac7': {'value': 0, 'ts': '2018-09-06 10:42:37', 'raw_value': 0, '__class__': 'qcodes.instrument.parameter.Parameter', 'full_name': 'ivvi2_dac7', 'label': 'Gate dac7 (mV)', 'instrument': 'qtt.instrument_drivers.virtual_instruments.VirtualIVVI', 'instrument_name': 'ivvi2', 'name': 'dac7', 'vals': '<Numbers -800<=v<=400>', 'post_delay': 0, 'inter_delay': 0, 'unit': 'arb.units'}, 'dac8': {'value': 0, 'ts': '2018-09-06 10:42:37', 'raw_value': 0, '__class__': 'qcodes.instrument.parameter.Parameter', 'full_name': 'ivvi2_dac8', 'label': 'Gate dac8 (mV)', 'instrument': 'qtt.instrument_drivers.virtual_instruments.VirtualIVVI', 'instrument_name': 'ivvi2', 'name': 'dac8', 'vals': '<Numbers -800<=v<=400>', 'post_delay': 0, 'inter_delay': 0, 'unit': 'arb.units'}, 'dac9': {'value': 0, 'ts': '2018-09-06 10:42:37', 'raw_value': 0, '__class__': 'qcodes.instrument.parameter.Parameter', 'full_name': 'ivvi2_dac9', 'label': 'Gate dac9 (mV)', 'instrument': 'qtt.instrument_drivers.virtual_instruments.VirtualIVVI', 'instrument_name': 'ivvi2', 'name': 'dac9', 'vals': '<Numbers -800<=v<=400>', 'post_delay': 0, 'inter_delay': 0, 'unit': 'arb.units'}, 'dac10': {'value': 0, 'ts': '2018-09-06 10:42:37', 'raw_value': 0, '__class__': 'qcodes.instrument.parameter.Parameter', 'full_name': 'ivvi2_dac10', 'label': 'Gate dac10 (mV)', 'instrument': 'qtt.instrument_drivers.virtual_instruments.VirtualIVVI', 'instrument_name': 'ivvi2', 'name': 'dac10', 'vals': '<Numbers -800<=v<=400>', 'post_delay': 0, 'inter_delay': 0, 'unit': 'arb.units'}, 'dac11': {'value': 0, 'ts': '2018-09-06 10:42:37', 'raw_value': 0, '__class__': 'qcodes.instrument.parameter.Parameter', 'full_name': 'ivvi2_dac11', 'label': 'Gate dac11 (mV)', 'instrument': 'qtt.instrument_drivers.virtual_instruments.VirtualIVVI', 'instrument_name': 'ivvi2', 'name': 'dac11', 'vals': '<Numbers -800<=v<=400>', 'post_delay': 0, 'inter_delay': 0, 'unit': 'arb.units'}, 'dac12': {'value': 0, 'ts': '2018-09-06 10:42:37', 'raw_value': 0, '__class__': 'qcodes.instrument.parameter.Parameter', 'full_name': 'ivvi2_dac12', 'label': 'Gate dac12 (mV)', 'instrument': 'qtt.instrument_drivers.virtual_instruments.VirtualIVVI', 'instrument_name': 'ivvi2', 'name': 'dac12', 'vals': '<Numbers -800<=v<=400>', 'post_delay': 0, 'inter_delay': 0, 'unit': 'arb.units'}, 'dac13': {'value': 0, 'ts': '2018-09-06 10:42:37', 'raw_value': 0, '__class__': 'qcodes.instrument.parameter.Parameter', 'full_name': 'ivvi2_dac13', 'label': 'Gate dac13 (mV)', 'instrument': 'qtt.instrument_drivers.virtual_instruments.VirtualIVVI', 'instrument_name': 'ivvi2', 'name': 'dac13', 'vals': '<Numbers -800<=v<=400>', 'post_delay': 0, 'inter_delay': 0, 'unit': 'arb.units'}, 'dac14': {'value': 0, 'ts': '2018-09-06 10:42:37', 'raw_value': 0, '__class__': 'qcodes.instrument.parameter.Parameter', 'full_name': 'ivvi2_dac14', 'label': 'Gate dac14 (mV)', 'instrument': 'qtt.instrument_drivers.virtual_instruments.VirtualIVVI', 'instrument_name': 'ivvi2', 'name': 'dac14', 'vals': '<Numbers -800<=v<=400>', 'post_delay': 0, 'inter_delay': 0, 'unit': 'arb.units'}, 'dac15': {'value': 0, 'ts': '2018-09-06 10:42:37', 'raw_value': 0, '__class__': 'qcodes.instrument.parameter.Parameter', 'full_name': 'ivvi2_dac15', 'label': 'Gate dac15 (mV)', 'instrument': 'qtt.instrument_drivers.virtual_instruments.VirtualIVVI', 'instrument_name': 'ivvi2', 'name': 'dac15', 'vals': '<Numbers -800<=v<=400>', 'post_delay': 0, 'inter_delay': 0, 'unit': 'arb.units'}, 'dac16': {'value': 0, 'ts': '2018-09-06 10:42:37', 'raw_value': 0, '__class__': 'qcodes.instrument.parameter.Parameter', 'full_name': 'ivvi2_dac16', 'label': 'Gate dac16 (mV)', 'instrument': 'qtt.instrument_drivers.virtual_instruments.VirtualIVVI', 'instrument_name': 'ivvi2', 'name': 'dac16', 'vals': '<Numbers -800<=v<=400>', 'post_delay': 0, 'inter_delay': 0, 'unit': 'arb.units'}}, 'name': 'ivvi2'}, 'vawg': {'functions': {}, 'submodules': {}, '__class__': 'qtt.instrument_drivers.simulation_instruments.SimulationAWG', 'parameters': {'IDN': {'value': None, 'ts': None, 'raw_value': None, '__class__': 'qcodes.instrument.parameter.Parameter', 'full_name': 'vawg_IDN', 'label': 'IDN', 'instrument': 'qtt.instrument_drivers.simulation_instruments.SimulationAWG', 'instrument_name': 'vawg', 'name': 'IDN', 'vals': '<Anything>', 'post_delay': 0, 'inter_delay': 0, 'unit': ''}, 'sampling_frequency': {'value': 1000000.0, 'ts': '2018-09-06 10:42:37', 'raw_value': 1000000.0, '__class__': 'qcodes.instrument.parameter.Parameter', 'full_name': 'vawg_sampling_frequency', 'label': 'sampling_frequency', 'instrument': 'qtt.instrument_drivers.simulation_instruments.SimulationAWG', 'instrument_name': 'vawg', 'name': 'sampling_frequency', 'post_delay': 0, 'inter_delay': 0, 'unit': ''}}, 'name': 'vawg'}, 'sdigitizer': {'functions': {}, 'submodules': {}, '__class__': 'qtt.instrument_drivers.simulation_instruments.SimulationDigitizer', 'parameters': {'IDN': {'value': None, 'ts': None, 'raw_value': None, '__class__': 'qcodes.instrument.parameter.Parameter', 'full_name': 'sdigitizer_IDN', 'label': 'IDN', 'instrument': 'qtt.instrument_drivers.simulation_instruments.SimulationDigitizer', 'instrument_name': 'sdigitizer', 'name': 'IDN', 'vals': '<Anything>', 'post_delay': 0, 'inter_delay': 0, 'unit': ''}, 'sample_rate': {'value': 1000000.0, 'ts': '2018-09-06 10:42:37', 'raw_value': 1000000.0, '__class__': 'qcodes.instrument.parameter.Parameter', 'full_name': 'sdigitizer_sample_rate', 'label': 'sample_rate', 'instrument': 'qtt.instrument_drivers.simulation_instruments.SimulationDigitizer', 'instrument_name': 'sdigitizer', 'name': 'sample_rate', 'post_delay': 0, 'inter_delay': 0, 'unit': ''}}, 'name': 'sdigitizer'}}, 'parameters': {}, 'components': {}, 'default_measurement': [], 'metadata': {'sample': 'virtual_dot'}}\n"
     ]
    }
   ],
   "source": [
    "print(keithley1.snapshot())\n",
    "print(station.snapshot())"
   ]
  },
  {
   "cell_type": "markdown",
   "metadata": {},
   "source": [
    "After all experiments are over, all devices need to be disconnected. The station has a `close` function to stop and clean up all the instrument resources:"
   ]
  },
  {
   "cell_type": "code",
   "execution_count": 35,
   "metadata": {},
   "outputs": [
    {
     "name": "stdout",
     "output_type": "stream",
     "text": [
      "close gates: gates (16 gates)\n",
      "close <VirtualMeter: keithley1>\n",
      "close <VirtualMeter: keithley3>\n",
      "close <VirtualMeter: keithley4>\n",
      "close VirtualIVVI: ivvi1\n",
      "close VirtualIVVI: ivvi2\n",
      "close <SimulationAWG: vawg>\n",
      "close <SimulationDigitizer: sdigitizer>\n"
     ]
    }
   ],
   "source": [
    "virtual_dot_array.close()"
   ]
  }
 ],
 "metadata": {
  "kernelspec": {
   "display_name": "Python 3",
   "language": "python",
   "name": "python3"
  },
  "language_info": {
   "codemirror_mode": {
    "name": "ipython",
    "version": 3
   },
   "file_extension": ".py",
   "mimetype": "text/x-python",
   "name": "python",
   "nbconvert_exporter": "python",
   "pygments_lexer": "ipython3",
   "version": "3.6.5"
  }
 },
 "nbformat": 4,
 "nbformat_minor": 1
}
