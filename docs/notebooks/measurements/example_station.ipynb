{
 "cells": [
  {
   "cell_type": "markdown",
   "metadata": {},
   "source": [
    "# Defining a station"
   ]
  },
  {
   "cell_type": "markdown",
   "metadata": {},
   "source": [
    "In this example we will shortly discuss the use of a station with instruments. A station bounds instruments and has functionality to control and store the settings of the devices. We will start from a simulated station (the virtual dot array) that has a special function `initialize` to directly create the station object with simulated instruments:"
   ]
  },
  {
   "cell_type": "code",
   "execution_count": 2,
   "metadata": {
    "scrolled": true
   },
   "outputs": [
    {
     "name": "stderr",
     "output_type": "stream",
     "text": [
      "c:\\develop\\anaconda3\\lib\\site-packages\\h5py\\__init__.py:34: FutureWarning: Conversion of the second argument of issubdtype from `float` to `np.floating` is deprecated. In future, it will be treated as `np.float64 == np.dtype(float).type`.\n",
      "  from ._conv import register_converters as _register_converters\n"
     ]
    },
    {
     "name": "stdout",
     "output_type": "stream",
     "text": [
      "initialize: create virtualdot\n",
      "initialized virtual dot system (2 dots)\n"
     ]
    }
   ],
   "source": [
    "from qtt.simulation import virtual_dot_array\n",
    "station = virtual_dot_array.initialize()"
   ]
  },
  {
   "cell_type": "markdown",
   "metadata": {},
   "source": [
    "The simulated station contain the instuments; `gates`, `keithley1`, `keithley3`, `keithley4`, `ivvi1`, `ivvi2`, `vawg` and a `digitizer`. In general, every Instrument of a station have Parameter items, which are gettable or settable. For example, using the simulated station we can get the keithley and P1 gate amplitude:"
   ]
  },
  {
   "cell_type": "code",
   "execution_count": 3,
   "metadata": {},
   "outputs": [
    {
     "name": "stdout",
     "output_type": "stream",
     "text": [
      "gates: gates (16 gates)\n",
      "0.3166101322411219\n",
      "1.5\n",
      "<VirtualMeter: keithley1>\n",
      "2.9964151248162425\n"
     ]
    }
   ],
   "source": [
    "gates = station.gates\n",
    "print(gates)\n",
    "print(gates.P1.get())\n",
    "\n",
    "gates.P1.set(1.5)\n",
    "print(gates.P1.get())\n",
    "\n",
    "keithley1 = station.keithley1\n",
    "print(keithley1)\n",
    "print(keithley1.amplitude.get())"
   ]
  },
  {
   "cell_type": "markdown",
   "metadata": {},
   "source": [
    "Default workflow after connecting the instruments (the `initialize` function) is to use the station with the measurement functions. The measurements make use of the instruments in the station. To create a station, you need to define you own `initialize` function. An example `initialize` function is shown below. For your own setup to have to modify the code with the correct instruments and settings."
   ]
  },
  {
   "cell_type": "markdown",
   "metadata": {},
   "source": [
    "<pre>from qtt.instrument_drivers.gates import VirtualDAC\n",
    "\n",
    "# the gate_map defines the relation between names gates and the DAC channels of physical instruments\n",
    "gate_map = {'P0': (0,1), 'P1', (0,2), 'P3', (0,3), 'B0', (1,0), 'B1': (1,1), 'B2': (1,2), 'B3': (1,3)}\n",
    "\n",
    "def initialize():\n",
    "    \n",
    "    logging.info('my station: initialize')\n",
    "    \n",
    "    # Loading IVVI\n",
    "    logging.info('my station: load IVVI driver')\n",
    "    ivvi1 = IVVI.IVVI(name='ivvi1', address='COM5', numdacs=16,)\n",
    "    ivvi2 = IVVI.IVVI(name='ivvi2', address='COM6', numdacs=16,)\n",
    "    \n",
    "    # Loading Lockins\n",
    "    logging.info('my station: load lockin driver')\n",
    "    lockin1 = SR830.SR830(name='lockin1', address='GPIB1::6::INSTR')\n",
    "    lockin1.output_interface('GPIB')\n",
    "\n",
    "    # Loading digitizer\n",
    "    logging.info('my station: load digitizer driver')\n",
    "    digitizer = M4i.M4i(name='digitizer')\n",
    "\n",
    "    logging.info('my station: all drivers have been loaded')\n",
    "        \n",
    "    # Create virtual instruments\n",
    "    gates = VirtualDAC(name='gates', gate_map=gate_map, instruments=[ivvi1, ivvi2])\n",
    "\n",
    "    #Creating the experimental station\n",
    "    station = qcodes.Station(ivvi1, ivvi2,, lockin1, digitizer, gates)\n",
    "    \n",
    "    logging.info('my station: initialization done')   \n",
    "    return station\n",
    "</pre>    "
   ]
  },
  {
   "cell_type": "markdown",
   "metadata": {},
   "source": [
    "A view of all the settings of a instrument or station can be shown using the `snapshot` function. The measurements use `snapshot` to collect the settings, which are stored together with the measurement results."
   ]
  },
  {
   "cell_type": "code",
   "execution_count": 4,
   "metadata": {},
   "outputs": [
    {
     "name": "stdout",
     "output_type": "stream",
     "text": [
      "{'functions': {}, 'submodules': {}, '__class__': 'qtt.instrument_drivers.virtual_instruments.VirtualMeter', 'parameters': {'IDN': {'value': None, 'ts': None, 'raw_value': None, '__class__': 'qcodes.instrument.parameter.Parameter', 'full_name': 'keithley1_IDN', 'unit': '', 'instrument': 'qtt.instrument_drivers.virtual_instruments.VirtualMeter', 'instrument_name': 'keithley1', 'label': 'IDN', 'inter_delay': 0, 'name': 'IDN', 'vals': '<Anything>', 'post_delay': 0}, 'amplitude': {'value': 2.9964151248162425, 'ts': '2018-09-16 21:34:35', 'raw_value': 2.9964151248162425, '__class__': 'qcodes.instrument.parameter.Parameter', 'full_name': 'keithley1_amplitude', 'unit': 'a.u.', 'instrument': 'qtt.instrument_drivers.virtual_instruments.VirtualMeter', 'instrument_name': 'keithley1', 'label': 'keithley1 amplitude', 'inter_delay': 0, 'name': 'amplitude', 'post_delay': 0}, 'readnext': {'value': None, 'ts': None, 'raw_value': None, '__class__': 'qcodes.instrument.parameter.Parameter', 'full_name': 'keithley1_readnext', 'unit': '', 'instrument': 'qtt.instrument_drivers.virtual_instruments.VirtualMeter', 'instrument_name': 'keithley1', 'label': 'keithley1', 'inter_delay': 0, 'name': 'readnext', 'post_delay': 0}}, 'name': 'keithley1'}\n",
      "{'instruments': {'gates': {'functions': {'get_B0': {}, 'set_B0': {}, 'get_B1': {}, 'set_B1': {}, 'get_B2': {}, 'set_B2': {}, 'get_D0': {}, 'set_D0': {}, 'get_O1': {}, 'set_O1': {}, 'get_O2': {}, 'set_O2': {}, 'get_O3': {}, 'set_O3': {}, 'get_O4': {}, 'set_O4': {}, 'get_O5': {}, 'set_O5': {}, 'get_P1': {}, 'set_P1': {}, 'get_P2': {}, 'set_P2': {}, 'get_SD1a': {}, 'set_SD1a': {}, 'get_SD1b': {}, 'set_SD1b': {}, 'get_SD1c': {}, 'set_SD1c': {}, 'get_bias_1': {}, 'set_bias_1': {}, 'get_bias_2': {}, 'set_bias_2': {}}, 'submodules': {}, '__class__': 'qtt.instrument_drivers.gates.VirtualDAC', 'parameters': {'IDN': {'value': None, 'ts': None, 'raw_value': None, '__class__': 'qcodes.instrument.parameter.Parameter', 'full_name': 'gates_IDN', 'unit': '', 'instrument': 'qtt.instrument_drivers.gates.VirtualDAC', 'instrument_name': 'gates', 'label': 'IDN', 'inter_delay': 0, 'name': 'IDN', 'vals': '<Anything>', 'post_delay': 0}, 'rc_times': {'value': None, 'ts': None, 'raw_value': None, '__class__': 'qcodes.instrument.parameter.Parameter', 'full_name': 'gates_rc_times', 'unit': '', 'instrument': 'qtt.instrument_drivers.gates.VirtualDAC', 'instrument_name': 'gates', 'label': 'rc_times', 'inter_delay': 0, 'name': 'rc_times', 'post_delay': 0}, 'B0': {'value': -0.19029020680258668, 'ts': '2018-09-16 21:34:35', 'raw_value': -0.19029020680258668, '__class__': 'qcodes.instrument.parameter.Parameter', 'full_name': 'gates_B0', 'unit': 'mV', 'instrument': 'qtt.instrument_drivers.gates.VirtualDAC', 'instrument_name': 'gates', 'label': 'B0', 'inter_delay': 0, 'name': 'B0', 'post_delay': 0}, 'B1': {'value': 0.22163695509700798, 'ts': '2018-09-16 21:34:35', 'raw_value': 0.22163695509700798, '__class__': 'qcodes.instrument.parameter.Parameter', 'full_name': 'gates_B1', 'unit': 'mV', 'instrument': 'qtt.instrument_drivers.gates.VirtualDAC', 'instrument_name': 'gates', 'label': 'B1', 'inter_delay': 0, 'name': 'B1', 'post_delay': 0}, 'B2': {'value': 0.060881959148176845, 'ts': '2018-09-16 21:34:35', 'raw_value': 0.060881959148176845, '__class__': 'qcodes.instrument.parameter.Parameter', 'full_name': 'gates_B2', 'unit': 'mV', 'instrument': 'qtt.instrument_drivers.gates.VirtualDAC', 'instrument_name': 'gates', 'label': 'B2', 'inter_delay': 0, 'name': 'B2', 'post_delay': 0}, 'D0': {'value': -0.06461386312426243, 'ts': '2018-09-16 21:34:35', 'raw_value': -0.06461386312426243, '__class__': 'qcodes.instrument.parameter.Parameter', 'full_name': 'gates_D0', 'unit': 'mV', 'instrument': 'qtt.instrument_drivers.gates.VirtualDAC', 'instrument_name': 'gates', 'label': 'D0', 'inter_delay': 0, 'name': 'D0', 'post_delay': 0}, 'O1': {'value': 0.19637025442054168, 'ts': '2018-09-16 21:34:35', 'raw_value': 0.19637025442054168, '__class__': 'qcodes.instrument.parameter.Parameter', 'full_name': 'gates_O1', 'unit': 'uV', 'instrument': 'qtt.instrument_drivers.gates.VirtualDAC', 'instrument_name': 'gates', 'label': 'O1', 'inter_delay': 0, 'name': 'O1', 'post_delay': 0}, 'O2': {'value': -0.26488697635918, 'ts': '2018-09-16 21:34:35', 'raw_value': -0.26488697635918, '__class__': 'qcodes.instrument.parameter.Parameter', 'full_name': 'gates_O2', 'unit': 'uV', 'instrument': 'qtt.instrument_drivers.gates.VirtualDAC', 'instrument_name': 'gates', 'label': 'O2', 'inter_delay': 0, 'name': 'O2', 'post_delay': 0}, 'O3': {'value': 0.4777664433382307, 'ts': '2018-09-16 21:34:35', 'raw_value': 0.4777664433382307, '__class__': 'qcodes.instrument.parameter.Parameter', 'full_name': 'gates_O3', 'unit': 'uV', 'instrument': 'qtt.instrument_drivers.gates.VirtualDAC', 'instrument_name': 'gates', 'label': 'O3', 'inter_delay': 0, 'name': 'O3', 'post_delay': 0}, 'O4': {'value': -0.09560635524451855, 'ts': '2018-09-16 21:34:35', 'raw_value': -0.09560635524451855, '__class__': 'qcodes.instrument.parameter.Parameter', 'full_name': 'gates_O4', 'unit': 'uV', 'instrument': 'qtt.instrument_drivers.gates.VirtualDAC', 'instrument_name': 'gates', 'label': 'O4', 'inter_delay': 0, 'name': 'O4', 'post_delay': 0}, 'O5': {'value': 0.26684091618044936, 'ts': '2018-09-16 21:34:35', 'raw_value': 0.26684091618044936, '__class__': 'qcodes.instrument.parameter.Parameter', 'full_name': 'gates_O5', 'unit': 'uV', 'instrument': 'qtt.instrument_drivers.gates.VirtualDAC', 'instrument_name': 'gates', 'label': 'O5', 'inter_delay': 0, 'name': 'O5', 'post_delay': 0}, 'P1': {'value': 1.5, 'ts': '2018-09-16 21:34:35', 'raw_value': 1.5, '__class__': 'qcodes.instrument.parameter.Parameter', 'full_name': 'gates_P1', 'unit': 'mV', 'instrument': 'qtt.instrument_drivers.gates.VirtualDAC', 'instrument_name': 'gates', 'label': 'P1', 'inter_delay': 0, 'name': 'P1', 'post_delay': 0}, 'P2': {'value': 0.4084537706064828, 'ts': '2018-09-16 21:34:35', 'raw_value': 0.4084537706064828, '__class__': 'qcodes.instrument.parameter.Parameter', 'full_name': 'gates_P2', 'unit': 'mV', 'instrument': 'qtt.instrument_drivers.gates.VirtualDAC', 'instrument_name': 'gates', 'label': 'P2', 'inter_delay': 0, 'name': 'P2', 'post_delay': 0}, 'SD1a': {'value': -0.04051921495786659, 'ts': '2018-09-16 21:34:35', 'raw_value': -0.04051921495786659, '__class__': 'qcodes.instrument.parameter.Parameter', 'full_name': 'gates_SD1a', 'unit': 'mV', 'instrument': 'qtt.instrument_drivers.gates.VirtualDAC', 'instrument_name': 'gates', 'label': 'SD1a', 'inter_delay': 0, 'name': 'SD1a', 'post_delay': 0}, 'SD1b': {'value': 0.11953327249016599, 'ts': '2018-09-16 21:34:35', 'raw_value': 0.11953327249016599, '__class__': 'qcodes.instrument.parameter.Parameter', 'full_name': 'gates_SD1b', 'unit': 'mV', 'instrument': 'qtt.instrument_drivers.gates.VirtualDAC', 'instrument_name': 'gates', 'label': 'SD1b', 'inter_delay': 0, 'name': 'SD1b', 'post_delay': 0}, 'SD1c': {'value': 0.4512981008359376, 'ts': '2018-09-16 21:34:35', 'raw_value': 0.4512981008359376, '__class__': 'qcodes.instrument.parameter.Parameter', 'full_name': 'gates_SD1c', 'unit': 'mV', 'instrument': 'qtt.instrument_drivers.gates.VirtualDAC', 'instrument_name': 'gates', 'label': 'SD1c', 'inter_delay': 0, 'name': 'SD1c', 'post_delay': 0}, 'bias_1': {'value': -0.08033482300418471, 'ts': '2018-09-16 21:34:35', 'raw_value': -0.08033482300418471, '__class__': 'qcodes.instrument.parameter.Parameter', 'full_name': 'gates_bias_1', 'unit': 'mV', 'instrument': 'qtt.instrument_drivers.gates.VirtualDAC', 'instrument_name': 'gates', 'label': 'bias_1', 'inter_delay': 0, 'name': 'bias_1', 'post_delay': 0}, 'bias_2': {'value': -0.21095176006677607, 'ts': '2018-09-16 21:34:35', 'raw_value': -0.21095176006677607, '__class__': 'qcodes.instrument.parameter.Parameter', 'full_name': 'gates_bias_2', 'unit': 'mV', 'instrument': 'qtt.instrument_drivers.gates.VirtualDAC', 'instrument_name': 'gates', 'label': 'bias_2', 'inter_delay': 0, 'name': 'bias_2', 'post_delay': 0}}, 'name': 'gates'}, 'keithley1': {'functions': {}, 'submodules': {}, '__class__': 'qtt.instrument_drivers.virtual_instruments.VirtualMeter', 'parameters': {'IDN': {'value': None, 'ts': None, 'raw_value': None, '__class__': 'qcodes.instrument.parameter.Parameter', 'full_name': 'keithley1_IDN', 'unit': '', 'instrument': 'qtt.instrument_drivers.virtual_instruments.VirtualMeter', 'instrument_name': 'keithley1', 'label': 'IDN', 'inter_delay': 0, 'name': 'IDN', 'vals': '<Anything>', 'post_delay': 0}, 'amplitude': {'value': 2.9964151248162425, 'ts': '2018-09-16 21:34:35', 'raw_value': 2.9964151248162425, '__class__': 'qcodes.instrument.parameter.Parameter', 'full_name': 'keithley1_amplitude', 'unit': 'a.u.', 'instrument': 'qtt.instrument_drivers.virtual_instruments.VirtualMeter', 'instrument_name': 'keithley1', 'label': 'keithley1 amplitude', 'inter_delay': 0, 'name': 'amplitude', 'post_delay': 0}, 'readnext': {'value': None, 'ts': None, 'raw_value': None, '__class__': 'qcodes.instrument.parameter.Parameter', 'full_name': 'keithley1_readnext', 'unit': '', 'instrument': 'qtt.instrument_drivers.virtual_instruments.VirtualMeter', 'instrument_name': 'keithley1', 'label': 'keithley1', 'inter_delay': 0, 'name': 'readnext', 'post_delay': 0}}, 'name': 'keithley1'}, 'keithley3': {'functions': {}, 'submodules': {}, '__class__': 'qtt.instrument_drivers.virtual_instruments.VirtualMeter', 'parameters': {'IDN': {'value': None, 'ts': None, 'raw_value': None, '__class__': 'qcodes.instrument.parameter.Parameter', 'full_name': 'keithley3_IDN', 'unit': '', 'instrument': 'qtt.instrument_drivers.virtual_instruments.VirtualMeter', 'instrument_name': 'keithley3', 'label': 'IDN', 'inter_delay': 0, 'name': 'IDN', 'vals': '<Anything>', 'post_delay': 0}, 'amplitude': {'value': None, 'ts': None, 'raw_value': None, '__class__': 'qcodes.instrument.parameter.Parameter', 'full_name': 'keithley3_amplitude', 'unit': 'a.u.', 'instrument': 'qtt.instrument_drivers.virtual_instruments.VirtualMeter', 'instrument_name': 'keithley3', 'label': 'keithley3 amplitude', 'inter_delay': 0, 'name': 'amplitude', 'post_delay': 0}, 'readnext': {'value': None, 'ts': None, 'raw_value': None, '__class__': 'qcodes.instrument.parameter.Parameter', 'full_name': 'keithley3_readnext', 'unit': '', 'instrument': 'qtt.instrument_drivers.virtual_instruments.VirtualMeter', 'instrument_name': 'keithley3', 'label': 'keithley3', 'inter_delay': 0, 'name': 'readnext', 'post_delay': 0}}, 'name': 'keithley3'}, 'keithley4': {'functions': {}, 'submodules': {}, '__class__': 'qtt.instrument_drivers.virtual_instruments.VirtualMeter', 'parameters': {'IDN': {'value': None, 'ts': None, 'raw_value': None, '__class__': 'qcodes.instrument.parameter.Parameter', 'full_name': 'keithley4_IDN', 'unit': '', 'instrument': 'qtt.instrument_drivers.virtual_instruments.VirtualMeter', 'instrument_name': 'keithley4', 'label': 'IDN', 'inter_delay': 0, 'name': 'IDN', 'vals': '<Anything>', 'post_delay': 0}, 'amplitude': {'value': None, 'ts': None, 'raw_value': None, '__class__': 'qcodes.instrument.parameter.Parameter', 'full_name': 'keithley4_amplitude', 'unit': 'a.u.', 'instrument': 'qtt.instrument_drivers.virtual_instruments.VirtualMeter', 'instrument_name': 'keithley4', 'label': 'keithley4 amplitude', 'inter_delay': 0, 'name': 'amplitude', 'post_delay': 0}, 'readnext': {'value': None, 'ts': None, 'raw_value': None, '__class__': 'qcodes.instrument.parameter.Parameter', 'full_name': 'keithley4_readnext', 'unit': '', 'instrument': 'qtt.instrument_drivers.virtual_instruments.VirtualMeter', 'instrument_name': 'keithley4', 'label': 'keithley4', 'inter_delay': 0, 'name': 'readnext', 'post_delay': 0}}, 'name': 'keithley4'}, 'ivvi1': {'functions': {'reset': {}, 'get_dac1': {}, 'get_dac2': {}, 'get_dac3': {}, 'get_dac4': {}, 'get_dac5': {}, 'get_dac6': {}, 'get_dac7': {}, 'get_dac8': {}, 'get_dac9': {}, 'get_dac10': {}, 'get_dac11': {}, 'get_dac12': {}, 'get_dac13': {}, 'get_dac14': {}, 'get_dac15': {}, 'get_dac16': {}}, 'submodules': {}, '__class__': 'qtt.instrument_drivers.virtual_instruments.VirtualIVVI', 'parameters': {'IDN': {'value': None, 'ts': None, 'raw_value': None, '__class__': 'qcodes.instrument.parameter.Parameter', 'full_name': 'ivvi1_IDN', 'unit': '', 'instrument': 'qtt.instrument_drivers.virtual_instruments.VirtualIVVI', 'instrument_name': 'ivvi1', 'label': 'IDN', 'inter_delay': 0, 'name': 'IDN', 'vals': '<Anything>', 'post_delay': 0}, 'dac1': {'value': -0.19029020680258668, 'ts': '2018-09-16 21:34:35', 'raw_value': -0.19029020680258668, '__class__': 'qcodes.instrument.parameter.Parameter', 'full_name': 'ivvi1_dac1', 'unit': 'arb.units', 'instrument': 'qtt.instrument_drivers.virtual_instruments.VirtualIVVI', 'instrument_name': 'ivvi1', 'label': 'Gate dac1 (mV)', 'inter_delay': 0, 'name': 'dac1', 'vals': '<Numbers -1000<=v<=800>', 'post_delay': 0}, 'dac2': {'value': 0.22163695509700798, 'ts': '2018-09-16 21:34:35', 'raw_value': 0.22163695509700798, '__class__': 'qcodes.instrument.parameter.Parameter', 'full_name': 'ivvi1_dac2', 'unit': 'arb.units', 'instrument': 'qtt.instrument_drivers.virtual_instruments.VirtualIVVI', 'instrument_name': 'ivvi1', 'label': 'Gate dac2 (mV)', 'inter_delay': 0, 'name': 'dac2', 'vals': '<Numbers -1000<=v<=800>', 'post_delay': 0}, 'dac3': {'value': 0.060881959148176845, 'ts': '2018-09-16 21:34:35', 'raw_value': 0.060881959148176845, '__class__': 'qcodes.instrument.parameter.Parameter', 'full_name': 'ivvi1_dac3', 'unit': 'arb.units', 'instrument': 'qtt.instrument_drivers.virtual_instruments.VirtualIVVI', 'instrument_name': 'ivvi1', 'label': 'Gate dac3 (mV)', 'inter_delay': 0, 'name': 'dac3', 'vals': '<Numbers -1000<=v<=800>', 'post_delay': 0}, 'dac4': {'value': -0.06461386312426243, 'ts': '2018-09-16 21:34:35', 'raw_value': -0.06461386312426243, '__class__': 'qcodes.instrument.parameter.Parameter', 'full_name': 'ivvi1_dac4', 'unit': 'arb.units', 'instrument': 'qtt.instrument_drivers.virtual_instruments.VirtualIVVI', 'instrument_name': 'ivvi1', 'label': 'Gate dac4 (mV)', 'inter_delay': 0, 'name': 'dac4', 'vals': '<Numbers -1000<=v<=800>', 'post_delay': 0}, 'dac5': {'value': 0.19637025442054168, 'ts': '2018-09-16 21:34:35', 'raw_value': 0.19637025442054168, '__class__': 'qcodes.instrument.parameter.Parameter', 'full_name': 'ivvi1_dac5', 'unit': 'arb.units', 'instrument': 'qtt.instrument_drivers.virtual_instruments.VirtualIVVI', 'instrument_name': 'ivvi1', 'label': 'Gate dac5 (mV)', 'inter_delay': 0, 'name': 'dac5', 'vals': '<Numbers -4000<=v<=4000>', 'post_delay': 0}, 'dac6': {'value': -0.26488697635918, 'ts': '2018-09-16 21:34:35', 'raw_value': -0.26488697635918, '__class__': 'qcodes.instrument.parameter.Parameter', 'full_name': 'ivvi1_dac6', 'unit': 'arb.units', 'instrument': 'qtt.instrument_drivers.virtual_instruments.VirtualIVVI', 'instrument_name': 'ivvi1', 'label': 'Gate dac6 (mV)', 'inter_delay': 0, 'name': 'dac6', 'vals': '<Numbers -4000<=v<=4000>', 'post_delay': 0}, 'dac7': {'value': 0.4777664433382307, 'ts': '2018-09-16 21:34:35', 'raw_value': 0.4777664433382307, '__class__': 'qcodes.instrument.parameter.Parameter', 'full_name': 'ivvi1_dac7', 'unit': 'arb.units', 'instrument': 'qtt.instrument_drivers.virtual_instruments.VirtualIVVI', 'instrument_name': 'ivvi1', 'label': 'Gate dac7 (mV)', 'inter_delay': 0, 'name': 'dac7', 'vals': '<Numbers -4000<=v<=4000>', 'post_delay': 0}, 'dac8': {'value': -0.09560635524451855, 'ts': '2018-09-16 21:34:35', 'raw_value': -0.09560635524451855, '__class__': 'qcodes.instrument.parameter.Parameter', 'full_name': 'ivvi1_dac8', 'unit': 'arb.units', 'instrument': 'qtt.instrument_drivers.virtual_instruments.VirtualIVVI', 'instrument_name': 'ivvi1', 'label': 'Gate dac8 (mV)', 'inter_delay': 0, 'name': 'dac8', 'vals': '<Numbers -4000<=v<=4000>', 'post_delay': 0}, 'dac9': {'value': 0.26684091618044936, 'ts': '2018-09-16 21:34:35', 'raw_value': 0.26684091618044936, '__class__': 'qcodes.instrument.parameter.Parameter', 'full_name': 'ivvi1_dac9', 'unit': 'arb.units', 'instrument': 'qtt.instrument_drivers.virtual_instruments.VirtualIVVI', 'instrument_name': 'ivvi1', 'label': 'Gate dac9 (mV)', 'inter_delay': 0, 'name': 'dac9', 'vals': '<Numbers -4000<=v<=4000>', 'post_delay': 0}, 'dac10': {'value': 1.5, 'ts': '2018-09-16 21:34:35', 'raw_value': 1.5, '__class__': 'qcodes.instrument.parameter.Parameter', 'full_name': 'ivvi1_dac10', 'unit': 'arb.units', 'instrument': 'qtt.instrument_drivers.virtual_instruments.VirtualIVVI', 'instrument_name': 'ivvi1', 'label': 'Gate dac10 (mV)', 'inter_delay': 0, 'name': 'dac10', 'vals': '<Numbers -1000<=v<=800>', 'post_delay': 0}, 'dac11': {'value': 0.4084537706064828, 'ts': '2018-09-16 21:34:35', 'raw_value': 0.4084537706064828, '__class__': 'qcodes.instrument.parameter.Parameter', 'full_name': 'ivvi1_dac11', 'unit': 'arb.units', 'instrument': 'qtt.instrument_drivers.virtual_instruments.VirtualIVVI', 'instrument_name': 'ivvi1', 'label': 'Gate dac11 (mV)', 'inter_delay': 0, 'name': 'dac11', 'vals': '<Numbers -1000<=v<=800>', 'post_delay': 0}, 'dac12': {'value': -0.04051921495786659, 'ts': '2018-09-16 21:34:35', 'raw_value': -0.04051921495786659, '__class__': 'qcodes.instrument.parameter.Parameter', 'full_name': 'ivvi1_dac12', 'unit': 'arb.units', 'instrument': 'qtt.instrument_drivers.virtual_instruments.VirtualIVVI', 'instrument_name': 'ivvi1', 'label': 'Gate dac12 (mV)', 'inter_delay': 0, 'name': 'dac12', 'vals': '<Numbers -1000<=v<=1000>', 'post_delay': 0}, 'dac13': {'value': 0.11953327249016599, 'ts': '2018-09-16 21:34:35', 'raw_value': 0.11953327249016599, '__class__': 'qcodes.instrument.parameter.Parameter', 'full_name': 'ivvi1_dac13', 'unit': 'arb.units', 'instrument': 'qtt.instrument_drivers.virtual_instruments.VirtualIVVI', 'instrument_name': 'ivvi1', 'label': 'Gate dac13 (mV)', 'inter_delay': 0, 'name': 'dac13', 'vals': '<Numbers -1000<=v<=1000>', 'post_delay': 0}, 'dac14': {'value': 0.4512981008359376, 'ts': '2018-09-16 21:34:35', 'raw_value': 0.4512981008359376, '__class__': 'qcodes.instrument.parameter.Parameter', 'full_name': 'ivvi1_dac14', 'unit': 'arb.units', 'instrument': 'qtt.instrument_drivers.virtual_instruments.VirtualIVVI', 'instrument_name': 'ivvi1', 'label': 'Gate dac14 (mV)', 'inter_delay': 0, 'name': 'dac14', 'vals': '<Numbers -1000<=v<=1000>', 'post_delay': 0}, 'dac15': {'value': -0.08033482300418471, 'ts': '2018-09-16 21:34:35', 'raw_value': -0.08033482300418471, '__class__': 'qcodes.instrument.parameter.Parameter', 'full_name': 'ivvi1_dac15', 'unit': 'arb.units', 'instrument': 'qtt.instrument_drivers.virtual_instruments.VirtualIVVI', 'instrument_name': 'ivvi1', 'label': 'Gate dac15 (mV)', 'inter_delay': 0, 'name': 'dac15', 'vals': '<Numbers -900<=v<=900>', 'post_delay': 0}, 'dac16': {'value': -0.21095176006677607, 'ts': '2018-09-16 21:34:35', 'raw_value': -0.21095176006677607, '__class__': 'qcodes.instrument.parameter.Parameter', 'full_name': 'ivvi1_dac16', 'unit': 'arb.units', 'instrument': 'qtt.instrument_drivers.virtual_instruments.VirtualIVVI', 'instrument_name': 'ivvi1', 'label': 'Gate dac16 (mV)', 'inter_delay': 0, 'name': 'dac16', 'vals': '<Numbers -900<=v<=900>', 'post_delay': 0}}, 'name': 'ivvi1'}, 'ivvi2': {'functions': {'reset': {}, 'get_dac1': {}, 'get_dac2': {}, 'get_dac3': {}, 'get_dac4': {}, 'get_dac5': {}, 'get_dac6': {}, 'get_dac7': {}, 'get_dac8': {}, 'get_dac9': {}, 'get_dac10': {}, 'get_dac11': {}, 'get_dac12': {}, 'get_dac13': {}, 'get_dac14': {}, 'get_dac15': {}, 'get_dac16': {}}, 'submodules': {}, '__class__': 'qtt.instrument_drivers.virtual_instruments.VirtualIVVI', 'parameters': {'IDN': {'value': None, 'ts': None, 'raw_value': None, '__class__': 'qcodes.instrument.parameter.Parameter', 'full_name': 'ivvi2_IDN', 'unit': '', 'instrument': 'qtt.instrument_drivers.virtual_instruments.VirtualIVVI', 'instrument_name': 'ivvi2', 'label': 'IDN', 'inter_delay': 0, 'name': 'IDN', 'vals': '<Anything>', 'post_delay': 0}, 'dac1': {'value': 0, 'ts': '2018-09-16 21:34:35', 'raw_value': 0, '__class__': 'qcodes.instrument.parameter.Parameter', 'full_name': 'ivvi2_dac1', 'unit': 'arb.units', 'instrument': 'qtt.instrument_drivers.virtual_instruments.VirtualIVVI', 'instrument_name': 'ivvi2', 'label': 'Gate dac1 (mV)', 'inter_delay': 0, 'name': 'dac1', 'vals': '<Numbers -800<=v<=400>', 'post_delay': 0}, 'dac2': {'value': 0, 'ts': '2018-09-16 21:34:35', 'raw_value': 0, '__class__': 'qcodes.instrument.parameter.Parameter', 'full_name': 'ivvi2_dac2', 'unit': 'arb.units', 'instrument': 'qtt.instrument_drivers.virtual_instruments.VirtualIVVI', 'instrument_name': 'ivvi2', 'label': 'Gate dac2 (mV)', 'inter_delay': 0, 'name': 'dac2', 'vals': '<Numbers -800<=v<=400>', 'post_delay': 0}, 'dac3': {'value': 0, 'ts': '2018-09-16 21:34:35', 'raw_value': 0, '__class__': 'qcodes.instrument.parameter.Parameter', 'full_name': 'ivvi2_dac3', 'unit': 'arb.units', 'instrument': 'qtt.instrument_drivers.virtual_instruments.VirtualIVVI', 'instrument_name': 'ivvi2', 'label': 'Gate dac3 (mV)', 'inter_delay': 0, 'name': 'dac3', 'vals': '<Numbers -800<=v<=400>', 'post_delay': 0}, 'dac4': {'value': 0, 'ts': '2018-09-16 21:34:35', 'raw_value': 0, '__class__': 'qcodes.instrument.parameter.Parameter', 'full_name': 'ivvi2_dac4', 'unit': 'arb.units', 'instrument': 'qtt.instrument_drivers.virtual_instruments.VirtualIVVI', 'instrument_name': 'ivvi2', 'label': 'Gate dac4 (mV)', 'inter_delay': 0, 'name': 'dac4', 'vals': '<Numbers -800<=v<=400>', 'post_delay': 0}, 'dac5': {'value': 0, 'ts': '2018-09-16 21:34:35', 'raw_value': 0, '__class__': 'qcodes.instrument.parameter.Parameter', 'full_name': 'ivvi2_dac5', 'unit': 'arb.units', 'instrument': 'qtt.instrument_drivers.virtual_instruments.VirtualIVVI', 'instrument_name': 'ivvi2', 'label': 'Gate dac5 (mV)', 'inter_delay': 0, 'name': 'dac5', 'vals': '<Numbers -800<=v<=400>', 'post_delay': 0}, 'dac6': {'value': 0, 'ts': '2018-09-16 21:34:35', 'raw_value': 0, '__class__': 'qcodes.instrument.parameter.Parameter', 'full_name': 'ivvi2_dac6', 'unit': 'arb.units', 'instrument': 'qtt.instrument_drivers.virtual_instruments.VirtualIVVI', 'instrument_name': 'ivvi2', 'label': 'Gate dac6 (mV)', 'inter_delay': 0, 'name': 'dac6', 'vals': '<Numbers -800<=v<=400>', 'post_delay': 0}, 'dac7': {'value': 0, 'ts': '2018-09-16 21:34:35', 'raw_value': 0, '__class__': 'qcodes.instrument.parameter.Parameter', 'full_name': 'ivvi2_dac7', 'unit': 'arb.units', 'instrument': 'qtt.instrument_drivers.virtual_instruments.VirtualIVVI', 'instrument_name': 'ivvi2', 'label': 'Gate dac7 (mV)', 'inter_delay': 0, 'name': 'dac7', 'vals': '<Numbers -800<=v<=400>', 'post_delay': 0}, 'dac8': {'value': 0, 'ts': '2018-09-16 21:34:35', 'raw_value': 0, '__class__': 'qcodes.instrument.parameter.Parameter', 'full_name': 'ivvi2_dac8', 'unit': 'arb.units', 'instrument': 'qtt.instrument_drivers.virtual_instruments.VirtualIVVI', 'instrument_name': 'ivvi2', 'label': 'Gate dac8 (mV)', 'inter_delay': 0, 'name': 'dac8', 'vals': '<Numbers -800<=v<=400>', 'post_delay': 0}, 'dac9': {'value': 0, 'ts': '2018-09-16 21:34:35', 'raw_value': 0, '__class__': 'qcodes.instrument.parameter.Parameter', 'full_name': 'ivvi2_dac9', 'unit': 'arb.units', 'instrument': 'qtt.instrument_drivers.virtual_instruments.VirtualIVVI', 'instrument_name': 'ivvi2', 'label': 'Gate dac9 (mV)', 'inter_delay': 0, 'name': 'dac9', 'vals': '<Numbers -800<=v<=400>', 'post_delay': 0}, 'dac10': {'value': 0, 'ts': '2018-09-16 21:34:35', 'raw_value': 0, '__class__': 'qcodes.instrument.parameter.Parameter', 'full_name': 'ivvi2_dac10', 'unit': 'arb.units', 'instrument': 'qtt.instrument_drivers.virtual_instruments.VirtualIVVI', 'instrument_name': 'ivvi2', 'label': 'Gate dac10 (mV)', 'inter_delay': 0, 'name': 'dac10', 'vals': '<Numbers -800<=v<=400>', 'post_delay': 0}, 'dac11': {'value': 0, 'ts': '2018-09-16 21:34:35', 'raw_value': 0, '__class__': 'qcodes.instrument.parameter.Parameter', 'full_name': 'ivvi2_dac11', 'unit': 'arb.units', 'instrument': 'qtt.instrument_drivers.virtual_instruments.VirtualIVVI', 'instrument_name': 'ivvi2', 'label': 'Gate dac11 (mV)', 'inter_delay': 0, 'name': 'dac11', 'vals': '<Numbers -800<=v<=400>', 'post_delay': 0}, 'dac12': {'value': 0, 'ts': '2018-09-16 21:34:35', 'raw_value': 0, '__class__': 'qcodes.instrument.parameter.Parameter', 'full_name': 'ivvi2_dac12', 'unit': 'arb.units', 'instrument': 'qtt.instrument_drivers.virtual_instruments.VirtualIVVI', 'instrument_name': 'ivvi2', 'label': 'Gate dac12 (mV)', 'inter_delay': 0, 'name': 'dac12', 'vals': '<Numbers -800<=v<=400>', 'post_delay': 0}, 'dac13': {'value': 0, 'ts': '2018-09-16 21:34:35', 'raw_value': 0, '__class__': 'qcodes.instrument.parameter.Parameter', 'full_name': 'ivvi2_dac13', 'unit': 'arb.units', 'instrument': 'qtt.instrument_drivers.virtual_instruments.VirtualIVVI', 'instrument_name': 'ivvi2', 'label': 'Gate dac13 (mV)', 'inter_delay': 0, 'name': 'dac13', 'vals': '<Numbers -800<=v<=400>', 'post_delay': 0}, 'dac14': {'value': 0, 'ts': '2018-09-16 21:34:35', 'raw_value': 0, '__class__': 'qcodes.instrument.parameter.Parameter', 'full_name': 'ivvi2_dac14', 'unit': 'arb.units', 'instrument': 'qtt.instrument_drivers.virtual_instruments.VirtualIVVI', 'instrument_name': 'ivvi2', 'label': 'Gate dac14 (mV)', 'inter_delay': 0, 'name': 'dac14', 'vals': '<Numbers -800<=v<=400>', 'post_delay': 0}, 'dac15': {'value': 0, 'ts': '2018-09-16 21:34:35', 'raw_value': 0, '__class__': 'qcodes.instrument.parameter.Parameter', 'full_name': 'ivvi2_dac15', 'unit': 'arb.units', 'instrument': 'qtt.instrument_drivers.virtual_instruments.VirtualIVVI', 'instrument_name': 'ivvi2', 'label': 'Gate dac15 (mV)', 'inter_delay': 0, 'name': 'dac15', 'vals': '<Numbers -800<=v<=400>', 'post_delay': 0}, 'dac16': {'value': 0, 'ts': '2018-09-16 21:34:35', 'raw_value': 0, '__class__': 'qcodes.instrument.parameter.Parameter', 'full_name': 'ivvi2_dac16', 'unit': 'arb.units', 'instrument': 'qtt.instrument_drivers.virtual_instruments.VirtualIVVI', 'instrument_name': 'ivvi2', 'label': 'Gate dac16 (mV)', 'inter_delay': 0, 'name': 'dac16', 'vals': '<Numbers -800<=v<=400>', 'post_delay': 0}}, 'name': 'ivvi2'}, 'vawg': {'functions': {}, 'submodules': {}, '__class__': 'qtt.instrument_drivers.simulation_instruments.SimulationAWG', 'parameters': {'IDN': {'value': None, 'ts': None, 'raw_value': None, '__class__': 'qcodes.instrument.parameter.Parameter', 'full_name': 'vawg_IDN', 'unit': '', 'instrument': 'qtt.instrument_drivers.simulation_instruments.SimulationAWG', 'instrument_name': 'vawg', 'label': 'IDN', 'inter_delay': 0, 'name': 'IDN', 'vals': '<Anything>', 'post_delay': 0}, 'sampling_frequency': {'value': 1000000.0, 'ts': '2018-09-16 21:34:35', 'raw_value': 1000000.0, '__class__': 'qcodes.instrument.parameter.Parameter', 'full_name': 'vawg_sampling_frequency', 'unit': '', 'instrument': 'qtt.instrument_drivers.simulation_instruments.SimulationAWG', 'instrument_name': 'vawg', 'label': 'sampling_frequency', 'inter_delay': 0, 'name': 'sampling_frequency', 'post_delay': 0}}, 'name': 'vawg'}, 'sdigitizer': {'functions': {}, 'submodules': {}, '__class__': 'qtt.instrument_drivers.simulation_instruments.SimulationDigitizer', 'parameters': {'IDN': {'value': None, 'ts': None, 'raw_value': None, '__class__': 'qcodes.instrument.parameter.Parameter', 'full_name': 'sdigitizer_IDN', 'unit': '', 'instrument': 'qtt.instrument_drivers.simulation_instruments.SimulationDigitizer', 'instrument_name': 'sdigitizer', 'label': 'IDN', 'inter_delay': 0, 'name': 'IDN', 'vals': '<Anything>', 'post_delay': 0}, 'sample_rate': {'value': 1000000.0, 'ts': '2018-09-16 21:34:35', 'raw_value': 1000000.0, '__class__': 'qcodes.instrument.parameter.Parameter', 'full_name': 'sdigitizer_sample_rate', 'unit': '', 'instrument': 'qtt.instrument_drivers.simulation_instruments.SimulationDigitizer', 'instrument_name': 'sdigitizer', 'label': 'sample_rate', 'inter_delay': 0, 'name': 'sample_rate', 'post_delay': 0}}, 'name': 'sdigitizer'}}, 'parameters': {}, 'components': {}, 'default_measurement': [], 'metadata': {'sample': 'virtual_dot'}}\n"
     ]
    }
   ],
   "source": [
    "print(keithley1.snapshot())\n",
    "print(station.snapshot())"
   ]
  },
  {
   "cell_type": "markdown",
   "metadata": {},
   "source": [
    "After all experiments are over, all devices need to be disconnected. The station has a `close` function to stop and clean up all the instrument resources:"
   ]
  },
  {
   "cell_type": "code",
   "execution_count": 35,
   "metadata": {},
   "outputs": [
    {
     "name": "stdout",
     "output_type": "stream",
     "text": [
      "close gates: gates (16 gates)\n",
      "close <VirtualMeter: keithley1>\n",
      "close <VirtualMeter: keithley3>\n",
      "close <VirtualMeter: keithley4>\n",
      "close VirtualIVVI: ivvi1\n",
      "close VirtualIVVI: ivvi2\n",
      "close <SimulationAWG: vawg>\n",
      "close <SimulationDigitizer: sdigitizer>\n"
     ]
    }
   ],
   "source": [
    "virtual_dot_array.close()"
   ]
  }
 ],
 "metadata": {
  "kernelspec": {
   "display_name": "Python 3",
   "language": "python",
   "name": "python3"
  },
  "language_info": {
   "codemirror_mode": {
    "name": "ipython",
    "version": 3
   },
   "file_extension": ".py",
   "mimetype": "text/x-python",
   "name": "python",
   "nbconvert_exporter": "python",
   "pygments_lexer": "ipython3",
   "version": "3.6.3"
  }
 },
 "nbformat": 4,
 "nbformat_minor": 1
}
