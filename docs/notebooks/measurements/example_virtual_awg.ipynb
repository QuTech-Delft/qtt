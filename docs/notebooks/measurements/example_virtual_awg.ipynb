{
 "cells": [
  {
   "cell_type": "markdown",
   "metadata": {},
   "source": [
    "# Using the Virtual AWG"
   ]
  },
  {
   "cell_type": "markdown",
   "metadata": {},
   "source": [
    "The virtual AWG is an abstraction layer, which lets you define waveform sequences. The sequences can be upload to gates and played. The virtual AWG takes care of gates to AWG channel relation and creates the markers for the digitizer and interconnecting AWG's.\n",
    "\n",
    "In this example we will discuss the use of the virtual AWG in combination with a digitizer. We used the V1 setup with one Tektronix 5014 AWG's and one Spectrum M4i digitizer card as hardware."
   ]
  },
  {
   "cell_type": "code",
   "execution_count": 5,
   "metadata": {},
   "outputs": [],
   "source": [
    "import numpy as np\n",
    "import matplotlib.pyplot as plt\n",
    "\n",
    "from qupulse.pulses import FunctionPT\n",
    "from qupulse.pulses import SequencePT\n",
    "\n",
    "from qcodes.utils.validators import Numbers\n",
    "from qcodes.instrument.base import Instrument\n",
    "from qcodes.instrument.parameter import ManualParameter\n",
    "from qcodes.instrument_drivers.Spectrum.M4i import M4i\n",
    "from qcodes.instrument_drivers.tektronix.AWG5014 import Tektronix_AWG5014\n",
    "\n",
    "from qtt.instrument_drivers.virtualAwg.sequencer import DataTypes\n",
    "from qtt.instrument_drivers.virtualAwg.virtual_awg import VirtualAwg\n",
    "from qtt.measurements.scans import measuresegment as measure_segment"
   ]
  },
  {
   "cell_type": "markdown",
   "metadata": {},
   "source": [
    "First we need to create a HardwareSettings class that contains the awg map and the awg to gates. The awg map contains the relation between the AWG channels, markers and gates. The awg to gate defines the voltage loss caused by attenuation, filtering, etc. of the AWG channels. This is, the ratio between AWG channel output value and the voltage on the gate. In the past the class HardwareSettings was called hardware."
   ]
  },
  {
   "cell_type": "code",
   "execution_count": 4,
   "metadata": {
    "collapsed": true
   },
   "outputs": [],
   "source": [
    "class HardwareSettings(Instrument):\n",
    "\n",
    "    def __init__(self, name='settings'):\n",
    "        \"\"\" Contains the quantum chip settings:\n",
    "                awg_map: Relation between gate name and AWG number and AWG channel.\n",
    "                awg_to_gate: Scaling ratio between AWG output value and the voltoge on the gate.\n",
    "        \"\"\"\n",
    "        super().__init__(name)\n",
    "        awg_gates = {'X2': (0, 1), 'P7': (0, 2), 'P6': (0, 3), 'P5': (0, 4),\n",
    "                     'P2': (1, 1), 'X1': (1, 2), 'P3': (1, 3), 'P4': (1, 4)}\n",
    "        awg_markers = {'m4i_mk': (0, 4, 1)}\n",
    "        self.awg_map = {**awg_gates, **awg_markers}\n",
    "\n",
    "        for awg_gate in awg_gates:\n",
    "            parameter_name = 'awg_to_{}'.format(awg_gate)\n",
    "            parameter_label = '{} (factor)'.format(parameter_name)\n",
    "            self.add_parameter(parameter_name, parameter_class=ManualParameter,\n",
    "                               initial_value=1000.0, label=parameter_label, vals=Numbers(1, 1000))"
   ]
  },
  {
   "cell_type": "markdown",
   "metadata": {},
   "source": [
    "Last we define some functions to quickly plot the digitizer output data."
   ]
  },
  {
   "cell_type": "code",
   "execution_count": 6,
   "metadata": {
    "collapsed": true
   },
   "outputs": [],
   "source": [
    "def update_awg_settings(virtual_awg, sampling_rate, amplitude, marker_low, marker_high):\n",
    "    for awg_number in range(len(virtual_awg.awgs)):\n",
    "        virtual_awg.update_setting(awg_number, 'sampling_rate', sampling_rate)\n",
    "        virtual_awg.update_setting(awg_number, 'amplitudes', amplitude)\n",
    "        virtual_awg.update_setting(awg_number, 'marker_low', marker_low)\n",
    "        virtual_awg.update_setting(awg_number, 'marker_high', marker_high)\n",
    "\n",
    "def plot_data_1d(digitizer_data, label_x_axis='', label_y_axis=''):\n",
    "    plt.figure(); \n",
    "    plt.clf(); \n",
    "    plt.xlabel(label_x_axis)\n",
    "    plt.ylabel(label_y_axis)\n",
    "    plt.plot(digitizer_data.flatten(),'.b')\n",
    "    plt.show()\n",
    "\n",
    "def plot_data_2d(digitizer_data, label_x_axis='', label_y_axis='', label_colorbar=''):\n",
    "    plt.figure(); \n",
    "    plt.clf(); \n",
    "    im = plt.imshow(digitizer_data[0])\n",
    "    cbar = plt.colorbar(im)\n",
    "    plt.xlabel(label_x_axis)\n",
    "    plt.ylabel(label_y_axis)\n",
    "    cbar.ax.set_ylabel(label_colorbar)\n",
    "    plt.show()"
   ]
  },
  {
   "cell_type": "markdown",
   "metadata": {},
   "source": [
    "\n",
    "## Initializing the virtual AWG and digitizer"
   ]
  },
  {
   "cell_type": "markdown",
   "metadata": {},
   "source": [
    "Before we can start using the virtual AWG, an AWG output channel should be directly connected to the digitizer channel. The virtual AWG can be tested using this connection. We connected gate 'X2' to digitizer channel 0 for the XLD setup.\n",
    "\n",
    "After the hardware change the connection to the AWG's and digitizer. The hardware needs specific settings in order to work properly."
   ]
  },
  {
   "cell_type": "code",
   "execution_count": 7,
   "metadata": {},
   "outputs": [
    {
     "name": "stdout",
     "output_type": "stream",
     "text": [
      "Connected to: TEKTRONIX AWG5014 (serial:B010106, firmware:SCPI:99.0 FW:3.1.141.647) in 0.48s\n"
     ]
    }
   ],
   "source": [
    "digitizer = M4i(name='digitizer')\n",
    "\n",
    "sample_rate_in_Hz = 2e6\n",
    "digitizer.sample_rate(sample_rate_in_Hz)\n",
    "\n",
    "timeout_in_ms = 10 * 1000\n",
    "digitizer.timeout(timeout_in_ms)\n",
    "\n",
    "millivolt_range = 2000\n",
    "digitizer.initialize_channels(mV_range=millivolt_range)\n",
    "\n",
    "import pyspcm\n",
    "external_clock_mode = pyspcm.SPC_CM_EXTREFCLOCK\n",
    "digitizer.clock_mode(external_clock_mode)\n",
    "\n",
    "reference_clock_10mHz = int(1e7)\n",
    "digitizer.reference_clock(reference_clock_10mHz)\n",
    "\n",
    "# Initialize Tektronix AWG's\n",
    "trigger_level_in_Volt = 0.5\n",
    "clock_frequency_in_Hz = 1.0e7\n",
    "\n",
    "address_awg1 = 'GPIB1::5::INSTR'\n",
    "awg1 = Tektronix_AWG5014(name='awg1', address=address_awg1)\n",
    "awg1.clock_freq(clock_frequency_in_Hz)\n",
    "awg1.trigger_level(trigger_level_in_Volt)"
   ]
  },
  {
   "cell_type": "markdown",
   "metadata": {},
   "source": [
    "The virtual AWG and the settings object can be created once the hardware is connected."
   ]
  },
  {
   "cell_type": "code",
   "execution_count": 8,
   "metadata": {
    "collapsed": true
   },
   "outputs": [],
   "source": [
    "settings = HardwareSettings()\n",
    "virtual_awg = VirtualAwg([awg1], settings)\n",
    "\n",
    "uptime_in_seconds = 1.0e-5\n",
    "marker_delay_in_sec = 3.5e-5\n",
    "\n",
    "virtual_awg.update_digitizer_marker_settings(uptime_in_seconds, marker_delay_in_sec)\n",
    "\n",
    "output_amplitude = 0.5\n",
    "marker_low_level = 0.0\n",
    "marker_high_level = 2.6\n",
    "\n",
    "update_awg_settings(virtual_awg, clock_frequency_in_Hz, output_amplitude, marker_low_level, marker_high_level)"
   ]
  },
  {
   "cell_type": "markdown",
   "metadata": {},
   "source": [
    "## Sawtooth Sequence"
   ]
  },
  {
   "cell_type": "markdown",
   "metadata": {},
   "source": [
    "The most simple sequence to create is a sawtooth with a certain width. First upload the sawtooth to the AWG using the sweep_gates function on gate X2."
   ]
  },
  {
   "cell_type": "code",
   "execution_count": 9,
   "metadata": {
    "collapsed": true
   },
   "outputs": [],
   "source": [
    "output_gate = 'X2'\n",
    "mV_sweep_range = 50\n",
    "sec_period = 1.0e-3\n",
    "sweep_data = virtual_awg.sweep_gates({output_gate: 1}, mV_sweep_range, sec_period)"
   ]
  },
  {
   "cell_type": "markdown",
   "metadata": {},
   "source": [
    "Then enable the AWG channel and run the sequence. Start the recording of the digitizer with averaging a 100 times. Afterwards the AWG is stopped and the channel disabled. "
   ]
  },
  {
   "cell_type": "code",
   "execution_count": 10,
   "metadata": {},
   "outputs": [
    {
     "data": {
      "image/png": "[encoded data removed]",
      "text/plain": [
       "<matplotlib.figure.Figure at 0x12468e48>"
      ]
     },
     "metadata": {},
     "output_type": "display_data"
    }
   ],
   "source": [
    "virtual_awg.enable_outputs([output_gate])\n",
    "virtual_awg.run()\n",
    "\n",
    "readout_channels = [2]\n",
    "number_of_averages = 100\n",
    "data = measure_segment(sweep_data, number_of_averages, digitizer, readout_channels)\n",
    "\n",
    "virtual_awg.stop()\n",
    "virtual_awg.disable_outputs([output_gate])\n",
    "\n",
    "plot_data_1d(data, 'Digitizer Data Points [a.u.]', 'Amplitude [V]')"
   ]
  },
  {
   "cell_type": "markdown",
   "metadata": {},
   "source": [
    "## Pulse Sequence"
   ]
  },
  {
   "cell_type": "markdown",
   "metadata": {},
   "source": [
    "Run a square wave on gate X2. Collect the data using a digitizer with 100 times averaging."
   ]
  },
  {
   "cell_type": "code",
   "execution_count": 11,
   "metadata": {},
   "outputs": [
    {
     "data": {
      "image/png": "[encoded data removed]",
      "text/plain": [
       "<matplotlib.figure.Figure at 0x124281d0>"
      ]
     },
     "metadata": {},
     "output_type": "display_data"
    }
   ],
   "source": [
    "output_gate = 'X2'\n",
    "mV_sweep_range = 50\n",
    "sec_period = 1.0e-3\n",
    "sweep_data = virtual_awg.pulse_gates({output_gate: 1}, mV_sweep_range, sec_period)\n",
    "\n",
    "virtual_awg.enable_outputs([output_gate])\n",
    "virtual_awg.run()\n",
    "\n",
    "readout_channels = [2]\n",
    "number_of_averages = 100\n",
    "data = measure_segment(sweep_data, number_of_averages, digitizer, readout_channels, process=False)\n",
    "\n",
    "virtual_awg.stop()\n",
    "virtual_awg.disable_outputs([output_gate])\n",
    "\n",
    "plot_data_1d(data, 'Digitizer Data Points [a.u.]', 'Amplitude [V]')"
   ]
  },
  {
   "cell_type": "markdown",
   "metadata": {},
   "source": [
    "## Pulse combination on Two Gates"
   ]
  },
  {
   "cell_type": "markdown",
   "metadata": {},
   "source": [
    "Supplies sawtooth signals to a linear combination of gates, which effectively does a 2D scan. Collect the data of one axes using the digitizer with 100 times averaging."
   ]
  },
  {
   "cell_type": "code",
   "execution_count": 12,
   "metadata": {},
   "outputs": [
    {
     "data": {
      "image/png": "[encoded data removed]",
      "text/plain": [
       "<matplotlib.figure.Figure at 0x12c58a90>"
      ]
     },
     "metadata": {},
     "output_type": "display_data"
    }
   ],
   "source": [
    "sec_period = 5.0e-5\n",
    "resolution = [32, 32]\n",
    "mV_sweep_ranges = [100, 100]\n",
    "output_gates = [{'X2': 1}, {'P7': 1}]\n",
    "sweep_data = virtual_awg.sweep_gates_2d(output_gates, mV_sweep_ranges, sec_period, resolution)\n",
    "\n",
    "virtual_awg.enable_outputs(['X2', 'P7'])\n",
    "virtual_awg.run()\n",
    "\n",
    "number_of_averages = 100\n",
    "readout_channels = [2]\n",
    "data = measure_segment(sweep_data, number_of_averages, digitizer, readout_channels)\n",
    "\n",
    "virtual_awg.disable_outputs(['X2', 'P7'])\n",
    "virtual_awg.stop()\n",
    "\n",
    "plot_data_2d(data, 'Pixel X [a.u.]', 'Pixel Y [a.u.]', 'Amplitude [V]')"
   ]
  },
  {
   "cell_type": "markdown",
   "metadata": {},
   "source": [
    "## Apply custom Sequence on Gate"
   ]
  },
  {
   "cell_type": "markdown",
   "metadata": {},
   "source": [
    "Create a decaying sine-wave sequence using QuPulse"
   ]
  },
  {
   "cell_type": "code",
   "execution_count": 13,
   "metadata": {
    "collapsed": true
   },
   "outputs": [],
   "source": [
    "sec_to_ns = 1.0e9\n",
    "\n",
    "mV_amplitude = 25\n",
    "sec_period = 1.0e-3\n",
    "sine_decay = 5e5\n",
    "sine_period = 2 * np.pi * 1e-2 * sec_period\n",
    "\n",
    "pulse_function = FunctionPT('alpha*exp(-t/tau)*sin(phi*t)', 'duration')\n",
    "input_variables = {'alpha': mV_amplitude, 'tau': sine_decay, 'phi': sine_period, 'duration': sec_period * sec_to_ns}\n",
    "\n",
    "other = (pulse_function, input_variables)\n",
    "sequence_data = {'name': 'test', 'wave': SequencePT(*(other,)), 'type': DataTypes.QU_PULSE}\n",
    "sequence = {'X2': sequence_data}\n",
    "\n",
    "sequence.update(virtual_awg._VirtualAwg__make_markers(sec_period))"
   ]
  },
  {
   "cell_type": "markdown",
   "metadata": {},
   "source": [
    "Upload the QuPulse sequence onto the AWG. Play the sequence and collect the data using the digitizer with 100 averaging."
   ]
  },
  {
   "cell_type": "code",
   "execution_count": 15,
   "metadata": {},
   "outputs": [
    {
     "data": {
      "image/png": "[encoded data removed]",
      "text/plain": [
       "<matplotlib.figure.Figure at 0x12c60550>"
      ]
     },
     "metadata": {},
     "output_type": "display_data"
    }
   ],
   "source": [
    "sweep_data = virtual_awg.sequence_gates(sequence)\n",
    "sweep_data.update({\n",
    "    'period': sec_period,\n",
    "    'samplerate': virtual_awg.awgs[0].retrieve_setting('sampling_rate'),\n",
    "    'markerdelay': virtual_awg.digitizer_marker_delay()\n",
    "})\n",
    "\n",
    "virtual_awg.enable_outputs(['X2'])\n",
    "virtual_awg.run()\n",
    "\n",
    "number_of_averages = 100\n",
    "readout_channels = [2]\n",
    "data = measure_segment(sweep_data, number_of_averages, digitizer, readout_channels, process=False)\n",
    "\n",
    "virtual_awg.disable_outputs(['X2'])\n",
    "virtual_awg.stop()\n",
    "\n",
    "plot_data_1d(data, 'Digitizer Data Points [a.u.]', 'Amplitude [V]')"
   ]
  },
  {
   "cell_type": "code",
   "execution_count": null,
   "metadata": {
    "collapsed": true
   },
   "outputs": [],
   "source": []
  }
 ],
 "metadata": {
  "kernelspec": {
   "display_name": "Python 3",
   "language": "python",
   "name": "python3"
  },
  "language_info": {
   "codemirror_mode": {
    "name": "ipython",
    "version": 3
   },
   "file_extension": ".py",
   "mimetype": "text/x-python",
   "name": "python",
   "nbconvert_exporter": "python",
   "pygments_lexer": "ipython3",
   "version": "3.6.7"
  }
 },
 "nbformat": 4,
 "nbformat_minor": 2
}
