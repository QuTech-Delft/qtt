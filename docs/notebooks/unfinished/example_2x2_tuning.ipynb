{
 "cells": [
  {
   "cell_type": "markdown",
   "metadata": {},
   "source": [
    "# Simulated charge stability diagrams for a 2x2 quantum dot system"
   ]
  },
  {
   "cell_type": "markdown",
   "metadata": {},
   "source": [
    "This example shows how to use `qtt.simulation.dotsystem` to define a Hubbard-based model system of a 4 quantum dot array in a 2x2 plaquette configuration. Here we will use this model system to reproduce the Fig 1c plot from https://aip.scitation.org/doi/10.1063/1.5025928 "
   ]
  },
  {
   "cell_type": "code",
   "execution_count": 1,
   "metadata": {},
   "outputs": [],
   "source": [
    "%matplotlib inline\n",
    "\n",
    "import numpy as np\n",
    "import matplotlib.pyplot as plt\n",
    "\n",
    "import qtt.simulation.dotsystem as dotsystem"
   ]
  },
  {
   "cell_type": "markdown",
   "metadata": {},
   "source": [
    "Define some extra helper functions:"
   ]
  },
  {
   "cell_type": "code",
   "execution_count": 2,
   "metadata": {},
   "outputs": [],
   "source": [
    "def gates_from_det(dot_system, det_values=None):\n",
    "    \"\"\" Sets the correct gate voltages. Run this function after setting the detuning variables.\"\"\"\n",
    "    if det_values:\n",
    "        return np.dot(np.linalg.inv(dot_system.la_matrix), det_values)\n",
    "    det_values = [getattr(dot_system, 'det%d' % (i + 1)) for i in range(dot_system.ndots)]\n",
    "    gate_values = np.dot(np.linalg.inv(dot_system.la_matrix), det_values)\n",
    "    for i in range(dot_system.ndots):\n",
    "        setattr(dot_system, 'P%d' % (i + 1), gate_values[i])\n",
    "    return gate_values\n",
    "\n",
    "\n",
    "def det_from_gates(dot_system, plunger_values=None):\n",
    "    \"\"\" Sets the correct detuning variables that matches the gate combination.\n",
    "        Run this function after setting the gate voltages.\n",
    "    \"\"\"\n",
    "    if plunger_values:\n",
    "        return np.dot(dot_system.la_matrix, plunger_values)\n",
    "    plunger_values = np.array([getattr(dot_system, 'P%d' % (i + 1)) for i in range(dot_system.ndots)])\n",
    "    det_values = np.dot(dot_system.la_matrix, plunger_values)\n",
    "    for i in range(dot_system.ndots):\n",
    "        setattr(dot_system, 'det%d' % (i + 1), det_values[i])\n",
    "    return det_values\n",
    "\n",
    "\n",
    "def parse_scan_parameters(dot_system, scan_parameters, scan_steps, scan_range):\n",
    "    \"\"\" Used to parse the input to the simulate_honeycomb function.\"\"\"\n",
    "    half_range = scan_range/2\n",
    "    scan_steps_x, scan_steps_y = scan_steps\n",
    "    scan_min_max = [[-half_range, half_range, -half_range, half_range],\n",
    "               [-half_range, -half_range, half_range, half_range]]\n",
    "    dot_system.makeparamvalues2D(scan_parameters, scan_min_max, scan_steps_x, scan_steps_y)\n",
    "    \n",
    "    if scan_parameters[0].startswith('det'):\n",
    "        for parameter in dot_system.scan_parameters:\n",
    "            dot_system.vals2D[pn] += getattr(dot_system, parameter)\n",
    "            parameters = dot_system.vals2D.copy()\n",
    "        return parameters\n",
    "\n",
    "    initial_values = dot_system.getall('det')\n",
    "    det = [np.zeros(dot_system.vals2D[scan_parameters[0]].shape) for i in range (dot_system.ndots)]\n",
    "    params = dot_system.vals2D.copy()\n",
    "    dict_params = {}\n",
    "    for name in scan_parameters:\n",
    "        if '{' in name:\n",
    "            dict_prop = eval(name)\n",
    "            for name2, prop in dict_prop.items():\n",
    "                dict_params[name2] = getattr(dot_system, name2) + params[name] * prop\n",
    "        else: \n",
    "            dict_params[name] = getattr(dot_system, name) + params[name]        \n",
    "    for step_x in range(scan_steps_x):\n",
    "        for step_y in range(scan_steps_y):\n",
    "            for pn, pv in dict_params.items():\n",
    "                setattr(dot_system, pn, pv[step_x, step_y])\n",
    "            det_temp = det_from_gates(dot_system)\n",
    "            for k in range(len(det_temp)):\n",
    "                det[k][step_x, step_y] = det_temp[k]\n",
    "\n",
    "    dot_system.setall('det', initial_values)\n",
    "\n",
    "    dot_system.vals2D = {}\n",
    "    for i in range(len(det)):\n",
    "        dot_system.vals2D['det%i' % (i + 1)] = det[i]\n",
    "    \n",
    "    return params\n",
    "\n",
    "\n",
    "def show_charge_occupation_numbers_on_click(dot_system, x_data, y_data, number_of_clicks=1):\n",
    "    \"\"\" Shows the charge occupation numbers at the clicked points in the plotted charge stability diagram.\n",
    "    \n",
    "    Args:\n",
    "        dot_system (dot_system): The simulated dot system.\n",
    "        x_data (np.array): The parsed result data from the independent gate variable.\n",
    "        y_data (np.array): The parsed result data from the dependent gate variable.\n",
    "        number_of_clicks (int): The number of times the occupation numbers should be printed.\n",
    "    \"\"\"\n",
    "    mV_minimum_x = x_data.min()\n",
    "    mV_minimum_y = y_data.min()\n",
    "    mV_range_x = x_data.max() - mV_minimum_x\n",
    "    mV_range_y = y_data.max() - mV_minimum_y\n",
    "    pixels_range_x, pixels_range_y = np.shape(x_data)\n",
    "    \n",
    "    for i in range(number_of_clicks):\n",
    "        mouse_clicks = plt.ginput()\n",
    "        (mV_coordinate_x, mV_coordinate_y) = mouse_clicks[0]\n",
    "\n",
    "        x_index = int((mV_coordinate_x - mV_minimum_x) / mV_range_x * pixels_range_x)\n",
    "        y_index = int((mV_coordinate_y - mV_minimum_y) / mV_range_y * pixels_range_y)\n",
    "\n",
    "        charge_occupation_numbers = str(dot_system.hcgs[x_index, y_index])\n",
    "        plt.text(mV_coordinate_x, mV_coordinate_y, charge_occupation_numbers)"
   ]
  },
  {
   "cell_type": "markdown",
   "metadata": {},
   "source": [
    "## Initialize the model system with the experimental parameters"
   ]
  },
  {
   "cell_type": "code",
   "execution_count": 3,
   "metadata": {},
   "outputs": [
    {
     "name": "stdout",
     "output_type": "stream",
     "text": [
      "Current gate voltages: P1=35.83 mV, P2=11.19 mV, P3=-8.40 mV, P4=-12.29 mV\n"
     ]
    }
   ],
   "source": [
    "two_by_two = dotsystem.TwoXTwo()\n",
    "\n",
    "# cross-capacitance matrix and lever arms\n",
    "#                                     P1      P2     P3     P4\n",
    "cross_capacitance_matrix = np.array([[ 1.00,  0.45,  0.54,  0.87],  # Dot 1\n",
    "                                     [ 0.65,  1.00,  0.47,  0.50],  # Dot 2\n",
    "                                     [ 0.17,  0.47,  1.00,  0.24],  # Dot 3\n",
    "                                     [ 0.44,  0.35,  0.88,  1.00]]) # Dot 4\n",
    "\n",
    "det_to_plunger = np.array([0.039 * np.ones(4), 0.041 * np.ones(4),\n",
    "                           0.054 * np.ones(4), 0.031 * np.ones(4)]) # meV/mV\n",
    "\n",
    "two_by_two.la_matrix = cross_capacitance_matrix * det_to_plunger\n",
    "\n",
    "# All the following values in meV\n",
    "# On-site interaction per dot\n",
    "two_by_two.set_on_site_charging(1,  2.5)\n",
    "two_by_two.set_on_site_charging(2,  2.3)\n",
    "two_by_two.set_on_site_charging(3,  3)\n",
    "two_by_two.set_on_site_charging(4,  1.8)\n",
    "\n",
    "# Intersite interaction per pairs of dots\n",
    "\n",
    "pairs=[(1,2),(2,3),(3,4),(4,1), (1,3), (2,4)]\n",
    "values=[0.47, 0.35,0.43,0.30,0.28,0.18 ]\n",
    "for ii, pair in enumerate(pairs):\n",
    "    name = two_by_two.inter_site_charging_name(*pair)\n",
    "    setattr(two_by_two, name, values[ii])\n",
    "\n",
    "# Tunnel coupling per pairs of dots\n",
    "two_by_two.tun1 = 0.02 # 1-2\n",
    "two_by_two.tun2 = 0.02 # 2-3\n",
    "two_by_two.tun3 = 0.02 # 3-4\n",
    "two_by_two.tun4 = 0.02 # 4-1\n",
    "\n",
    "# Energy offsets per dot (0 is the boundary for adding 1 electron)\n",
    "two_by_two.set_chemical_potential(1, 1.)\n",
    "two_by_two.set_chemical_potential(2, 1.)\n",
    "two_by_two.set_chemical_potential(3, 0.)\n",
    "two_by_two.set_chemical_potential(4, 0.)\n",
    "\n",
    "gate_voltages = gates_from_det(two_by_two) # This adds the gate voltages (tbt.P#, in mV) that result in the above detuning\n",
    "print('Current gate voltages: P1={:.2f} mV, P2={:.2f} mV, P3={:.2f} mV, P4={:.2f} mV'.format(*gate_voltages))"
   ]
  },
  {
   "cell_type": "markdown",
   "metadata": {},
   "source": [
    "## Run a 2D gate scan simulation and plot the charge stability diagram"
   ]
  },
  {
   "cell_type": "code",
   "execution_count": 4,
   "metadata": {},
   "outputs": [
    {
     "name": "stdout",
     "output_type": "stream",
     "text": [
      "simulatehoneycomb: 0/101\n",
      "simulatehoneycomb: 4/101\n",
      "simulatehoneycomb: 8/101\n",
      "simulatehoneycomb: 12/101\n",
      "simulatehoneycomb: 17/101\n",
      "simulatehoneycomb: 21/101\n",
      "simulatehoneycomb: 25/101\n",
      "simulatehoneycomb: 29/101\n",
      "simulatehoneycomb: 33/101\n",
      "simulatehoneycomb: 37/101\n",
      "simulatehoneycomb: 40/101\n",
      "simulatehoneycomb: 44/101\n",
      "simulatehoneycomb: 49/101\n",
      "simulatehoneycomb: 54/101\n",
      "simulatehoneycomb: 58/101\n",
      "simulatehoneycomb: 62/101\n",
      "simulatehoneycomb: 67/101\n",
      "simulatehoneycomb: 72/101\n",
      "simulatehoneycomb: 77/101\n",
      "simulatehoneycomb: 81/101\n",
      "simulatehoneycomb: 85/101\n",
      "simulatehoneycomb: 89/101\n",
      "simulatehoneycomb: 93/101\n",
      "simulatehoneycomb: 97/101\n",
      "simulatehoneycomb: 26.95 [s]\n"
     ]
    },
    {
     "data": {
      "image/png": "[encoded data removed]",
      "text/plain": [
       "<Figure size 432x288 with 1 Axes>"
      ]
     },
     "metadata": {},
     "output_type": "display_data"
    }
   ],
   "source": [
    "scan_parameters = ['P2', 'P4']\n",
    "parameter_x, parameter_y = scan_parameters\n",
    "scan_steps = [101, 101]\n",
    "scan_range = 150\n",
    "\n",
    "parsed_results = parse_scan_parameters(two_by_two, scan_parameters, scan_steps, scan_range)\n",
    "two_by_two.simulatehoneycomb(multiprocess=False)\n",
    "\n",
    "x_values = parsed_results[parameter_x]\n",
    "y_values = parsed_results[parameter_y]\n",
    "\n",
    "plt.figure()\n",
    "plt.pcolor(x_values, y_values, two_by_two.honeycomb)\n",
    "plt.xlabel(\"{0} (mV)\".format(parameter_x))\n",
    "plt.ylabel(\"{0} (mV)\".format(parameter_y))\n",
    "_ = plt.title('Charge stability diagram')"
   ]
  },
  {
   "cell_type": "markdown",
   "metadata": {},
   "source": [
    "If you would like to check the charge occupation states at different points in the charge stability diagram, you can do that using the method below, but you first need to change the first line of the first cell to `%pylab tk` and re-run the kernel, so that the 2D plot shows up in a new window that allows for clicking functionality."
   ]
  },
  {
   "cell_type": "code",
   "execution_count": 6,
   "metadata": {
    "scrolled": true
   },
   "outputs": [],
   "source": [
    "show_charge_occupation_numbers_on_click(two_by_two, x_values, y_values, number_of_clicks=4)"
   ]
  },
  {
   "cell_type": "code",
   "execution_count": null,
   "metadata": {},
   "outputs": [],
   "source": []
  }
 ],
 "metadata": {
  "kernelspec": {
   "display_name": "Python 3",
   "language": "python",
   "name": "python3"
  },
  "language_info": {
   "codemirror_mode": {
    "name": "ipython",
    "version": 3
   },
   "file_extension": ".py",
   "mimetype": "text/x-python",
   "name": "python",
   "nbconvert_exporter": "python",
   "pygments_lexer": "ipython3",
   "version": "3.6.3"
  }
 },
 "nbformat": 4,
 "nbformat_minor": 2
}
