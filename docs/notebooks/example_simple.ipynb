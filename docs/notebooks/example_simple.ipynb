{
 "cells": [
  {
   "cell_type": "markdown",
   "metadata": {},
   "source": [
    "# Perform simple measurements with the qtt measurement functions"
   ]
  },
  {
   "cell_type": "code",
   "execution_count": 2,
   "metadata": {},
   "outputs": [],
   "source": [
    "import qcodes as qc\n",
    "import qtt\n",
    "import numpy as np"
   ]
  },
  {
   "cell_type": "markdown",
   "metadata": {},
   "source": [
    "## Measurements with Parameters"
   ]
  },
  {
   "cell_type": "markdown",
   "metadata": {},
   "source": [
    "We first a virtual dot system."
   ]
  },
  {
   "cell_type": "code",
   "execution_count": 6,
   "metadata": {},
   "outputs": [
    {
     "name": "stdout",
     "output_type": "stream",
     "text": [
      "initialize: create virtualdot\n"
     ]
    }
   ],
   "source": [
    "import qtt.simulation.virtual_dot_array\n",
    "station=qtt.simulation.virtual_dot_array.initialize()\n",
    "gates=station.gates"
   ]
  },
  {
   "cell_type": "markdown",
   "metadata": {},
   "source": [
    "We can read out instruments using a qcodes `Parameter`."
   ]
  },
  {
   "cell_type": "code",
   "execution_count": 9,
   "metadata": {},
   "outputs": [
    {
     "name": "stdout",
     "output_type": "stream",
     "text": [
      "-0.10818020270518602\n"
     ]
    }
   ],
   "source": [
    "value=gates.P1.get(); print(value)"
   ]
  },
  {
   "cell_type": "markdown",
   "metadata": {},
   "source": [
    "## Measurements with the qcodes Loop"
   ]
  },
  {
   "cell_type": "markdown",
   "metadata": {},
   "source": [
    "For simple measurements we can use the qcodes `Loop` construction. For example to step through gate `P1` and measure the output of `keithley1` we can do"
   ]
  },
  {
   "cell_type": "code",
   "execution_count": 13,
   "metadata": {},
   "outputs": [
    {
     "name": "stdout",
     "output_type": "stream",
     "text": [
      "Started at 2018-07-08 22:13:34\n",
      "DataSet:\n",
      "   location = '2018-07-08/22-13-34_qtt_generic'\n",
      "   <Type>   | <array_id>          | <array.name> | <array.shape>\n",
      "   Setpoint | gates_P1_set        | P1           | (10,)\n",
      "   Measured | keithley1_amplitude | amplitude    | (10,)\n",
      "Finished at 2018-07-08 22:13:34\n"
     ]
    }
   ],
   "source": [
    "dataset = qc.Loop( gates.P1[0:10:1]).each(station.keithley1.amplitude).run()"
   ]
  },
  {
   "cell_type": "markdown",
   "metadata": {},
   "source": [
    "## Custom measurement loops"
   ]
  },
  {
   "cell_type": "markdown",
   "metadata": {
    "collapsed": true
   },
   "source": [
    "The qcodes loop is not suitable for all measurements. You can also write your own loop constructions. There are already several constructions available. For example make a 2D scan one can use the `qtt.scans.scan2D`"
   ]
  },
  {
   "cell_type": "code",
   "execution_count": 16,
   "metadata": {},
   "outputs": [
    {
     "name": "stdout",
     "output_type": "stream",
     "text": [
      "scan2D: 0/7: time 00:00:00 (~00:00:00 remaining): setting P2 to 0.000\n"
     ]
    }
   ],
   "source": [
    "import qtt.measurements.scans\n",
    "scanjob=qtt.measurements.scans.scanjob_t({'sweepdata': {'param':'P1', 'start':20,'end':28,'step': 1.75} , \n",
    "         'stepdata': {'param': 'P2', 'start': 0, 'end': 7, 'step': 1}, 'minstrument': ['keithley1.amplitude']})\n",
    "dataset=qtt.measurements.scans.scan2D(station, scanjob)"
   ]
  },
  {
   "cell_type": "code",
   "execution_count": 17,
   "metadata": {},
   "outputs": [
    {
     "name": "stdout",
     "output_type": "stream",
     "text": [
      "DataSet:\n",
      "   location = '2018-07-08/22-14-07_qtt_scan2D'\n",
      "   <Type>   | <array_id>          | <array.name>        | <array.shape>\n",
      "   Measured | keithley1_amplitude | keithley1_amplitude | (7, 5)\n",
      "   Setpoint | P2                  | P2                  | (7,)\n",
      "   Setpoint | P1                  | P1                  | (7, 5)\n"
     ]
    }
   ],
   "source": [
    "print(dataset)"
   ]
  },
  {
   "cell_type": "markdown",
   "metadata": {},
   "source": [
    "The raw data is available as a DataArray or numpy array."
   ]
  },
  {
   "cell_type": "code",
   "execution_count": 18,
   "metadata": {},
   "outputs": [
    {
     "name": "stdout",
     "output_type": "stream",
     "text": [
      "DataArray[7,5]: keithley1_amplitude\n",
      "array([[2.98953831, 2.98907889, 2.98936721, 2.98985878, 2.99650391],\n",
      "       [2.98970857, 2.98913416, 2.99607831, 2.99612796, 2.99621545],\n",
      "       [2.99089518, 2.99785035, 2.99187417, 2.99733436, 2.99607871],\n",
      "       [2.99539922, 2.99224066, 2.99235583, 2.9976009 , 2.99569097],\n",
      "       [2.99320984, 2.99167659, 2.99721842, 2.99031828, 2.99657212],\n",
      "       [2.99319389, 2.9925541 , 2.99753604, 2.99428183, 2.99101166],\n",
      "       [2.99215882, 2.99676312, 2.99429774, 2.99202304, 2.99429357]])\n"
     ]
    }
   ],
   "source": [
    "print(dataset.default_parameter_array())"
   ]
  },
  {
   "cell_type": "code",
   "execution_count": 20,
   "metadata": {},
   "outputs": [
    {
     "name": "stdout",
     "output_type": "stream",
     "text": [
      "keithley1_amplitude\n",
      "[[2.98953831 2.98907889 2.98936721 2.98985878 2.99650391]\n",
      " [2.98970857 2.98913416 2.99607831 2.99612796 2.99621545]\n",
      " [2.99089518 2.99785035 2.99187417 2.99733436 2.99607871]\n",
      " [2.99539922 2.99224066 2.99235583 2.9976009  2.99569097]\n",
      " [2.99320984 2.99167659 2.99721842 2.99031828 2.99657212]\n",
      " [2.99319389 2.9925541  2.99753604 2.99428183 2.99101166]\n",
      " [2.99215882 2.99676312 2.99429774 2.99202304 2.99429357]]\n"
     ]
    }
   ],
   "source": [
    "print(dataset.default_parameter_name())\n",
    "print(np.array(dataset.default_parameter_array()))"
   ]
  },
  {
   "cell_type": "code",
   "execution_count": null,
   "metadata": {
    "collapsed": true
   },
   "outputs": [],
   "source": []
  }
 ],
 "metadata": {
  "kernelspec": {
   "display_name": "Python 3",
   "language": "python",
   "name": "python3"
  },
  "language_info": {
   "codemirror_mode": {
    "name": "ipython",
    "version": 3
   },
   "file_extension": ".py",
   "mimetype": "text/x-python",
   "name": "python",
   "nbconvert_exporter": "python",
   "pygments_lexer": "ipython3",
   "version": "3.6.3"
  }
 },
 "nbformat": 4,
 "nbformat_minor": 1
}
